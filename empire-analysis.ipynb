{
 "cells": [
  {
   "attachments": {},
   "cell_type": "markdown",
   "metadata": {},
   "source": [
    "<a id='top'></a>\n",
    "# Analysis of the State and Evolution of Empirical Research in Requirements Engineering\n",
    "\n",
    "**Remark:** This Jupyter Notebook is supplementary material for the paper \"*Divide and Conquer the EmpiRE: A Community-Maintained Body of Knowledge of Empirical Research in Requirements Engineering*\", submitted to the [17th ACM/IEEE International Symposium on Empirical Software Engineering and Measurement](https://conf.researchr.org/home/esem-2023).\n",
    "\n",
    "<details>\n",
    "  <summary>Table of Contents</summary>\n",
    "\n",
    "1. [Summary](#step1)\n",
    "2. [Reusable Functions for Data Analysis](#step2)\n",
    "3. [Analysis of Competency Question](#step3)\n",
    "    \n",
    "    3.1 [How has the number of empirical studies evolved over time?](#q1)\n",
    "\n",
    "    3.2 [How often are which empirical methods used over time?](#q2)\n",
    "    \n",
    "    3.3 [How has the number of papers that do not have an empirical study evolved over time?](#q3)\n",
    "    \n",
    "    3.4 [How often are which empirical methods used?](#q4)\n",
    "\n",
    "    3.5 [How have the proportions of experiments, secondary research (reviews), surveys, case studies, and action research in the empirical methods used evolved over time?](#q5)\n",
    "    \n",
    "    3.6 [How often are which statistical methods used?](#q6)\n",
    "    \n",
    "    3.7 [How has the use of statistical methods evolved over time?](#q7)\n",
    "    \n",
    "    3.8 [How has the reporting of threats to validity evolved over time?](#q8)\n",
    "    \n",
    "    3.9 [What types of threats to validity do the authors report?](#q9)\n",
    "    \n",
    "    3.10 [How have the proportions of case studies and action research in the empirical methods used evolved over time?](#q10)\n",
    "    \n",
    "    3.11 [How has the provision of data (the materials used, the raw data collected, and the study results identified) evolved over time?](#q11)\n",
    "    \n",
    "    3.12 [How has the reporting of research questions and answers evolved over time?](#q12)\n",
    "    \n",
    "    3.13 [What empirical methods are used to conduct integrative and interpretive (systematic literature) reviews, so-called secondary research?](#q13)\n",
    "    \n",
    "    3.14 [How has the proportions of empirical methods to conduct (systematic literature) reviews, so-called secondary research, evolved over time?](#q14)\n",
    "    \n",
    "    3.15 [How many different empirical methods are used per publication?](#q15)\n",
    "    \n",
    "    3.16 [How has the number of empirical methods used per publication evolved over time?](#q16)\n",
    "</details>\n",
    "\n",
    "---"
   ]
  },
  {
   "attachments": {},
   "cell_type": "markdown",
   "metadata": {},
   "source": [
    "<a id='step1'></a>\n",
    "## 1. Summary\n",
    "\n",
    "## Context\n",
    "Empirical research in Requirements Engineering (RE) has become an important topic and research area. Over the years, several researchers examined how empirical research in RE is \"currently\" conducted and how it should be conducted in the future by presenting snapshots of the \"current\" state of empirical research in RE and, more generally, in Software Engineering (SE). These researchers share the same goal of synthesizing a comprehensive, current, and long-term available overview of the state and evolution of empirical research in RE and SE. Although they share the same goal, use similar methods, i.e., (systematic) literature reviews or systematic mapping studies, and even examine overlapping periods, venues, and themes, they have not collaborated to build on and update previous work. **Lack of collaboration and updating are known challenges of literature reviews.** Overcoming these challenges is critical to ensure the quality, reliability, and timeliness of research findings from literature reviews.\n",
    "\n",
    "## Motivation\n",
    "Current research addresses the above challenges by focusing on when and how to update (systematic) literature reviews in SE and its subfields. While these works provide social and economic decision support and guidance for updating literature reviews, **the central problem is the unavailability of the extracted and analyzed data**, corresponding to open science in SE. Unavailable data complicates collaboration among researchers in updating a literature review as the entire data collection, extraction, and analysis must be repeated and expanded for a comprehensive review. Researchers need adequate technical support in the form of infrastructures and services to achieve sustainable literature reviews with all available data. These infrastructures must ensure that the data is Findable, Accessible, Interoperable, and Reusable (FAIR) over the long term following the FAIR data principles. For this purpose, the data must be organized in a flexible, fine-grained, context-sensitive, and semantic representation to be understandable, processable, and useful to humans and machines. Over the last decade, Knowledge Graphs (KGs) became an emerging technology in industry and academia as they enable this versatile data representation. Besides well-known KGs for encyclopedic and factual data, such as [DBpedia](https://www.dbpedia.org/) and [WikiData](https://www.wikidata.org), using so-called Research Knowledge Graphs (RKGs) for scientific data is a rather new approach. RKGs include bibliographic metadata, e.g., titles, authors, and venues, as well as scientific data, e.g., research designs, methods, and results. They are a promising technology to sustainably organize scientific data, e.g., extracted and analyzed data of literature reviews, as a body of knowledge that can be built, published, maintained, (re)used, updated, and expanded in a long-term and collaborative manner.\n",
    "\n",
    "## Objective\n",
    "**Our longterm objective is to develop a body of knowledge that synthesizes a comprehensive, current, and long-term available overview of the state and evolution of empirical research in RE**. For this purpose, we start to explore using RKGs as technical infrastructure for building, publishing, (re)using, updating, and expanding an initial body of knowledge of empirical research in RE (EmpiRE), that the research community can maintain by *dividing* the efforts to *conquer* the EmpiRE. In particular, we explore using the Open Research Knowledge Graph ([ORKG](https://orkg.org/)), a cross-domain and cross-topic RKG that provides accompanying services using intertwined human and machine intelligence by combining manual crowdsourcing and automated approaches to organize scientific data. With this work, we lay the foundation for such a comprehensive, current, and long-term available overview of the state and evolution of empirical research in RE by building, publishing, and evaluating an initial informed and reflected body of knowledge of empirical research in RE.\n",
    "\n",
    "## Approach\n",
    "<p align=\"center\">\n",
    "    <img src=\"Figures/approach.png\" width=\"600\"/>\n",
    "    \n",
    "</p>\n",
    "<p align=\"center\">\n",
    "    <em>Research approach for developing, publishing, and evaluating an intial informed and reflected body of knowledge of empirical research in RE.</em>\n",
    "</p>\n",
    "\n",
    "Our research approach consists of three steps: Data collection, Data extraction, and Data analysis. So far, **we collected 411 papers** published in the research track of the [IEEE International Requirements Engineering Conference](https://ieeexplore.ieee.org/xpl/conhome/1000630/all-proceedings) from 2006 to 2022. **We extracted and organized their scientific data**, i.a., research paradigm, research design, empirical method (data collection and data analysis), and bibliographic metadata using a developed [ORKG template](https://orkg.org/template/R186491). ORKG templates allow specifying the structure of descriptions of papers similar to SHACL shapes. In this way, we determined which data should be extracted and ensured that all the descriptions of papers are consistent and comparable to **build and publish an initial informed and reflected body of knowledge of empirical research in RE**.\n",
    "\n",
    "In this Jupyter Notebook, we perform the data analysis of the developed body of knowledge of empirical research in RE, which has two purposes:\n",
    "\n",
    "(1) We want to get first insights into the state and evolution of empirical research in RE by analyzing the developed body of knowledge.\n",
    "\n",
    "(2) We want to evaluate the body of knowledge concerning its coverage of the curated topic.\n",
    "\n",
    "The data analysis is based on competency questions regarding empirical research in all fields of SE, including RE, derived from the vision of [Sjøberg et al. (2007)](https://doi.org/10.1109/FOSE.2007.30). [Sjøberg et al. (2007)](https://doi.org/10.1109/FOSE.2007.30) describe their vision of the role of empirical methods in all fields of SE, including RE, for the current period of 2020 – 2025 by comparing the **\"current\" state of practice (2007)** with their **target state (2020 - 2025)**. We analyzed these descriptions and derived a total of [77 competency questions](competency-questions.xlsx). For each competency question, we assessed whether we can answer the question with the developed body of knowledge. Subsequently, we specified the answerable competency questions as [SPARQL](https://www.w3.org/TR/sparql11-query/) queries to retrieve and analyze the data from the [ORKG](https://orkg.org/). In this way, **we obtain answers to the competency questions and thus gain first insights into the state and evolution of empirical research in RE**.\n",
    "\n",
    "Below, we present an overview of the competency question answered. The details of each analysis are presented in corresponding sections.\n",
    "\n",
    "<details>\n",
    "  <summary>Competency questions answered:</summary>\n",
    "  \n",
    "1. [How has the number of empirical studies evolved over time?](#q1)\n",
    "2. [How often are which empirical methods used over time?](#q2)\n",
    "3. [How has the number of papers that do not have an empirical study evolved over time?](#q3)\n",
    "4. [How often are which empirical methods used?](#q4)\n",
    "5. [How have the proportions of experiments, secondary research (reviews), surveys, case studies, and action research in the empirical methods used evolved over time?](#q5)\n",
    "6. [How often are which statistical methods used?](#q6)\n",
    "7. [How has the use of statistical methods evolved over time?](#q7)\n",
    "8. [How has the reporting of threats to validity evolved over time?](#q8)\n",
    "9. [What types of threats to validity do the authors report?](#q9)\n",
    "10. [How have the proportions of case studies and action research in the empirical methods used evolved over time?](#q10)\n",
    "11. [How has the provision of data (the materials used, the raw data collected, and the study results identified) evolved over time?](#q11)\n",
    "12. [How has the reporting of research questions and answers evolved over time?](#q12)\n",
    "13. [What empirical methods are used to conduct integrative and interpretive (systematic literature) reviews, so-called secondary research?](#q13)\n",
    "14. [How has the proportions of empirical methods to conduct (systematic literature) reviews, so-called secondary research, evolved over time?](#q14)\n",
    "15. [How many different empirical methods are used per publication?](#q15)\n",
    "16. [How has the number of empirical methods used per publication evolved over time?](#q16)\n",
    "</details>\n",
    "\n",
    "## Results\n",
    "At the moment, we can answer 16 of the 77 competency questions with the developed body of knowledge.\n",
    "\n",
    "## Conclusion\n",
    "\n",
    "[Back to top](#top)\n",
    "\n",
    "---"
   ]
  },
  {
   "cell_type": "markdown",
   "metadata": {},
   "source": [
    "<a id='step2'></a>\n",
    "## 2. Reusable Functions for Data Analysis"
   ]
  },
  {
   "cell_type": "code",
   "execution_count": 13,
   "metadata": {},
   "outputs": [],
   "source": [
    "%matplotlib inline\n",
    "from SPARQLWrapper import SPARQLWrapper, CSV\n",
    "from datetime import datetime\n",
    "import sys\n",
    "import numpy as np\n",
    "import pandas as pd\n",
    "import seaborn as sns\n",
    "import matplotlib.pyplot as plt\n",
    "from matplotlib.ticker import MaxNLocator\n",
    "from mpl_toolkits.axes_grid1.axes_divider import make_axes_area_auto_adjustable\n",
    "import dataframe_image as dfi\n",
    "\n",
    "ENDPOINT_URL = \"https://www.orkg.org/triplestore\"\n",
    "\n",
    "PREFIXES =  \"\"\"\n",
    "            PREFIX orkgr: <http://orkg.org/orkg/resource/>\n",
    "            PREFIX orkgc: <http://orkg.org/orkg/class/>\n",
    "            PREFIX orkgp: <http://orkg.org/orkg/predicate/>\n",
    "            PREFIX rdfs: <http://www.w3.org/2000/01/rdf-schema#>\n",
    "            PREFIX xsd: <http://www.w3.org/2001/XMLSchema#>\n",
    "            PREFIX rdf: <http://www.w3.org/1999/02/22-rdf-syntax-ns#>\n",
    "            \"\"\"\n",
    "\n",
    "DATE = '2023-04-03'\n",
    "\n",
    "plt.rcParams['figure.figsize'] = (18, 8)\n",
    "sns.set_context('talk')\n",
    "sns.set_style('whitegrid')\n",
    "sns.set(font_scale=1.25)\n",
    "\n",
    "pd.set_option('display.max_columns', None)\n",
    "pd.set_option('display.max_rows', None)\n",
    "pd.set_option('display.max_colwidth', None)\n",
    "\n",
    "def retrieve_data(id, query):\n",
    "        \n",
    "        sparql = SPARQLWrapper(ENDPOINT_URL)#, agent=user_agent)\n",
    "        sparql.setQuery(PREFIXES+query)\n",
    "        sparql.setReturnFormat(CSV)\n",
    "        \n",
    "        try:\n",
    "                results = sparql.queryAndConvert()\n",
    "        except Exception as e:\n",
    "                print(e)\n",
    "        \n",
    "        now = datetime.now()\n",
    "        with open('Data/query_' + id + '_data_' + now.strftime('%Y-%m-%d') + '.csv', 'wb') as file:\n",
    "                file.write(results)\n",
    "\n",
    "def explore_data(df):\n",
    "        display('Number of total entries in the dataset: ' + str(df.shape[0]))\n",
    "        display('Number of unique entries in the dataset: ' + str(df.index.nunique()))\n",
    "        display(df.head(15))\n",
    "        display(df.info())\n",
    "\n",
    "        #Missing value analysis\n",
    "        missing_values = df.isna().sum()\n",
    "        plt.figure()\n",
    "        ax_exp = missing_values.plot(kind='barh')\n",
    "        ax_exp.set_xlim(left=0)\n",
    "        #start, end = ax_exp.get_xlim()\n",
    "        #ax_exp.xaxis.set_ticks(np.arange(start, end, 1))\n",
    "        plt.title('Number of missing values per column in the dataset')\n",
    "        plt.xlabel('Number of missing values')\n",
    "        plt.ylabel('Column of the dataset')\n",
    "        plt.show()\n",
    "\n",
    "        # Proportion of missing values in the entire data set \n",
    "        data = missing_values / df.shape[0] * 100\n",
    "        display(pd.DataFrame(data, columns=[\"Proportion of missing values\"]).round(2))"
   ]
  },
  {
   "cell_type": "markdown",
   "metadata": {},
   "source": [
    "[Back to top](#top)\n",
    "\n",
    "---"
   ]
  },
  {
   "cell_type": "markdown",
   "metadata": {},
   "source": [
    "<a id='step3'></a>\n",
    "## 3. Analysis of the Competency Questions\n",
    "\n",
    "Below, we present the individual analyses for each answerable competency question. Each analysis follows the same structure:\n",
    "\n",
    "1. Data Selection: Explaining the competency question and the required data for the analysis.\n",
    "2. Data Collection: Executing the specified SPARQL query.\n",
    "3. Data Exploration: Exploring the data, including its cleaning and validation, to prepare the data for data analysis.\n",
    "4. Data Analysis: Analyzing the data and creating visualizations.\n",
    "5. Data Interpretation: Interpreting the data and derive insights.\n",
    "\n",
    "[Back to top](#top)"
   ]
  },
  {
   "attachments": {},
   "cell_type": "markdown",
   "metadata": {},
   "source": [
    "<a id='q1'></a>\n",
    "### 3.1 How has the number of empirical studies evolved over time?\n",
    "\n",
    "#### <ins>*Data Selection*</ins> \n",
    "\n",
    "*Explanation of the Competency Question*:\n",
    "\n",
    "According to [Sjøberg et al. (2007)](https://doi.org/10.1109/FOSE.2007.30), the **\"current\" state of practice (2007)** shows that there are relatively **few empirical studies**. For the **target state (2020 - 2025)**, [Sjøberg et al. (2007)](https://doi.org/10.1109/FOSE.2007.30) envision a **large number of studies**. This predicted change from a few to a large number of empirical studies leads to the corresponding competency question.\n",
    "\n",
    "*Required Data for the Analysis*:\n",
    "\n",
    "We must retrieve all papers with their publication year that use our ORKG template and report an empirical study. However, we need to define what we mean by an empirical study. According to [Empirical Software Engineering Journal](https://www.springer.com/journal/10664), \"*Empirical studies presented here usually involve the collection and analysis of data and experience...*\". For this reason, we define that an empirical study is a study that includes data analysis as a necessary condition to be a study (*Necessity*) and data collection as a sufficient condition to be an empirical study (*Sufficiency*). Thus, a study must always include data analysis and an empirical study must include data collection and data analysis. We do not consider the mere reporting of a data collection as a study or even an empirical study.\n",
    "\n",
    "[Back to top](#step3)"
   ]
  },
  {
   "cell_type": "markdown",
   "metadata": {},
   "source": [
    "#### <ins>*Data Collection*</ins> \n",
    "Below, we retrieve the required data from the developed body of knowledge of empirical research in RE from the [ORKG](https://www.orkg.org/orkg/) using its [SPARQL endpoint](https://orkg.org/sparql/)."
   ]
  },
  {
   "cell_type": "code",
   "execution_count": 14,
   "metadata": {},
   "outputs": [],
   "source": [
    "ID = '1'\n",
    "\n",
    "query_1 = \"\"\"\n",
    "        SELECT ?paper, ?year, ?dc_label, ?da_label\n",
    "        WHERE {\n",
    "                ?paper orkgp:P31 ?contribution;\n",
    "                        orkgp:P29 ?year.\n",
    "                ?contribution a orkgc:C27001.\n",
    "                \n",
    "                OPTIONAL{?contribution orkgp:P56008 ?data_collection.\n",
    "                        ?data_collection rdfs:label ?dc_label.\n",
    "                }\n",
    "                OPTIONAL{?contribution orkgp:P15124 ?data_analysis.\n",
    "                        ?data_analysis rdfs:label ?da_label.\n",
    "                }\n",
    "                FILTER(xsd:integer(?year) > \"2005\"^^xsd:integer)\n",
    "        }\n",
    "        \"\"\"\n",
    "\n",
    "retrieve_data(ID, query_1)\n",
    "\n",
    "df_query_1 = pd.read_csv('Data/query_'+ ID + '_data_' + DATE + '.csv', encoding='utf-8', encoding_errors='ignore')"
   ]
  },
  {
   "cell_type": "markdown",
   "metadata": {},
   "source": [
    "#### <ins>*Data Exploration*</ins>\n",
    "Below, we explore the retrieved data, including its cleaning and validation, to prepare the data for data analysis."
   ]
  },
  {
   "cell_type": "code",
   "execution_count": 15,
   "metadata": {},
   "outputs": [
    {
     "data": {
      "text/plain": [
       "'Number of total entries in the dataset: 633'"
      ]
     },
     "metadata": {},
     "output_type": "display_data"
    },
    {
     "data": {
      "text/plain": [
       "'Number of unique entries in the dataset: 633'"
      ]
     },
     "metadata": {},
     "output_type": "display_data"
    },
    {
     "data": {
      "text/html": [
       "<div>\n",
       "<style scoped>\n",
       "    .dataframe tbody tr th:only-of-type {\n",
       "        vertical-align: middle;\n",
       "    }\n",
       "\n",
       "    .dataframe tbody tr th {\n",
       "        vertical-align: top;\n",
       "    }\n",
       "\n",
       "    .dataframe thead th {\n",
       "        text-align: right;\n",
       "    }\n",
       "</style>\n",
       "<table border=\"1\" class=\"dataframe\">\n",
       "  <thead>\n",
       "    <tr style=\"text-align: right;\">\n",
       "      <th></th>\n",
       "      <th>paper</th>\n",
       "      <th>year</th>\n",
       "      <th>dc_label</th>\n",
       "      <th>da_label</th>\n",
       "    </tr>\n",
       "  </thead>\n",
       "  <tbody>\n",
       "    <tr>\n",
       "      <th>0</th>\n",
       "      <td>http://orkg.org/orkg/resource/R194237</td>\n",
       "      <td>2019</td>\n",
       "      <td>study</td>\n",
       "      <td>analysis</td>\n",
       "    </tr>\n",
       "    <tr>\n",
       "      <th>1</th>\n",
       "      <td>http://orkg.org/orkg/resource/R194686</td>\n",
       "      <td>2018</td>\n",
       "      <td>case study</td>\n",
       "      <td>analysis</td>\n",
       "    </tr>\n",
       "    <tr>\n",
       "      <th>2</th>\n",
       "      <td>http://orkg.org/orkg/resource/R194698</td>\n",
       "      <td>2018</td>\n",
       "      <td>experiment</td>\n",
       "      <td>analysis</td>\n",
       "    </tr>\n",
       "    <tr>\n",
       "      <th>3</th>\n",
       "      <td>http://orkg.org/orkg/resource/R194922</td>\n",
       "      <td>2018</td>\n",
       "      <td>experiment</td>\n",
       "      <td>analysis</td>\n",
       "    </tr>\n",
       "    <tr>\n",
       "      <th>4</th>\n",
       "      <td>http://orkg.org/orkg/resource/R194954</td>\n",
       "      <td>2018</td>\n",
       "      <td>secondary research</td>\n",
       "      <td>analysis</td>\n",
       "    </tr>\n",
       "    <tr>\n",
       "      <th>5</th>\n",
       "      <td>http://orkg.org/orkg/resource/R194974</td>\n",
       "      <td>2018</td>\n",
       "      <td>secondary research</td>\n",
       "      <td>analysis</td>\n",
       "    </tr>\n",
       "    <tr>\n",
       "      <th>6</th>\n",
       "      <td>http://orkg.org/orkg/resource/R195005</td>\n",
       "      <td>2018</td>\n",
       "      <td>survey</td>\n",
       "      <td>analysis</td>\n",
       "    </tr>\n",
       "    <tr>\n",
       "      <th>7</th>\n",
       "      <td>http://orkg.org/orkg/resource/R195113</td>\n",
       "      <td>2018</td>\n",
       "      <td>study</td>\n",
       "      <td>analysis</td>\n",
       "    </tr>\n",
       "    <tr>\n",
       "      <th>8</th>\n",
       "      <td>http://orkg.org/orkg/resource/R195129</td>\n",
       "      <td>2018</td>\n",
       "      <td>secondary research</td>\n",
       "      <td>analysis</td>\n",
       "    </tr>\n",
       "    <tr>\n",
       "      <th>9</th>\n",
       "      <td>http://orkg.org/orkg/resource/R287812</td>\n",
       "      <td>2008</td>\n",
       "      <td>case study</td>\n",
       "      <td>analysis</td>\n",
       "    </tr>\n",
       "    <tr>\n",
       "      <th>10</th>\n",
       "      <td>http://orkg.org/orkg/resource/R287812</td>\n",
       "      <td>2008</td>\n",
       "      <td>survey</td>\n",
       "      <td>analysis</td>\n",
       "    </tr>\n",
       "    <tr>\n",
       "      <th>11</th>\n",
       "      <td>http://orkg.org/orkg/resource/R287825</td>\n",
       "      <td>2008</td>\n",
       "      <td>interview</td>\n",
       "      <td>analysis</td>\n",
       "    </tr>\n",
       "    <tr>\n",
       "      <th>12</th>\n",
       "      <td>http://orkg.org/orkg/resource/R287836</td>\n",
       "      <td>2008</td>\n",
       "      <td>experiment</td>\n",
       "      <td>analysis</td>\n",
       "    </tr>\n",
       "    <tr>\n",
       "      <th>13</th>\n",
       "      <td>http://orkg.org/orkg/resource/R287845</td>\n",
       "      <td>2008</td>\n",
       "      <td>secondary research</td>\n",
       "      <td>analysis</td>\n",
       "    </tr>\n",
       "    <tr>\n",
       "      <th>14</th>\n",
       "      <td>http://orkg.org/orkg/resource/R287851</td>\n",
       "      <td>2008</td>\n",
       "      <td>case study</td>\n",
       "      <td>analysis</td>\n",
       "    </tr>\n",
       "  </tbody>\n",
       "</table>\n",
       "</div>"
      ],
      "text/plain": [
       "                                    paper  year            dc_label  da_label\n",
       "0   http://orkg.org/orkg/resource/R194237  2019               study  analysis\n",
       "1   http://orkg.org/orkg/resource/R194686  2018          case study  analysis\n",
       "2   http://orkg.org/orkg/resource/R194698  2018          experiment  analysis\n",
       "3   http://orkg.org/orkg/resource/R194922  2018          experiment  analysis\n",
       "4   http://orkg.org/orkg/resource/R194954  2018  secondary research  analysis\n",
       "5   http://orkg.org/orkg/resource/R194974  2018  secondary research  analysis\n",
       "6   http://orkg.org/orkg/resource/R195005  2018              survey  analysis\n",
       "7   http://orkg.org/orkg/resource/R195113  2018               study  analysis\n",
       "8   http://orkg.org/orkg/resource/R195129  2018  secondary research  analysis\n",
       "9   http://orkg.org/orkg/resource/R287812  2008          case study  analysis\n",
       "10  http://orkg.org/orkg/resource/R287812  2008              survey  analysis\n",
       "11  http://orkg.org/orkg/resource/R287825  2008           interview  analysis\n",
       "12  http://orkg.org/orkg/resource/R287836  2008          experiment  analysis\n",
       "13  http://orkg.org/orkg/resource/R287845  2008  secondary research  analysis\n",
       "14  http://orkg.org/orkg/resource/R287851  2008          case study  analysis"
      ]
     },
     "metadata": {},
     "output_type": "display_data"
    },
    {
     "name": "stdout",
     "output_type": "stream",
     "text": [
      "<class 'pandas.core.frame.DataFrame'>\n",
      "RangeIndex: 633 entries, 0 to 632\n",
      "Data columns (total 4 columns):\n",
      " #   Column    Non-Null Count  Dtype \n",
      "---  ------    --------------  ----- \n",
      " 0   paper     633 non-null    object\n",
      " 1   year      633 non-null    int64 \n",
      " 2   dc_label  633 non-null    object\n",
      " 3   da_label  633 non-null    object\n",
      "dtypes: int64(1), object(3)\n",
      "memory usage: 19.9+ KB\n"
     ]
    },
    {
     "data": {
      "text/plain": [
       "None"
      ]
     },
     "metadata": {},
     "output_type": "display_data"
    },
    {
     "data": {
      "application/vnd.jupyter.widget-view+json": {
       "model_id": "7bf349ab15c249f5b7b458eb31567b68",
       "version_major": 2,
       "version_minor": 0
      },
      "image/png": "[encoded data removed]",
      "text/html": [
       "\n",
       "            <div style=\"display: inline-block;\">\n",
       "                <div class=\"jupyter-widgets widget-label\" style=\"text-align: center;\">\n",
       "                    Figure\n",
       "                </div>\n",
       "                <img src='data:image/png;base64,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' width=1800.0/>\n",
       "            </div>\n",
       "        "
      ],
      "text/plain": [
       "Canvas(toolbar=None)"
      ]
     },
     "metadata": {},
     "output_type": "display_data"
    },
    {
     "data": {
      "text/html": [
       "<div>\n",
       "<style scoped>\n",
       "    .dataframe tbody tr th:only-of-type {\n",
       "        vertical-align: middle;\n",
       "    }\n",
       "\n",
       "    .dataframe tbody tr th {\n",
       "        vertical-align: top;\n",
       "    }\n",
       "\n",
       "    .dataframe thead th {\n",
       "        text-align: right;\n",
       "    }\n",
       "</style>\n",
       "<table border=\"1\" class=\"dataframe\">\n",
       "  <thead>\n",
       "    <tr style=\"text-align: right;\">\n",
       "      <th></th>\n",
       "      <th>Proportion of missing values</th>\n",
       "    </tr>\n",
       "  </thead>\n",
       "  <tbody>\n",
       "    <tr>\n",
       "      <th>paper</th>\n",
       "      <td>0.0</td>\n",
       "    </tr>\n",
       "    <tr>\n",
       "      <th>year</th>\n",
       "      <td>0.0</td>\n",
       "    </tr>\n",
       "    <tr>\n",
       "      <th>dc_label</th>\n",
       "      <td>0.0</td>\n",
       "    </tr>\n",
       "    <tr>\n",
       "      <th>da_label</th>\n",
       "      <td>0.0</td>\n",
       "    </tr>\n",
       "  </tbody>\n",
       "</table>\n",
       "</div>"
      ],
      "text/plain": [
       "          Proportion of missing values\n",
       "paper                              0.0\n",
       "year                               0.0\n",
       "dc_label                           0.0\n",
       "da_label                           0.0"
      ]
     },
     "metadata": {},
     "output_type": "display_data"
    }
   ],
   "source": [
    "explore_data(df_query_1)"
   ]
  },
  {
   "cell_type": "code",
   "execution_count": 16,
   "metadata": {},
   "outputs": [
    {
     "data": {
      "text/plain": [
       "case study            125\n",
       "experiment            119\n",
       "study                 117\n",
       "secondary research     70\n",
       "survey                 70\n",
       "interview              68\n",
       "no collection          56\n",
       "action research         6\n",
       "questionnaire           1\n",
       "workshop                1\n",
       "Name: dc_label, dtype: int64"
      ]
     },
     "metadata": {},
     "output_type": "display_data"
    },
    {
     "data": {
      "text/plain": [
       "analysis       563\n",
       "no analysis     70\n",
       "Name: da_label, dtype: int64"
      ]
     },
     "metadata": {},
     "output_type": "display_data"
    }
   ],
   "source": [
    "df_query_1['dc_label'] = df_query_1['dc_label'].astype('category')\n",
    "df_query_1['da_label'] = df_query_1['da_label'].astype('category')\n",
    "display(df_query_1['dc_label'].value_counts())\n",
    "display(df_query_1['da_label'].value_counts())"
   ]
  },
  {
   "cell_type": "markdown",
   "metadata": {},
   "source": [
    "#### <ins>*Data Analysis*</ins>\n",
    "For this data analysis, we select all papers that have an empirical study according to our definition (data collection and data analysis). For this reason, we remove all papers that have \"no collection\" and/or \"no analysis\". In addition, a paper can involve more than one empirical method for data collection and data analysis so that we must exclude duplicate papers. In this way, we can determine the number of all unique papers. For more detailed insights, we normalize the number of all papers with an empirical study based on the number of all unique papers per year, as the total number of papers per year varies."
   ]
  },
  {
   "cell_type": "code",
   "execution_count": 17,
   "metadata": {},
   "outputs": [
    {
     "data": {
      "application/vnd.jupyter.widget-view+json": {
       "model_id": "24f9959cb763482fa112b4104e046360",
       "version_major": 2,
       "version_minor": 0
      },
      "image/png": "[encoded data removed]",
      "text/html": [
       "\n",
       "            <div style=\"display: inline-block;\">\n",
       "                <div class=\"jupyter-widgets widget-label\" style=\"text-align: center;\">\n",
       "                    Figure\n",
       "                </div>\n",
       "                <img src='data:image/png;base64,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' width=1800.0/>\n",
       "            </div>\n",
       "        "
      ],
      "text/plain": [
       "Canvas(toolbar=None)"
      ]
     },
     "metadata": {},
     "output_type": "display_data"
    },
    {
     "data": {
      "application/vnd.jupyter.widget-view+json": {
       "model_id": "2a30ecbbb88047f1b6094bb1da589458",
       "version_major": 2,
       "version_minor": 0
      },
      "image/png": "[encoded data removed]",
      "text/html": [
       "\n",
       "            <div style=\"display: inline-block;\">\n",
       "                <div class=\"jupyter-widgets widget-label\" style=\"text-align: center;\">\n",
       "                    Figure\n",
       "                </div>\n",
       "                <img src='data:image/png;base64,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' width=1800.0/>\n",
       "            </div>\n",
       "        "
      ],
      "text/plain": [
       "Canvas(toolbar=None)"
      ]
     },
     "metadata": {},
     "output_type": "display_data"
    }
   ],
   "source": [
    "result = pd.DataFrame(df_query_1.drop_duplicates(subset=['paper']).reset_index(drop=True)['year'].value_counts())\n",
    "result.columns = ['number_of_all_papers']\n",
    "\n",
    "papers_with_emp_study = df_query_1[(df_query_1['dc_label'] != 'no collection') & (df_query_1['da_label'] != 'no analysis')]\n",
    "papers_with_emp_study = papers_with_emp_study.drop_duplicates(subset=['paper'])\n",
    "result['number_of_papers_with_emp_studies'] = papers_with_emp_study.reset_index(drop=True)['year'].value_counts()\n",
    "\n",
    "result['normalized_papers_with_emp_studies'] = (result['number_of_papers_with_emp_studies'] / result['number_of_all_papers']).round(2)\n",
    "#display(result.sort_index())\n",
    "\n",
    "plt.figure()\n",
    "ax = sns.barplot(data=result, x=result.index, y='number_of_papers_with_emp_studies', color='b')\n",
    "ax.bar_label(ax.containers[0])\n",
    "make_axes_area_auto_adjustable(ax)\n",
    "plt.title('Number of papers with an empirical study per year')\n",
    "plt.xlabel('Year')\n",
    "plt.ylabel('Number of papers with an empirical study')\n",
    "plt.savefig('Figures/CQ1/number_of_papers_with_empirical_study.png', dpi=300)\n",
    "plt.show()\n",
    "\n",
    "plt.figure()\n",
    "ax = sns.barplot(data=result, x=result.index, y='normalized_papers_with_emp_studies', color='b')\n",
    "ax.bar_label(ax.containers[0], fmt='%.2f')\n",
    "make_axes_area_auto_adjustable(ax)\n",
    "plt.title('Normalized number of papers with an empirical study per year')\n",
    "plt.xlabel('Year')\n",
    "plt.ylabel('Proportion of papers with an empirical study')\n",
    "plt.savefig('Figures/CQ1/proportion_of_papers_with_empirical_study.png', dpi=300)\n",
    "plt.show()"
   ]
  },
  {
   "cell_type": "markdown",
   "metadata": {},
   "source": [
    "#### <ins>*Data Interpretation*</ins>\n",
    "According to [Sjøberg et al. (2007)](https://doi.org/10.1109/FOSE.2007.30), the **\"current\" state of practice (2007)** shows that there are relatively **few empirical studies**. For the **target state (2020 - 2025)**, [Sjøberg et al. (2007)](https://doi.org/10.1109/FOSE.2007.30) envision a **large number of studies**. This predicted change from a few to a large number of empirical studies leads to the corresponding competency question.\n",
    "\n",
    "Muss noch geschrieben werden, wenn die Daten alle geprüft sind."
   ]
  },
  {
   "attachments": {},
   "cell_type": "markdown",
   "metadata": {},
   "source": [
    "<a id='q2'></a>\n",
    "### 3.2 How often are which empirical methods used over time?\n",
    "\n",
    "#### <ins>*Data Selection*</ins> \n",
    "\n",
    "*Explanation of the Competency Question*:\n",
    "\n",
    "According to [Sjøberg et al. (2007)](https://doi.org/10.1109/FOSE.2007.30), the **\"current\" state of practice (2007)** shows a that there are relatively **few empirical studies**. For the **target state (2020 - 2025)**, [Sjøberg et al. (2007)](https://doi.org/10.1109/FOSE.2007.30) envision a **large number of studies [...] using different empirical methods**. This predicted change from a few to a large number of empirical studies using different empirical methods leads to the corresponding competency question.\n",
    "\n",
    "*Required Data for the Analysis*:\n",
    "\n",
    "We must retrieve all papers with their publication year that use our ORKG template and report on the use of empirical methods. According to [Dan (2017)](https://doi.org/10.1002/9781118901731.iecrm0083), empirical methods include data collection and data analysis. An empirical method can therefore be a method for data collection and data analysis. We consider the empirical method used for data collection or data analysis respectively, as our template allows for a correspondingly more fine-grained analysis.\n",
    "\n",
    "[Back to top](#step3)"
   ]
  },
  {
   "cell_type": "markdown",
   "metadata": {},
   "source": [
    "#### <ins>*Data Collection*</ins> \n",
    "Below, we retrieve the required data from the developed body of knowledge of empirical research in RE from the [ORKG](https://www.orkg.org/orkg/) using its [SPARQL endpoint](https://orkg.org/sparql/)."
   ]
  },
  {
   "cell_type": "code",
   "execution_count": null,
   "metadata": {},
   "outputs": [],
   "source": [
    "ID = '2.1'\n",
    "\n",
    "query_2_1_data_collection = \"\"\"\n",
    "        SELECT ?paper, ?year, ?dc_label\n",
    "        WHERE {\n",
    "                ?paper orkgp:P31 ?contribution;\n",
    "                        orkgp:P29 ?year.\n",
    "                ?contribution a orkgc:C27001.\n",
    "\n",
    "                OPTIONAL{?contribution orkgp:P56008 ?data_collection.\n",
    "                        ?data_collection rdfs:label ?dc_label.\n",
    "                }\n",
    "                FILTER(?dc_label != \"no collection\"^^xsd:string)\n",
    "                FILTER(xsd:integer(?year) > \"2005\"^^xsd:integer)\n",
    "        }\n",
    "        \"\"\"\n",
    "\n",
    "retrieve_data(ID, query_2_1_data_collection)\n",
    "df_query_2_1 = pd.read_csv('Data/query_'+ ID + '_data_' + DATE + '.csv', encoding='utf-8', encoding_errors='ignore')\n",
    "\n",
    "ID = '2.2'\n",
    "query_2_2_data_analysis = \"\"\"\n",
    "        SELECT ?paper, ?year, ?da_label, ?descriptive, ?inferential, ?machine_learning, ?method\n",
    "        WHERE {\n",
    "                ?paper orkgp:P31 ?contribution;\n",
    "                        orkgp:P29 ?year.\n",
    "                ?contribution a orkgc:C27001.\n",
    "                \n",
    "                \n",
    "                OPTIONAL{?contribution orkgp:P15124 ?data_analysis.\n",
    "                        ?data_analysis rdfs:label ?da_label.\n",
    "                        \n",
    "                        OPTIONAL{?data_analysis orkgp:P56048/rdfs:label ?descriptive.}\n",
    "                        OPTIONAL{?data_analysis orkgp:P56043/rdfs:label ?inferential.}\n",
    "                        OPTIONAL{?data_analysis orkgp:P57016/rdfs:label ?machine_learning.}\n",
    "                        OPTIONAL{?data_analysis orkgp:P76003/rdfs:label ?method}\n",
    "                }\n",
    "                FILTER(?da_label != \"no analysis\"^^xsd:string)\n",
    "                FILTER(xsd:integer(?year) > \"2005\"^^xsd:integer)\n",
    "        }\n",
    "        \"\"\"\n",
    "\n",
    "retrieve_data(ID, query_2_2_data_analysis)\n",
    "df_query_2_2 = pd.read_csv('Data/query_'+ ID + '_data_' + DATE + '.csv', encoding='utf-8', encoding_errors='ignore')"
   ]
  },
  {
   "cell_type": "markdown",
   "metadata": {},
   "source": [
    "#### <ins>*Data Exploration*</ins>\n",
    "Below, we explore the retrieved data, including its cleaning and validation, to prepare the data for data analysis."
   ]
  },
  {
   "cell_type": "code",
   "execution_count": null,
   "metadata": {},
   "outputs": [],
   "source": [
    "explore_data(df_query_2_1)"
   ]
  },
  {
   "cell_type": "code",
   "execution_count": null,
   "metadata": {},
   "outputs": [],
   "source": [
    "df_query_2_1['dc_label'] = df_query_2_1['dc_label'].astype('category')\n",
    "display(df_query_2_1['dc_label'].value_counts())"
   ]
  },
  {
   "cell_type": "code",
   "execution_count": null,
   "metadata": {},
   "outputs": [],
   "source": [
    "explore_data(df_query_2_2)"
   ]
  },
  {
   "cell_type": "code",
   "execution_count": null,
   "metadata": {},
   "outputs": [],
   "source": [
    "df_query_2_2['da_label'] = df_query_2_2['da_label'].astype('category')\n",
    "df_query_2_2['descriptive'] = df_query_2_2['descriptive'].astype('category')\n",
    "df_query_2_2['inferential'] = df_query_2_2['inferential'].astype('category')\n",
    "df_query_2_2['machine_learning'] = df_query_2_2['machine_learning'].astype('category')\n",
    "df_query_2_2['method'] = df_query_2_2['method'].astype('category')\n",
    "\n",
    "display(df_query_2_2['da_label'].value_counts())\n",
    "display(df_query_2_2['descriptive'].value_counts())\n",
    "display(df_query_2_2['inferential'].value_counts())\n",
    "display(df_query_2_2['machine_learning'].value_counts())\n",
    "display(df_query_2_2['method'].value_counts())"
   ]
  },
  {
   "cell_type": "markdown",
   "metadata": {},
   "source": [
    "#### <ins>*Data Analysis*</ins>\n",
    "For this data analysis, we consider the empirical methods used for data collection. We identify the empirical methods used for data collection. A paper can involve more than one empirical method for data collection so that the number of empirical methods can be larger than the number of papers. In addition, the number of papers per year varies. For this reason, we normalize the number of empirical methods used based on the number of all unique papers per year."
   ]
  },
  {
   "cell_type": "code",
   "execution_count": null,
   "metadata": {},
   "outputs": [],
   "source": [
    "all_papers_per_year = pd.DataFrame(df_query_2_1.drop_duplicates(subset=['paper']).reset_index(drop=True)['year'].value_counts())\n",
    "all_papers_per_year.columns = ['number_of_papers_with_dc']\n",
    "all_papers_per_year = all_papers_per_year.sort_index()\n",
    "\n",
    "result = pd.DataFrame(df_query_2_1.groupby('year')['dc_label'].value_counts().unstack())\n",
    "result = result[result.sum().sort_values(ascending=False).index]\n",
    "result = result.reindex(columns = [col for col in result.columns if col != 'study'] + ['study'])\n",
    "#display(result)\n",
    "\n",
    "ax = result.plot(kind='bar', rot=0)\n",
    "ax.legend(bbox_to_anchor=(0.9, 0.77), labels=['Experiment', 'Case study', 'Secondary research', 'Interview', 'Survey', 'Action research', 'Other method'])\n",
    "make_axes_area_auto_adjustable(ax)\n",
    "plt.title('Number of empirical methods used for data collection per year')\n",
    "plt.xlabel('Year')\n",
    "plt.ylabel('Number of empirical method used')\n",
    "plt.savefig('Figures/CQ2/dc_number_of_empirical_methods_used.png', dpi=300)\n",
    "plt.show()\n",
    "\n",
    "figure, axis = plt.subplots(4, 2, figsize=(18, 15), sharey=True)\n",
    "# Plot barplots\n",
    "bar1 = sns.barplot(data = result, x = result.index, y='experiment', ax=axis[0,0], color=sns.color_palette()[0])\n",
    "bar1.bar_label(bar1.containers[0])\n",
    "make_axes_area_auto_adjustable(bar1)\n",
    "bar2 = sns.barplot(data = result, x = result.index, y='case study', ax=axis[0,1], color=sns.color_palette()[1])\n",
    "bar2.bar_label(bar2.containers[0])\n",
    "make_axes_area_auto_adjustable(bar2)\n",
    "bar3 = sns.barplot(data = result, x = result.index, y='secondary research', ax=axis[1,0], color=sns.color_palette()[2])\n",
    "bar3.bar_label(bar3.containers[0])\n",
    "make_axes_area_auto_adjustable(bar3)\n",
    "bar4 = sns.barplot(data = result, x = result.index, y='interview', ax=axis[1,1], color=sns.color_palette()[3])\n",
    "bar4.bar_label(bar4.containers[0])\n",
    "make_axes_area_auto_adjustable(bar4)\n",
    "bar5 = sns.barplot(data = result, x = result.index, y='survey', ax=axis[2,0], color=sns.color_palette()[4])\n",
    "bar5.bar_label(bar5.containers[0])\n",
    "make_axes_area_auto_adjustable(bar5)\n",
    "bar6 = sns.barplot(data = result, x = result.index, y='action research', ax=axis[2,1], color=sns.color_palette()[5])\n",
    "bar6.bar_label(bar6.containers[0])\n",
    "make_axes_area_auto_adjustable(bar6)\n",
    "bar7 = sns.barplot(data = result, x = result.index, y='study', ax=axis[3,0], color=sns.color_palette()[6])\n",
    "bar7.bar_label(bar7.containers[0])\n",
    "make_axes_area_auto_adjustable(bar7)\n",
    "\n",
    "# Remove unnecessary subplot\n",
    "figure.delaxes(axis[3,1])\n",
    "\n",
    "# Set titles\n",
    "plt.suptitle(\"Number of empirical method used for data collection per year grouped by empirical method\")\n",
    "bar1.set(title = 'Number of experiments used for data collection per year', ylabel='Number of experiments', xlabel='Year')\n",
    "bar2.set(title = 'Number of case studies used for data collection per year', ylabel='Number of case studies', xlabel='Year')\n",
    "bar3.set(title = 'Number of secondary research used for data collection per year', ylabel='Number of secondary research', xlabel='Year')\n",
    "bar4.set(title = 'Number of interviews used for data collection per year', ylabel='Number of interviews', xlabel='Year')\n",
    "bar5.set(title = 'Number of surveys used for data collection per year', ylabel='Number of surveys', xlabel='Year')\n",
    "bar6.set(title = 'Number of actions research used for data collection per year', ylabel='Number of action research', xlabel='Year')\n",
    "bar7.set(title = 'Number of other methods used for data collection per year', ylabel='Number of other methods', xlabel='Year')\n",
    "\n",
    "# Set spacing between subplots\n",
    "figure.tight_layout()\n",
    "plt.savefig('Figures/CQ2/dc_number_of_empirical_methods_used_grouped_by_method.png', dpi=300)\n",
    "plt.show()\n",
    "\n",
    "result = pd.concat([result, all_papers_per_year], axis=1)\n",
    "result['normalized experiment'] = (result['experiment'] / result['number_of_papers_with_dc']).round(2)\n",
    "result['normalized case study'] = (result['case study'] / result['number_of_papers_with_dc']).round(2)\n",
    "result['normalized secondary research'] = (result['secondary research'] / result['number_of_papers_with_dc']).round(2)\n",
    "result['normalized interview'] = (result['interview'] / result['number_of_papers_with_dc']).round(2)\n",
    "result['normalized survey'] = (result['survey'] / result['number_of_papers_with_dc']).round(2)\n",
    "result['normalized action research'] = (result['action research'] / result['number_of_papers_with_dc']).round(2)\n",
    "result['normalized study'] = (result['study'] / result['number_of_papers_with_dc']).round(2)\n",
    "#display(result)\n",
    "\n",
    "ax = result.loc[:, 'normalized experiment':'normalized study'].plot(kind='bar', rot=0)\n",
    "ax.legend(bbox_to_anchor=(0.4, 0.65), labels=['Experiment', 'Case study', 'Secondary research', 'Interview', 'Survey', 'Action research', 'Other method'])\n",
    "make_axes_area_auto_adjustable(ax)\n",
    "plt.title('Normalized number of empirical methods used for data collection per year')\n",
    "plt.xlabel('Year')\n",
    "plt.ylabel('Proportion of empirical method used')\n",
    "plt.savefig('Figures/CQ2/dc_proportion_of_empirical_methods_used.png', dpi=300)\n",
    "plt.show()\n",
    "\n",
    "figure, axis = plt.subplots(4, 2, figsize=(18, 15), sharey=True)\n",
    "# Plot barplots\n",
    "bar1 = sns.barplot(data = result, x = result.index, y='normalized experiment', ax=axis[0,0], color=sns.color_palette()[0])\n",
    "bar1.bar_label(bar1.containers[0])\n",
    "make_axes_area_auto_adjustable(bar1)\n",
    "bar2 = sns.barplot(data = result, x = result.index, y='normalized case study', ax=axis[0,1], color=sns.color_palette()[1])\n",
    "bar2.bar_label(bar2.containers[0])\n",
    "make_axes_area_auto_adjustable(bar2)\n",
    "bar3 = sns.barplot(data = result, x = result.index, y='normalized secondary research', ax=axis[1,0], color=sns.color_palette()[2])\n",
    "bar3.bar_label(bar3.containers[0])\n",
    "make_axes_area_auto_adjustable(bar3)\n",
    "bar4 = sns.barplot(data = result, x = result.index, y='normalized interview', ax=axis[1,1], color=sns.color_palette()[3])\n",
    "bar4.bar_label(bar4.containers[0])\n",
    "make_axes_area_auto_adjustable(bar4)\n",
    "bar5 = sns.barplot(data = result, x = result.index, y='normalized survey', ax=axis[2,0], color=sns.color_palette()[4])\n",
    "bar5.bar_label(bar5.containers[0])\n",
    "make_axes_area_auto_adjustable(bar5)\n",
    "bar6 = sns.barplot(data = result, x = result.index, y='normalized action research', ax=axis[2,1], color=sns.color_palette()[5])\n",
    "bar6.bar_label(bar6.containers[0])\n",
    "make_axes_area_auto_adjustable(bar6)\n",
    "bar7 = sns.barplot(data = result, x = result.index, y='normalized study', ax=axis[3,0], color=sns.color_palette()[6])\n",
    "bar7.bar_label(bar7.containers[0])\n",
    "make_axes_area_auto_adjustable(bar7)\n",
    "\n",
    "# Remove unnecessary subplot\n",
    "figure.delaxes(axis[3,1])\n",
    "\n",
    "# Set titles\n",
    "plt.suptitle(\"Normalized number of empirical methods used for data collection per year grouped by empirical method\")\n",
    "bar1.set(title = 'Normalized number of experiments used for data collection per year', ylabel='Proportion of experiments', xlabel='Year')\n",
    "bar2.set(title = 'Normalized number of case studies used for data collection per year', ylabel='Proportion of case studies', xlabel='Year')\n",
    "bar3.set(title = 'Normalized number of secondary research used for data collection per year', ylabel='Proportion of secondary research', xlabel='Year')\n",
    "bar4.set(title = 'Normalized number of interviews used for data collection per year', ylabel='Proportion of interviews', xlabel='Year')\n",
    "bar5.set(title = 'Normalized number of surveys used for data collection per year', ylabel='Proportion of surveys', xlabel='Year')\n",
    "bar6.set(title = 'Normalized number of actions research used for data collection per year', ylabel='Proportion of action research', xlabel='Year')\n",
    "bar7.set(title = 'Normalized number of other methods used for data collection per year', ylabel='Proportion of other methods', xlabel='Year')\n",
    "\n",
    "# Set spacing between subplots\n",
    "figure.tight_layout()\n",
    "plt.savefig('Figures/CQ2/dc_proportion_of_empirical_methods_used_grouped_by_method.png', dpi=300)\n",
    "plt.show()"
   ]
  },
  {
   "cell_type": "markdown",
   "metadata": {},
   "source": [
    "For this data analysis, we consider the empirical methods used for data analysis. We identify the empirical methods used for data analysis. A paper can involve more than one empirical method for data analysis so that the number of empirical methods can be larger than the number of papers. In addition, the number of papers per year varies. For this reason, we normalize the number of empirical methods used based on the number of all unique papers per year."
   ]
  },
  {
   "cell_type": "code",
   "execution_count": null,
   "metadata": {},
   "outputs": [],
   "source": [
    "all_papers_per_year = pd.DataFrame(df_query_2_2.drop_duplicates(subset=['paper']).reset_index(drop=True)['year'].value_counts())\n",
    "all_papers_per_year.columns = ['number_of_papers_with_da']\n",
    "all_papers_per_year = all_papers_per_year.sort_index()\n",
    "#display(all_papers_per_year)\n",
    "\n",
    "df_query_2_2 = df_query_2_2.drop_duplicates(subset=['paper'])\n",
    "result = pd.DataFrame(df_query_2_2.groupby('year')[['descriptive', 'inferential', 'machine_learning', 'method']].count())\n",
    "#display(result)\n",
    "\n",
    "ax = result.plot(kind='bar', rot=0)\n",
    "ax.legend(bbox_to_anchor=(0.85, 0.9), labels=['Descriptive statistic', 'Inferential statistic', 'Machine learning method', 'Other method'])\n",
    "ax.yaxis.set_major_locator(MaxNLocator(integer=True))\n",
    "make_axes_area_auto_adjustable(ax)\n",
    "plt.title('Number of empirical methods used for data analysis per year')\n",
    "plt.xlabel('Year')\n",
    "plt.ylabel('Number of empirical method used')\n",
    "plt.savefig('Figures/CQ2/da_number_of_empirical_methods_used.png', dpi=300)\n",
    "plt.show()\n",
    "\n",
    "figure, axis = plt.subplots(2, 2, figsize=(18, 15), sharey=True)\n",
    "# Plot barplots\n",
    "bar1 = sns.barplot(data = result, x = result.index, y='descriptive', ax=axis[0,0], color=sns.color_palette()[0])\n",
    "bar1.bar_label(bar1.containers[0])\n",
    "make_axes_area_auto_adjustable(bar1)\n",
    "bar1.yaxis.set_major_locator(MaxNLocator(integer=True))\n",
    "bar2 = sns.barplot(data = result, x = result.index, y='inferential', ax=axis[0,1], color=sns.color_palette()[1])\n",
    "bar2.bar_label(bar2.containers[0])\n",
    "make_axes_area_auto_adjustable(bar2)\n",
    "bar2.yaxis.set_major_locator(MaxNLocator(integer=True))\n",
    "bar3 = sns.barplot(data = result, x = result.index, y='machine_learning', ax=axis[1,0], color=sns.color_palette()[2])\n",
    "bar3.bar_label(bar3.containers[0])\n",
    "make_axes_area_auto_adjustable(bar3)\n",
    "bar3.yaxis.set_major_locator(MaxNLocator(integer=True))\n",
    "bar4 = sns.barplot(data = result, x = result.index, y='method', ax=axis[1,1], color=sns.color_palette()[3])\n",
    "bar4.bar_label(bar4.containers[0])\n",
    "make_axes_area_auto_adjustable(bar4)\n",
    "bar4.yaxis.set_major_locator(MaxNLocator(integer=True))\n",
    "\n",
    "# Set titles\n",
    "plt.suptitle(\"Number of empirical method used for data analysis per year grouped by empirical method\")\n",
    "bar1.set(title = 'Number of decriptive statistics used for data analysis per year', ylabel='Number of decriptive statistics', xlabel='Year')\n",
    "bar2.set(title = 'Number of inferential statistics used for data analysis per year', ylabel='Number of inferential statistics', xlabel='Year')\n",
    "bar3.set(title = 'Number of machine learning methods used for data analysis per year', ylabel='Number of machine learning methods', xlabel='Year')\n",
    "bar4.set(title = 'Number of other methods used for data analysis per year', ylabel='Number of other methods', xlabel='Year')\n",
    "\n",
    "# Set spacing between subplots\n",
    "figure.tight_layout()\n",
    "plt.savefig('Figures/CQ2/da_number_of_empirical_methods_used_grouped_by_method.png', dpi=300)\n",
    "plt.show()\n",
    "\n",
    "result = pd.concat([result, all_papers_per_year], axis=1)\n",
    "result['normalized descriptive'] = (result['descriptive'] / result['number_of_papers_with_da']).round(2)\n",
    "result['normalized inferential'] = (result['inferential'] / result['number_of_papers_with_da']).round(2)\n",
    "result['normalized machine_learning'] = (result['machine_learning'] / result['number_of_papers_with_da']).round(2)\n",
    "result['normalized method'] = (result['method'] / result['number_of_papers_with_da']).round(2)\n",
    "#display(result)\n",
    "\n",
    "ax = result.loc[:, 'normalized descriptive':'normalized method'].plot(kind='bar', rot=0)\n",
    "ax.legend(bbox_to_anchor=(0.6, 0.9), labels=['Descriptive statistic', 'Inferential statistic', 'Machine learning method', 'Other method'])\n",
    "make_axes_area_auto_adjustable(ax)\n",
    "plt.title('Normalized number of empirical methods used for data analysis per year')\n",
    "plt.xlabel('Year')\n",
    "plt.ylabel('Proportion of empirical method used')\n",
    "plt.savefig('Figures/CQ2/da_proportion_of_empirical_methods_used.png', dpi=300)\n",
    "plt.show()\n",
    "\n",
    "figure, axis = plt.subplots(2, 2, figsize=(18, 15), sharey=True)\n",
    "# Plot barplots\n",
    "bar1 = sns.barplot(data = result, x = result.index, y='normalized descriptive', ax=axis[0,0], color=sns.color_palette()[0])\n",
    "bar1.bar_label(bar1.containers[0])\n",
    "make_axes_area_auto_adjustable(bar1)\n",
    "bar2 = sns.barplot(data = result, x = result.index, y='normalized inferential', ax=axis[0,1], color=sns.color_palette()[1])\n",
    "bar2.bar_label(bar2.containers[0])\n",
    "make_axes_area_auto_adjustable(bar2)\n",
    "bar3 = sns.barplot(data = result, x = result.index, y='normalized machine_learning', ax=axis[1,0], color=sns.color_palette()[2])\n",
    "bar3.bar_label(bar3.containers[0])\n",
    "make_axes_area_auto_adjustable(bar3)\n",
    "bar4 = sns.barplot(data = result, x = result.index, y='normalized method', ax=axis[1,1], color=sns.color_palette()[3])\n",
    "bar4.bar_label(bar4.containers[0])\n",
    "make_axes_area_auto_adjustable(bar4)\n",
    "\n",
    "# Set titles\n",
    "plt.suptitle(\"Normalized number of empirical methods used for data analysis per year grouped by empirical method\")\n",
    "bar1.set(title = 'Normalized number of decriptive statistics used for data analysis per year', ylabel='Proportion of decriptive statistics', xlabel='Year')\n",
    "bar2.set(title = 'Normalized number of inferential statistics used for data analysis per year', ylabel='Proportion of inferential statistics', xlabel='Year')\n",
    "bar3.set(title = 'Normalized number of machine learning methods used for data analysis per year', ylabel='Proportion of machine learning methods', xlabel='Year')\n",
    "bar4.set(title = 'Normalized number of other methods used for data analysis per year', ylabel='Proportion of other methods', xlabel='Year')\n",
    "\n",
    "# Set spacing between subplots\n",
    "figure.tight_layout()\n",
    "plt.savefig('Figures/CQ2/da_proportion_of_empirical_methods_used_grouped_by_method.png', dpi=300)\n",
    "plt.show()"
   ]
  },
  {
   "cell_type": "markdown",
   "metadata": {},
   "source": [
    "#### <ins>*Data Interpretation*</ins>\n",
    "Muss noch geschrieben werden, wenn die Daten alle geprüft sind."
   ]
  },
  {
   "attachments": {},
   "cell_type": "markdown",
   "metadata": {},
   "source": [
    "<a id='q3'></a>\n",
    "### 3.3 How has the number of papers that do not have an empirical study evolved over time?\n",
    "\n",
    "#### <ins>*Data Selection*</ins> \n",
    "\n",
    "*Explanation of the Competency Question*:\n",
    "\n",
    "For the **target state (2020 - 2025)**, [Sjøberg et al. (2007)](https://doi.org/10.1109/FOSE.2007.30) envision that there should be good reason for **not including** a proper evaluation. This predicted state leads to the corresponding competency question.\n",
    "\n",
    "*Required Data for the Analysis*:\n",
    "\n",
    "We must retrieve all papers with their publication year that use our ORKG template and do not report an empirical study. However, we need to define what we mean by an empirical study. According to [Empirical Software Engineering Journal](https://www.springer.com/journal/10664), \"*Empirical studies presented here usually involve the collection and analysis of data and experience...*\". For this reason, we define that an empirical study is a study that includes data analysis as a necessary condition to be a study (*Necessity*) and data collection as a sufficient condition to be an empirical study (*Sufficiency*). Thus, a study must always include data analysis and an empirical study must include data collection and data analysis. We do not consider the mere reporting of a data collection as a study or even an empirical study. Therefore, we must retrieve all papers that do not have data collection, data analysis, or both.\n",
    "\n",
    "[Back to top](#step3)"
   ]
  },
  {
   "cell_type": "markdown",
   "metadata": {},
   "source": [
    "#### <ins>*Data Collection*</ins> \n",
    "Below, we retrieve the required data from the developed body of knowledge of empirical research in RE from the [ORKG](https://www.orkg.org/orkg/) using its [SPARQL endpoint](https://orkg.org/sparql/)."
   ]
  },
  {
   "cell_type": "code",
   "execution_count": null,
   "metadata": {},
   "outputs": [],
   "source": [
    "ID = '3'\n",
    "\n",
    "query_3 = \"\"\"\n",
    "        SELECT ?paper, ?year, ?dc_label, ?da_label\n",
    "        WHERE {\n",
    "                ?paper orkgp:P31 ?contribution;\n",
    "                        orkgp:P29 ?year.\n",
    "                ?contribution a orkgc:C27001.\n",
    "                \n",
    "                OPTIONAL{?contribution orkgp:P56008 ?data_collection.\n",
    "                        ?data_collection rdfs:label ?dc_label.\n",
    "                }\n",
    "                OPTIONAL{?contribution orkgp:P15124 ?data_analysis.\n",
    "                        ?data_analysis rdfs:label ?da_label.\n",
    "                }\n",
    "                FILTER(xsd:integer(?year) > \"2005\"^^xsd:integer)\n",
    "        }\n",
    "        \"\"\"\n",
    "\n",
    "retrieve_data(ID, query_3)\n",
    "\n",
    "df_query_3 = pd.read_csv('Data/query_'+ ID + '_data_' + DATE + '.csv', encoding='utf-8', encoding_errors='ignore')"
   ]
  },
  {
   "cell_type": "markdown",
   "metadata": {},
   "source": [
    "#### <ins>*Data Exploration*</ins>\n",
    "Below, we explore the retrieved data, including its cleaning and validation, to prepare the data for data analysis."
   ]
  },
  {
   "cell_type": "code",
   "execution_count": null,
   "metadata": {},
   "outputs": [],
   "source": [
    "explore_data(df_query_3)"
   ]
  },
  {
   "cell_type": "code",
   "execution_count": null,
   "metadata": {},
   "outputs": [],
   "source": [
    "df_query_3['dc_label'] = df_query_3['dc_label'].astype('category')\n",
    "df_query_3['da_label'] = df_query_3['da_label'].astype('category')\n",
    "display(df_query_3['dc_label'].value_counts())\n",
    "display(df_query_3['da_label'].value_counts())"
   ]
  },
  {
   "cell_type": "markdown",
   "metadata": {},
   "source": [
    "#### <ins>*Data Analysis*</ins>\n",
    "For this data analysis, we select all papers that do not have an empirical study according to our definition (data collection and data analysis). For this reason, we only keep all papers that have \"no collection\" and/or \"no analysis\". For more detailed insights, we normalize the number of all papers without an empirical study based on the number of all unique papers per year, as the total number of papers per year varies."
   ]
  },
  {
   "cell_type": "code",
   "execution_count": null,
   "metadata": {},
   "outputs": [],
   "source": [
    "result = pd.DataFrame(df_query_3.drop_duplicates(subset=['paper']).reset_index(drop=True)['year'].value_counts())\n",
    "result.columns = ['number_of_all_papers']\n",
    "\n",
    "papers_without_emp_study = df_query_3[(df_query_3['dc_label'] == 'no collection') | (df_query_3['da_label'] == 'no analysis')]\n",
    "papers_without_emp_study = papers_without_emp_study.drop_duplicates(subset=['paper'])\n",
    "result['number_of_papers_without_emp_studies'] = papers_without_emp_study.reset_index(drop=True)['year'].value_counts()\n",
    "result['number_of_papers_without_emp_studies'].fillna(0,inplace=True)\n",
    "result['number_of_papers_without_emp_studies'] = result['number_of_papers_without_emp_studies'].astype('int64')\n",
    "\n",
    "result['normalized_papers_without_emp_studies'] = (result['number_of_papers_without_emp_studies'] / result['number_of_all_papers']).round(2)\n",
    "#display(result.sort_index())\n",
    "\n",
    "plt.figure()\n",
    "ax = sns.barplot(data=result, x=result.index, y='number_of_papers_without_emp_studies', color='b')\n",
    "ax.bar_label(ax.containers[0])\n",
    "make_axes_area_auto_adjustable(ax)\n",
    "plt.title('Number of papers without an empirical study per year')\n",
    "plt.xlabel('Year')\n",
    "plt.ylabel('Number of papers without an empirical study')\n",
    "plt.savefig('Figures/CQ3/number_of_papers_without_empirical_study.png', dpi=300)\n",
    "plt.show()\n",
    "\n",
    "plt.figure()\n",
    "ax = sns.barplot(data=result, x=result.index, y='normalized_papers_without_emp_studies', color='b')\n",
    "ax.bar_label(ax.containers[0], fmt='%.2f')\n",
    "make_axes_area_auto_adjustable(ax)\n",
    "plt.title('Normalized number of papers without an empirical study per year')\n",
    "plt.xlabel('Year')\n",
    "plt.ylabel('Proportion of papers without an empirical study')\n",
    "plt.savefig('Figures/CQ3/proportion_of_papers_without_empirical_study.png', dpi=300)\n",
    "plt.show()"
   ]
  },
  {
   "cell_type": "markdown",
   "metadata": {},
   "source": [
    "#### <ins>*Data Interpretation*</ins>\n",
    "Muss noch geschrieben werden, wenn die Daten alle geprüft sind."
   ]
  },
  {
   "attachments": {},
   "cell_type": "markdown",
   "metadata": {},
   "source": [
    "<a id='q4'></a>\n",
    "### 3.4 How often are which empirical methods used?\n",
    "\n",
    "#### <ins>*Data Selection*</ins> \n",
    "\n",
    "*Explanation of the Competency Question*:\n",
    "\n",
    "For the **target state (2020 - 2025)**, [Sjøberg et al. (2007)](https://doi.org/10.1109/FOSE.2007.30) envision that researchers are trained in using a **large set of research methods and technqiues**. This predicted state leads to the corresponding competency question.\n",
    "\n",
    "*Required Data for the Analysis*:\n",
    "\n",
    "We must retrieve all papers that use our ORKG template and report on the use of empirical methods. According to [Dan (2017)](https://doi.org/10.1002/9781118901731.iecrm0083), empirical methods include data collection and data analysis. An empirical method can therefore be a method for data collection and data analysis. We consider the empirical method used for data collection or data analysis respectively, as our template allows for a correspondingly more fine-grained analysis.\n",
    "\n",
    "[Back to top](#step3)"
   ]
  },
  {
   "cell_type": "markdown",
   "metadata": {},
   "source": [
    "#### <ins>*Data Collection*</ins> \n",
    "Below, we retrieve the required data from the developed body of knowledge of empirical research in RE from the [ORKG](https://www.orkg.org/orkg/) using its [SPARQL endpoint](https://orkg.org/sparql/)."
   ]
  },
  {
   "cell_type": "code",
   "execution_count": null,
   "metadata": {},
   "outputs": [],
   "source": [
    "ID = '4.1'\n",
    "\n",
    "query_4_1_data_collection = \"\"\"\n",
    "        SELECT ?paper, ?dc_label\n",
    "        WHERE {\n",
    "                ?paper orkgp:P31 ?contribution;\n",
    "                       orkgp:P29 ?year.\n",
    "                ?contribution a orkgc:C27001.\n",
    "\n",
    "                OPTIONAL{?contribution orkgp:P56008 ?data_collection.\n",
    "                         ?data_collection rdfs:label ?dc_label.\n",
    "                }\n",
    "                FILTER(?dc_label != \"no collection\"^^xsd:string)\n",
    "                FILTER(xsd:integer(?year) > \"2005\"^^xsd:integer)\n",
    "        }\n",
    "        \"\"\"\n",
    "\n",
    "retrieve_data(ID, query_4_1_data_collection)\n",
    "df_query_4_1 = pd.read_csv('Data/query_'+ ID + '_data_' + DATE + '.csv', encoding='utf-8', encoding_errors='ignore')\n",
    "\n",
    "ID = '4.2'\n",
    "query_4_2_data_analysis = \"\"\"\n",
    "        SELECT ?paper, ?da_label, ?descriptive, ?inferential, ?machine_learning, ?method\n",
    "        WHERE {\n",
    "                ?paper orkgp:P31 ?contribution;\n",
    "                       orkgp:P29 ?year.\n",
    "                ?contribution a orkgc:C27001.\n",
    "                                \n",
    "                OPTIONAL{?contribution orkgp:P15124 ?data_analysis.\n",
    "                        ?data_analysis rdfs:label ?da_label.\n",
    "                        \n",
    "                        OPTIONAL{?data_analysis orkgp:P56048/rdfs:label ?descriptive.}\n",
    "                        OPTIONAL{?data_analysis orkgp:P56043/rdfs:label ?inferential.}\n",
    "                        OPTIONAL{?data_analysis orkgp:P57016/rdfs:label ?machine_learning.}\n",
    "                        OPTIONAL{?data_analysis orkgp:P76003/rdfs:label ?method}\n",
    "                }\n",
    "                FILTER(?da_label != \"no analysis\"^^xsd:string)\n",
    "                FILTER(xsd:integer(?year) > \"2005\"^^xsd:integer)\n",
    "        }\n",
    "        \"\"\"\n",
    "\n",
    "retrieve_data(ID, query_4_2_data_analysis)\n",
    "df_query_4_2 = pd.read_csv('Data/query_'+ ID + '_data_' + DATE + '.csv', encoding='utf-8', encoding_errors='ignore')"
   ]
  },
  {
   "cell_type": "markdown",
   "metadata": {},
   "source": [
    "#### <ins>*Data Exploration*</ins>\n",
    "Below, we explore the retrieved data, including its cleaning and validation, to prepare the data for data analysis."
   ]
  },
  {
   "cell_type": "code",
   "execution_count": null,
   "metadata": {},
   "outputs": [],
   "source": [
    "explore_data(df_query_4_1)"
   ]
  },
  {
   "cell_type": "code",
   "execution_count": null,
   "metadata": {},
   "outputs": [],
   "source": [
    "df_query_4_1['dc_label'] = df_query_4_1['dc_label'].astype('category')\n",
    "display(df_query_4_1['dc_label'].value_counts())"
   ]
  },
  {
   "cell_type": "code",
   "execution_count": null,
   "metadata": {},
   "outputs": [],
   "source": [
    "explore_data(df_query_4_2)"
   ]
  },
  {
   "cell_type": "code",
   "execution_count": null,
   "metadata": {},
   "outputs": [],
   "source": [
    "df_query_4_2['da_label'] = df_query_4_2['da_label'].astype('category')\n",
    "df_query_4_2['descriptive'] = df_query_4_2['descriptive'].astype('category')\n",
    "df_query_4_2['inferential'] = df_query_4_2['inferential'].astype('category')\n",
    "df_query_4_2['machine_learning'] = df_query_4_2['machine_learning'].astype('category')\n",
    "df_query_4_2['method'] = df_query_4_2['method'].astype('category')\n",
    "\n",
    "display(df_query_4_2['da_label'].value_counts())\n",
    "display(df_query_4_2['descriptive'].value_counts())\n",
    "display(df_query_4_2['inferential'].value_counts())\n",
    "display(df_query_4_2['machine_learning'].value_counts())\n",
    "display(df_query_4_2['method'].value_counts())"
   ]
  },
  {
   "cell_type": "markdown",
   "metadata": {},
   "source": [
    "#### <ins>*Data Analysis*</ins>\n",
    "For this data analysis, we consider the empirical methods used for data collection. We identify the empirical methods used for data collection. A paper can involve more than one empirical method for data collection so that the number of empirical methods can be larger than the number of papers using empirical methods for data collection. We normalize the number of empirical methods used for data collection based on the number of all papers using at least one empirical methods for data collection."
   ]
  },
  {
   "cell_type": "code",
   "execution_count": null,
   "metadata": {},
   "outputs": [],
   "source": [
    "result = pd.DataFrame(df_query_4_1['dc_label'].value_counts())\n",
    "result.index = result.index.map(str.capitalize)\n",
    "result = result.rename(index={'Study': 'Other method'})\n",
    "other_methods = result.loc['Other method']\n",
    "result = result.drop(index='Other method')\n",
    "result = result.append(other_methods)\n",
    "#display(result)\n",
    "\n",
    "ax = result.plot(kind='barh', rot=0)\n",
    "ax.invert_yaxis()\n",
    "ax.bar_label(ax.containers[0])\n",
    "ax.get_legend().remove()\n",
    "make_axes_area_auto_adjustable(ax)\n",
    "plt.title('Number of empirical methods used for data collection')\n",
    "plt.xlabel('Number of empirical method used')\n",
    "plt.ylabel('Empirical method used')\n",
    "plt.savefig('Figures/CQ4/dc_number_of_empirical_methods_used.png', dpi=300)\n",
    "plt.show()\n",
    "\n",
    "number_of_all_papers_with_dc = result['dc_label'].sum()\n",
    "result['normalized'] = (result['dc_label'] / number_of_all_papers_with_dc).round(3)\n",
    "#display(result)\n",
    "\n",
    "plt.figure()\n",
    "ax = result.loc[:, 'normalized'].plot(kind='barh', rot=0)\n",
    "ax.invert_yaxis()\n",
    "ax.bar_label(ax.containers[0])\n",
    "make_axes_area_auto_adjustable(ax)\n",
    "plt.title('Normalized number of empirical methods used for data collection')\n",
    "plt.xlabel('Proportion of empirical method used')\n",
    "plt.ylabel('Empirical method used')\n",
    "plt.savefig('Figures/CQ4/dc_proportion_of_empirical_methods_used.png', dpi=300)\n",
    "plt.show()"
   ]
  },
  {
   "cell_type": "markdown",
   "metadata": {},
   "source": [
    "For this data analysis, we consider the empirical methods used for data analysis. We identify the empirical methods used for data analysis. A paper can involve more than one empirical method for data analysis so that the number of empirical methods can be larger than the number of papers using empirical methods for data analysis. We normalize the number of empirical methods used for data analysis based on the number of all papers using at least one empirical methods for data analysis."
   ]
  },
  {
   "cell_type": "code",
   "execution_count": null,
   "metadata": {},
   "outputs": [],
   "source": [
    "df_query_4_2 = df_query_4_2.drop_duplicates(subset=['paper'])\n",
    "result = pd.DataFrame(df_query_4_2[['descriptive', 'inferential', 'machine_learning', 'method']].count(), columns=['number of method'])\n",
    "result = result.rename(index={'descriptive': 'Descriptive statistics', 'inferential': 'Inferential statistics', 'machine_learning': 'Machine learning method','method': 'Other method'})\n",
    "result.index = result.index.map(str.capitalize)\n",
    "#display(result)\n",
    "\n",
    "ax = result.plot(kind='barh', rot=0)\n",
    "ax.invert_yaxis()\n",
    "ax.bar_label(ax.containers[0])\n",
    "ax.get_legend().remove()\n",
    "make_axes_area_auto_adjustable(ax)\n",
    "plt.title('Number of empirical methods used for data analysis')\n",
    "plt.xlabel('Number of empirical method used')\n",
    "plt.ylabel('Empirical method used')\n",
    "plt.savefig('Figures/CQ4/da_number_of_empirical_methods_used.png', dpi=300)\n",
    "plt.show()\n",
    "\n",
    "number_of_all_papers_with_da = df_query_4_2.count()['da_label']\n",
    "result['normalized'] = (result['number of method'] / number_of_all_papers_with_da).round(2)\n",
    "#display(result)\n",
    "\n",
    "plt.figure()\n",
    "ax = result.loc[:, 'normalized'].plot(kind='barh', rot=0)\n",
    "ax.invert_yaxis()\n",
    "xmin, xmax = plt.xlim()\n",
    "plt.xlim(xmin, xmax+0.01)\n",
    "ax.bar_label(ax.containers[0])\n",
    "make_axes_area_auto_adjustable(ax)\n",
    "plt.title('Normalized number of empirical methods used for data analysis')\n",
    "plt.xlabel('Proportion of empirical method used')\n",
    "plt.ylabel('Empirical method used')\n",
    "plt.savefig('Figures/CQ4/da_proportion_of_empirical_methods_used.png', dpi=300)\n",
    "plt.show()"
   ]
  },
  {
   "cell_type": "markdown",
   "metadata": {},
   "source": [
    "#### <ins>*Data Interpretation*</ins>\n",
    "Muss noch geschrieben werden, wenn die Daten alle geprüft sind."
   ]
  },
  {
   "attachments": {},
   "cell_type": "markdown",
   "metadata": {},
   "source": [
    "<a id='q5'></a>\n",
    "### 3.5 How have the proportions of experiments, secondary research (reviews), surveys, case studies, and action research in the empirical methods used evolved over time?\n",
    "\n",
    "#### <ins>*Data Selection*</ins> \n",
    "\n",
    "*Explanation of the Competency Question*:\n",
    "\n",
    "According to [Sjøberg et al. (2007)](https://doi.org/10.1109/FOSE.2007.30), the **\"current\" state of practice (2007)** shows that **researchers are skilled** (frequently use) **experiments and reviews** (secondary research), but **researchers are not skilled** (do not frequently use) **surveys, case studies, and action research**. For the **target state (2020 - 2025)**, [Sjøberg et al. (2007)](https://doi.org/10.1109/FOSE.2007.30) envision that researchers are trained in using **large set of research methods and technqiues** and that their **skills** (frequent use) **of conducting case studies and actions research are stimulated**. This predicted change leads to the corresponding competency question.\n",
    "\n",
    "*Required Data for the Analysis*:\n",
    "\n",
    "We must retrieve all papers with their publication year that use our ORKG template and report on the use of the empirical methods: experiments, secondary reserach (reviews), surveys, case studies, and action research.\n",
    "\n",
    "[Back to top](#step3)"
   ]
  },
  {
   "cell_type": "markdown",
   "metadata": {},
   "source": [
    "#### <ins>*Data Collection*</ins> \n",
    "Below, we retrieve the required data from the developed body of knowledge of empirical research in RE from the [ORKG](https://www.orkg.org/orkg/) using its [SPARQL endpoint](https://orkg.org/sparql/)."
   ]
  },
  {
   "cell_type": "code",
   "execution_count": null,
   "metadata": {},
   "outputs": [],
   "source": [
    "ID = '5'\n",
    "\n",
    "query_5_data_collection = \"\"\"\n",
    "        SELECT ?paper, ?year, ?dc_label\n",
    "        WHERE {\n",
    "                ?paper orkgp:P31 ?contribution;\n",
    "                        orkgp:P29 ?year.\n",
    "                ?contribution a orkgc:C27001.\n",
    "\n",
    "                OPTIONAL{?contribution orkgp:P56008 ?data_collection.\n",
    "                        ?data_collection rdfs:label ?dc_label.\n",
    "                }\n",
    "                FILTER(?dc_label != \"no collection\"^^xsd:string)\n",
    "                FILTER(xsd:integer(?year) > \"2005\"^^xsd:integer)\n",
    "        }\n",
    "        \"\"\"\n",
    "\n",
    "retrieve_data(ID, query_5_data_collection)\n",
    "df_query_5 = pd.read_csv('Data/query_'+ ID + '_data_' + DATE + '.csv', encoding='utf-8', encoding_errors='ignore')"
   ]
  },
  {
   "cell_type": "markdown",
   "metadata": {},
   "source": [
    "#### <ins>*Data Exploration*</ins>\n",
    "Below, we explore the retrieved data, including its cleaning and validation, to prepare the data for data analysis."
   ]
  },
  {
   "cell_type": "code",
   "execution_count": null,
   "metadata": {},
   "outputs": [],
   "source": [
    "explore_data(df_query_5)"
   ]
  },
  {
   "cell_type": "code",
   "execution_count": null,
   "metadata": {},
   "outputs": [],
   "source": [
    "df_query_5['dc_label'] = df_query_5['dc_label'].astype('category')\n",
    "display(df_query_5['dc_label'].value_counts())"
   ]
  },
  {
   "cell_type": "markdown",
   "metadata": {},
   "source": [
    "#### <ins>*Data Analysis*</ins>\n",
    "For this data analysis, we consider all papers that report on the use of the empirical methods: experiment, secondary research, survey, case study, action research. A paper can involve more than one empirical method for data collection so that the number of empirical methods can be larger than the number of papers. We normalize the number of empirical methods (experiment, secondary research, survey, case study, action research) used based on the number of all unique papers per year."
   ]
  },
  {
   "cell_type": "code",
   "execution_count": null,
   "metadata": {},
   "outputs": [],
   "source": [
    "all_papers_per_year = pd.DataFrame(df_query_5.drop_duplicates(subset=['paper']).reset_index(drop=True)['year'].value_counts())\n",
    "all_papers_per_year.columns = ['number_of_papers_with_dc']\n",
    "all_papers_per_year = all_papers_per_year.sort_index()\n",
    "\n",
    "result = pd.DataFrame(df_query_5.groupby('year')['dc_label'].value_counts().unstack())\n",
    "result = result[result.sum().sort_values(ascending=False).index]\n",
    "#display(result)\n",
    "\n",
    "result = pd.concat([result, all_papers_per_year], axis=1)\n",
    "result['normalized experiment'] = (result['experiment'] / result['number_of_papers_with_dc']).round(2)\n",
    "result['normalized case study'] = (result['case study'] / result['number_of_papers_with_dc']).round(2)\n",
    "result['normalized secondary research'] = (result['secondary research'] / result['number_of_papers_with_dc']).round(2)\n",
    "result['normalized survey'] = (result['survey'] / result['number_of_papers_with_dc']).round(2)\n",
    "result['normalized action research'] = (result['action research'] / result['number_of_papers_with_dc']).round(2)\n",
    "#display(result)\n",
    "\n",
    "ax = result.loc[:, 'normalized experiment':'normalized action research'].plot(kind='bar', rot=0)\n",
    "ax.legend(bbox_to_anchor=(0.4, 0.65), labels=['Experiment', 'Case study', 'Secondary research', 'Survey', 'Action research',])\n",
    "make_axes_area_auto_adjustable(ax)\n",
    "plt.title('Normalized number of empirical methods used for data collection per year')\n",
    "plt.xlabel('Year')\n",
    "plt.ylabel('Proportion of empirical method used')\n",
    "plt.savefig('Figures/CQ5/dc_proportion_of_empirical_methods_used.png', dpi=300)\n",
    "plt.show()\n",
    "\n",
    "figure, axis = plt.subplots(3, 2, figsize=(18, 15), sharey=True)\n",
    "# Plot barplots\n",
    "bar1 = sns.barplot(data = result, x = result.index, y='normalized experiment', ax=axis[0,0], color=sns.color_palette()[0])\n",
    "bar1.bar_label(bar1.containers[0])\n",
    "make_axes_area_auto_adjustable(bar1)\n",
    "bar2 = sns.barplot(data = result, x = result.index, y='normalized case study', ax=axis[0,1], color=sns.color_palette()[1])\n",
    "bar2.bar_label(bar2.containers[0])\n",
    "make_axes_area_auto_adjustable(bar2)\n",
    "bar3 = sns.barplot(data = result, x = result.index, y='normalized secondary research', ax=axis[1,0], color=sns.color_palette()[2])\n",
    "bar3.bar_label(bar3.containers[0])\n",
    "make_axes_area_auto_adjustable(bar3)\n",
    "bar4 = sns.barplot(data = result, x = result.index, y='normalized survey', ax=axis[1,1], color=sns.color_palette()[4])\n",
    "bar4.bar_label(bar4.containers[0])\n",
    "make_axes_area_auto_adjustable(bar4)\n",
    "bar5 = sns.barplot(data = result, x = result.index, y='normalized action research', ax=axis[2,0], color=sns.color_palette()[5])\n",
    "bar5.bar_label(bar5.containers[0])\n",
    "make_axes_area_auto_adjustable(bar5)\n",
    "\n",
    "# Remove unnecessary subplot\n",
    "figure.delaxes(axis[2,1])\n",
    "\n",
    "# Set titles\n",
    "plt.suptitle(\"Normalized number of empirical methods used for data collection per year grouped by empirical method\")\n",
    "bar1.set(title = 'Normalized number of experiments used for data collection per year', ylabel='Proportion of experiments', xlabel='Year')\n",
    "bar2.set(title = 'Normalized number of case studies used for data collection per year', ylabel='Proportion of case studies', xlabel='Year')\n",
    "bar3.set(title = 'Normalized number of secondary research used for data collection per year', ylabel='Proportion of secondary research', xlabel='Year')\n",
    "bar4.set(title = 'Normalized number of interviews used for data collection per year', ylabel='Proportion of interviews', xlabel='Year')\n",
    "bar5.set(title = 'Normalized number of surveys used for data collection per year', ylabel='Proportion of surveys', xlabel='Year')\n",
    "bar6.set(title = 'Normalized number of actions research used for data collection per year', ylabel='Proportion of action research', xlabel='Year')\n",
    "bar7.set(title = 'Normalized number of other methods used for data collection per year', ylabel='Proportion of other methods', xlabel='Year')\n",
    "\n",
    "# Set spacing between subplots\n",
    "figure.tight_layout()\n",
    "plt.savefig('Figures/CQ5/dc_proportion_of_empirical_methods_used_grouped_by_method.png', dpi=300)\n",
    "plt.show()"
   ]
  },
  {
   "cell_type": "markdown",
   "metadata": {},
   "source": [
    "#### <ins>*Data Interpretation*</ins>\n",
    "Muss noch geschrieben werden, wenn die Daten alle geprüft sind."
   ]
  },
  {
   "attachments": {},
   "cell_type": "markdown",
   "metadata": {},
   "source": [
    "<a id='q6'></a>\n",
    "### 3.6 How often are which statistical methods used?\n",
    "\n",
    "#### <ins>*Data Selection*</ins> \n",
    "\n",
    "*Explanation of the Competency Question*:\n",
    "\n",
    "According to [Sjøberg et al. (2007)](https://doi.org/10.1109/FOSE.2007.30), the **\"current\" state of practice (2007)** shows that **statistical methods are used mechanically, and with little knowledge about limitations and assumptions**. For the **target state (2020 - 2025)**, [Sjøberg et al. (2007)](https://doi.org/10.1109/FOSE.2007.30) envision that **the use of statistical methods is mature**. This predicted change leads to the corresponding competency question.\n",
    "\n",
    "*Required Data for the Analysis*:\n",
    "\n",
    "We must retrieve all papers that use our ORKG template and report on the use of the statistical methods: descriptive statistics and inferential statistics. We consider each of these two types of statistics separately, as our template allows for a correspondingly more fine-grained analysis.\n",
    "\n",
    "[Back to top](#step3)"
   ]
  },
  {
   "cell_type": "markdown",
   "metadata": {},
   "source": [
    "#### <ins>*Data Collection*</ins> \n",
    "Below, we retrieve the required data from the developed body of knowledge of empirical research in RE from the [ORKG](https://www.orkg.org/orkg/) using its [SPARQL endpoint](https://orkg.org/sparql/)."
   ]
  },
  {
   "cell_type": "code",
   "execution_count": null,
   "metadata": {},
   "outputs": [],
   "source": [
    "ID = '6.1'\n",
    "\n",
    "query_6_1_des_stats = \"\"\"\n",
    "        SELECT ?paper, ?da_label, ?count, ?percent, ?mean, ?median, ?mode, ?minimum, ?maximum, \n",
    "               ?range, ?variance, ?standard_deviation, ?percentile_rank, ?quartile_rank, ?boxplot\n",
    "        WHERE {\n",
    "        ?paper orkgp:P31 ?contribution;\n",
    "               orkgp:P29 ?year.\n",
    "        ?contribution a orkgc:C27001.\n",
    "\n",
    "        OPTIONAL{?contribution orkgp:P15124 ?data_analysis.\n",
    "                ?data_analysis rdfs:label ?da_label.\n",
    "                \n",
    "                OPTIONAl{?data_analysis orkgp:P56048 ?descriptive_stats.\n",
    "                        OPTIONAL{?descriptive_stats orkgp:P56049 ?frequency.\n",
    "                                OPTIONAL{?frequency orkgp:P55023 ?count.}\n",
    "                                OPTIONAL{?frequency orkgp:P56050 ?percent.}}\n",
    "                        OPTIONAL{?descriptive_stats orkgp:P57005 ?central_tendency.\n",
    "                                OPTIONAL{?central_tendency orkgp:P47000 ?mean.}\n",
    "                                OPTIONAL{?central_tendency orkgp:P57006 ?median.}\n",
    "                                OPTIONAL{?central_tendency orkgp:P57007 ?mode.}\n",
    "                                OPTIONAL{?central_tendency orkgp:P44107 ?minimum.}\n",
    "                                OPTIONAL{?central_tendency orkgp:P44108 ?maximum.}}\n",
    "                        OPTIONAL{?descriptive_stats orkgp:P57008 ?variation.\n",
    "                                OPTIONAL{?variation orkgp:P4013 ?range.}\n",
    "                                OPTIONAL{?variation orkgp:P57009 ?variance.}\n",
    "                                OPTIONAL{?variation orkgp:P44087 ?standard_deviation.}}\n",
    "                        OPTIONAL{?descriptive_stats orkgp:P57010 ?position.\n",
    "                                OPTIONAL{?position orkgp:P57011 ?percentile_rank.}\n",
    "                                OPTIONAL{?position orkgp:P57012 ?quartile_rank.}\n",
    "                                OPTIONAL{?position orkgp:P59065 ?boxplot.}}\n",
    "                }\n",
    "        }\n",
    "        FILTER(?da_label = 'analysis'^^xsd:string)\n",
    "        FILTER(xsd:integer(?year) > \"2005\"^^xsd:integer)\n",
    "        }\n",
    "        \"\"\"\n",
    "\n",
    "retrieve_data(ID, query_6_1_des_stats)\n",
    "df_query_6_1 = pd.read_csv('Data/query_'+ ID + '_data_' + DATE + '.csv', encoding='utf-8', encoding_errors='ignore')\n",
    "\n",
    "ID = '6.2'\n",
    "query_6_2_inf_stats = \"\"\"\n",
    "        SELECT ?paper, ?da_label, ?test\n",
    "        WHERE {\n",
    "                ?paper orkgp:P31 ?contribution;\n",
    "                       orkgp:P29 ?year.\n",
    "                ?contribution a orkgc:C27001.\n",
    "\n",
    "                OPTIONAL{?contribution orkgp:P15124 ?data_analysis.\n",
    "                        ?data_analysis rdfs:label ?da_label.\n",
    "                        \n",
    "                        OPTIONAl{?data_analysis orkgp:P56043 ?inferential_stats.\n",
    "                                OPTIONAL{?inferential_stats orkgp:P35133 ?stats_test.\n",
    "                                        ?stats_test rdfs:label ?test}\n",
    "                        }\n",
    "                }\n",
    "                FILTER(?da_label = 'analysis'^^xsd:string)\n",
    "                FILTER(xsd:integer(?year) > \"2005\"^^xsd:integer)\n",
    "        }\n",
    "        \"\"\"\n",
    "\n",
    "retrieve_data(ID, query_6_2_inf_stats)\n",
    "df_query_6_2 = pd.read_csv('Data/query_'+ ID + '_data_' + DATE + '.csv', encoding='utf-8', encoding_errors='ignore')"
   ]
  },
  {
   "cell_type": "markdown",
   "metadata": {},
   "source": [
    "#### <ins>*Data Exploration*</ins>\n",
    "Below, we explore the retrieved data, including its cleaning and validation, to prepare the data for data analysis."
   ]
  },
  {
   "cell_type": "code",
   "execution_count": null,
   "metadata": {},
   "outputs": [],
   "source": [
    "explore_data(df_query_6_1)"
   ]
  },
  {
   "cell_type": "code",
   "execution_count": null,
   "metadata": {},
   "outputs": [],
   "source": [
    "df_query_6_1['da_label'] = df_query_6_1['da_label'].astype('category')\n",
    "df_query_6_1['count'] = df_query_6_1['count'].fillna(False).astype(bool)\n",
    "df_query_6_1['percent'] = df_query_6_1['percent'].fillna(False).astype(bool)\n",
    "df_query_6_1['mean'] = df_query_6_1['mean'].fillna(False).astype(bool)\n",
    "df_query_6_1['median'] = df_query_6_1['median'].fillna(False).astype(bool)\n",
    "df_query_6_1['mode'] = df_query_6_1['mode'].fillna(False).astype(bool)\n",
    "df_query_6_1['minimum'] = df_query_6_1['minimum'].fillna(False).astype(bool)\n",
    "df_query_6_1['maximum'] = df_query_6_1['maximum'].fillna(False).astype(bool)\n",
    "df_query_6_1['range'] = df_query_6_1['range'].fillna(False).astype(bool)\n",
    "df_query_6_1['variance'] = df_query_6_1['variance'].fillna(False).astype(bool)\n",
    "df_query_6_1['standard_deviation'] = df_query_6_1['standard_deviation'].fillna(False).astype(bool)\n",
    "df_query_6_1['percentile_rank'] = df_query_6_1['percentile_rank'].fillna(False).astype(bool)\n",
    "df_query_6_1['quartile_rank'] = df_query_6_1['quartile_rank'].fillna(False).astype(bool)\n",
    "df_query_6_1['boxplot'] = df_query_6_1['boxplot'].fillna(False).astype(bool)\n",
    "#display(df_query_6_1.describe())"
   ]
  },
  {
   "cell_type": "code",
   "execution_count": null,
   "metadata": {},
   "outputs": [],
   "source": [
    "explore_data(df_query_6_2)"
   ]
  },
  {
   "cell_type": "code",
   "execution_count": null,
   "metadata": {},
   "outputs": [],
   "source": [
    "df_query_6_2['da_label'] = df_query_6_2['da_label'].astype('category')\n",
    "df_query_6_2['test'] = df_query_6_2['test'].astype('category')\n",
    "\n",
    "#display(df_query_6_2['da_label'].value_counts())\n",
    "#display(df_query_6_2['test'].value_counts())"
   ]
  },
  {
   "cell_type": "markdown",
   "metadata": {},
   "source": [
    "#### <ins>*Data Analysis*</ins>\n",
    "For this data analysis, we consider the statistical methods of descriptive statistics used for data analysis. We identify the statistical methods of descriptive statistics used for data analysis. A paper can involve more than one statistical methods of descriptive statistics used for data analysis so that the number of statistical methodsof descriptive statistics used for data analysis can be larger than the number of papers using empricial methods for data analysis. We normalize the number of statistical methods of descriptive statistics used for data analysis based on the number of all papers using at least one empirical method for data analysis."
   ]
  },
  {
   "cell_type": "code",
   "execution_count": null,
   "metadata": {},
   "outputs": [],
   "source": [
    "result = pd.DataFrame(df_query_6_1[['count', 'percent','mean', 'median', 'mode', 'minimum', 'maximum', 'range', 'variance', 'standard_deviation', 'percentile_rank', 'quartile_rank', 'boxplot']].sum().sort_values())\n",
    "result.columns = ['number_of_papers_with_des_stats']\n",
    "result.index = result.index.map(str.capitalize)\n",
    "result = result.rename(index={'Standard_deviation': 'Standard deviation', 'Percentile_rank': 'Percentile rank', 'Quartile_rank': 'Quartile rank'})\n",
    "#display(result)\n",
    "\n",
    "ax = result.plot(kind='barh', rot=0)\n",
    "#ax.invert_yaxis()\n",
    "ax.bar_label(ax.containers[0])\n",
    "ax.get_legend().remove()\n",
    "make_axes_area_auto_adjustable(ax)\n",
    "plt.title('Number of statistical methods of descriptive statistics used for data analysis')\n",
    "plt.xlabel('Number of statistical method used')\n",
    "plt.ylabel('Statistical method used')\n",
    "plt.savefig('Figures/CQ6/des_stats_number_of_statistical_methods_used.png', dpi=300)\n",
    "plt.show()\n",
    "\n",
    "number_of_all_papers_with_da = df_query_6_1['da_label'].count()\n",
    "result['normalized'] = (result['number_of_papers_with_des_stats'] / number_of_all_papers_with_da).round(2)\n",
    "#display(result)\n",
    "\n",
    "plt.figure()\n",
    "ax = result.loc[:, 'normalized'].plot(kind='barh', rot=0)\n",
    "ax.bar_label(ax.containers[0])\n",
    "make_axes_area_auto_adjustable(ax)\n",
    "plt.title('Normalized number of statistical methods of descriptive statistics used for data analysis')\n",
    "plt.xlabel('Proportion of statistical method used')\n",
    "plt.ylabel('Statistical method used')\n",
    "plt.savefig('Figures/CQ6/des_stats_proportion_of_statistical_methods_used.png', dpi=300)\n",
    "plt.show()"
   ]
  },
  {
   "cell_type": "markdown",
   "metadata": {},
   "source": [
    "For this data analysis, we consider the statistical methods of inferential statistics used for data analysis. We identify the statistical methods of inferenttial statistics used for data analysis. A paper can involve more than one statistical methods of inferential statistics used for data analysis so that the number of statistical methodsof inferential statistics used for data analysis can be larger than the number of papers using empricial methods for data analysis. We normalize the number of statistical methods of inferential statistics used for data analysis based on the number of all papers using at least one empirical method for data analysis."
   ]
  },
  {
   "cell_type": "code",
   "execution_count": null,
   "metadata": {},
   "outputs": [],
   "source": [
    "result = pd.DataFrame(df_query_6_2['test'].value_counts().rename_axis('Statistical test').to_frame(name='Number'))\n",
    "result.index = result.index.map(str.capitalize)\n",
    "number_of_all_papers_with_da = df_query_6_2.drop_duplicates(subset=['paper'])['da_label'].count()\n",
    "result['Normalized number'] = (result['Number'] / number_of_all_papers_with_da).round(3)\n",
    "dfi.export(result, 'Figures/CQ6/inf_stats_number_of_statistical_methods_used.png', table_conversion='matplotlib')\n",
    "display(result)"
   ]
  },
  {
   "cell_type": "markdown",
   "metadata": {},
   "source": [
    "#### <ins>*Data Interpretation*</ins>\n",
    "Muss noch geschrieben werden, wenn die Daten alle geprüft sind."
   ]
  },
  {
   "attachments": {},
   "cell_type": "markdown",
   "metadata": {},
   "source": [
    "<a id='q7'></a>\n",
    "### 3.7 How has the use of statistical methods evolved over time?\n",
    "\n",
    "#### <ins>*Data Selection*</ins> \n",
    "\n",
    "*Explanation of the Competency Question*:\n",
    "\n",
    "According to [Sjøberg et al. (2007)](https://doi.org/10.1109/FOSE.2007.30), the **\"current\" state of practice (2007)** shows that **statistical methods are used mechanically, and with little knowledge about limitations and assumptions**. For the **target state (2020 - 2025)**, [Sjøberg et al. (2007)](https://doi.org/10.1109/FOSE.2007.30) envision that **the use of statistical methods is mature**. This predicted change leads to the corresponding competency question.\n",
    "\n",
    "*Required Data for the Analysis*:\n",
    "\n",
    "We must retrieve all papers with their publication year that use our ORKG template and report on the use of the statistical methods: descriptive statistics and inferential statistics. We consider each of these two types of statistics separately, as our template allows for a correspondingly more fine-grained analysis.\n",
    "\n",
    "[Back to top](#step3)"
   ]
  },
  {
   "cell_type": "markdown",
   "metadata": {},
   "source": [
    "#### <ins>*Data Collection*</ins> \n",
    "Below, we retrieve the required data from the developed body of knowledge of empirical research in RE from the [ORKG](https://www.orkg.org/orkg/) using its [SPARQL endpoint](https://orkg.org/sparql/)."
   ]
  },
  {
   "cell_type": "code",
   "execution_count": null,
   "metadata": {},
   "outputs": [],
   "source": [
    "ID = '7.1'\n",
    "\n",
    "query_7_1_des_stats = \"\"\"\n",
    "        SELECT ?paper, ?year, ?da_label, ?count, ?percent, ?mean, ?median, ?mode, ?minimum, ?maximum, \n",
    "               ?range, ?variance, ?standard_deviation, ?percentile_rank, ?quartile_rank, ?boxplot\n",
    "        WHERE {\n",
    "        ?paper orkgp:P31 ?contribution;\n",
    "               orkgp:P29 ?year.\n",
    "        ?contribution a orkgc:C27001.\n",
    "\n",
    "        OPTIONAL{?contribution orkgp:P15124 ?data_analysis.\n",
    "                ?data_analysis rdfs:label ?da_label.\n",
    "                \n",
    "                OPTIONAl{?data_analysis orkgp:P56048 ?descriptive_stats.\n",
    "                        OPTIONAL{?descriptive_stats orkgp:P56049 ?frequency.\n",
    "                                OPTIONAL{?frequency orkgp:P55023 ?count.}\n",
    "                                OPTIONAL{?frequency orkgp:P56050 ?percent.}}\n",
    "                        OPTIONAL{?descriptive_stats orkgp:P57005 ?central_tendency.\n",
    "                                OPTIONAL{?central_tendency orkgp:P47000 ?mean.}\n",
    "                                OPTIONAL{?central_tendency orkgp:P57006 ?median.}\n",
    "                                OPTIONAL{?central_tendency orkgp:P57007 ?mode.}\n",
    "                                OPTIONAL{?central_tendency orkgp:P44107 ?minimum.}\n",
    "                                OPTIONAL{?central_tendency orkgp:P44108 ?maximum.}}\n",
    "                        OPTIONAL{?descriptive_stats orkgp:P57008 ?variation.\n",
    "                                OPTIONAL{?variation orkgp:P4013 ?range.}\n",
    "                                OPTIONAL{?variation orkgp:P57009 ?variance.}\n",
    "                                OPTIONAL{?variation orkgp:P44087 ?standard_deviation.}}\n",
    "                        OPTIONAL{?descriptive_stats orkgp:P57010 ?position.\n",
    "                                OPTIONAL{?position orkgp:P57011 ?percentile_rank.}\n",
    "                                OPTIONAL{?position orkgp:P57012 ?quartile_rank.}\n",
    "                                OPTIONAL{?position orkgp:P59065 ?boxplot.}}\n",
    "                }\n",
    "        }\n",
    "        FILTER(?da_label = 'analysis'^^xsd:string)\n",
    "        FILTER(xsd:integer(?year) > \"2005\"^^xsd:integer)\n",
    "        }\n",
    "        \"\"\"\n",
    "\n",
    "retrieve_data(ID, query_7_1_des_stats)\n",
    "df_query_7_1 = pd.read_csv('Data/query_'+ ID + '_data_' + DATE + '.csv', encoding='utf-8', encoding_errors='ignore')\n",
    "\n",
    "ID = '7.2'\n",
    "query_7_2_inf_stats = \"\"\"\n",
    "        SELECT ?paper, ?year, ?da_label, ?test\n",
    "        WHERE {\n",
    "                ?paper orkgp:P31 ?contribution;\n",
    "                        orkgp:P29 ?year.\n",
    "                ?contribution a orkgc:C27001.\n",
    "\n",
    "                OPTIONAL{?contribution orkgp:P15124 ?data_analysis.\n",
    "                        ?data_analysis rdfs:label ?da_label.\n",
    "                        \n",
    "                        OPTIONAl{?data_analysis orkgp:P56043 ?inferential_stats.\n",
    "                                OPTIONAL{?inferential_stats orkgp:P35133 ?stats_test.\n",
    "                                        ?stats_test rdfs:label ?test}\n",
    "                        }\n",
    "                }\n",
    "                FILTER(?da_label = 'analysis'^^xsd:string)\n",
    "                FILTER(xsd:integer(?year) > \"2005\"^^xsd:integer)\n",
    "        }\n",
    "        \"\"\"\n",
    "\n",
    "retrieve_data(ID, query_7_2_inf_stats)\n",
    "df_query_7_2 = pd.read_csv('Data/query_'+ ID + '_data_' + DATE + '.csv', encoding='utf-8', encoding_errors='ignore')"
   ]
  },
  {
   "cell_type": "markdown",
   "metadata": {},
   "source": [
    "#### <ins>*Data Exploration*</ins>\n",
    "Below, we explore the retrieved data, including its cleaning and validation, to prepare the data for data analysis."
   ]
  },
  {
   "cell_type": "code",
   "execution_count": null,
   "metadata": {},
   "outputs": [],
   "source": [
    "explore_data(df_query_7_1)"
   ]
  },
  {
   "cell_type": "code",
   "execution_count": null,
   "metadata": {},
   "outputs": [],
   "source": [
    "df_query_7_1['da_label'] = df_query_7_1['da_label'].astype('category')\n",
    "df_query_7_1['count'] = df_query_7_1['count'].fillna(False).astype(bool)\n",
    "df_query_7_1['percent'] = df_query_7_1['percent'].fillna(False).astype(bool)\n",
    "df_query_7_1['mean'] = df_query_7_1['mean'].fillna(False).astype(bool)\n",
    "df_query_7_1['median'] = df_query_7_1['median'].fillna(False).astype(bool)\n",
    "df_query_7_1['mode'] = df_query_7_1['mode'].fillna(False).astype(bool)\n",
    "df_query_7_1['minimum'] = df_query_7_1['minimum'].fillna(False).astype(bool)\n",
    "df_query_7_1['maximum'] = df_query_7_1['maximum'].fillna(False).astype(bool)\n",
    "df_query_7_1['range'] = df_query_7_1['range'].fillna(False).astype(bool)\n",
    "df_query_7_1['variance'] = df_query_7_1['variance'].fillna(False).astype(bool)\n",
    "df_query_7_1['standard_deviation'] = df_query_7_1['standard_deviation'].fillna(False).astype(bool)\n",
    "df_query_7_1['percentile_rank'] = df_query_7_1['percentile_rank'].fillna(False).astype(bool)\n",
    "df_query_7_1['quartile_rank'] = df_query_7_1['quartile_rank'].fillna(False).astype(bool)\n",
    "df_query_7_1['boxplot'] = df_query_7_1['boxplot'].fillna(False).astype(bool)\n",
    "#display(df_query_7_1.info())"
   ]
  },
  {
   "cell_type": "code",
   "execution_count": null,
   "metadata": {},
   "outputs": [],
   "source": [
    "explore_data(df_query_7_2)"
   ]
  },
  {
   "cell_type": "code",
   "execution_count": null,
   "metadata": {},
   "outputs": [],
   "source": [
    "df_query_7_2['da_label'] = df_query_7_2['da_label'].astype('category')\n",
    "df_query_7_2['test'] = df_query_7_2['test'].astype('category')\n",
    "\n",
    "#display(df_query_7_2['da_label'].value_counts())\n",
    "#display(df_query_7_2['test'].value_counts())"
   ]
  },
  {
   "cell_type": "markdown",
   "metadata": {},
   "source": [
    "#### <ins>*Data Analysis*</ins>\n",
    "For this data analysis, we consider the statistical methods of descriptive statistics used for data analysis. We identify the statistical methods of descriptive statistics used for data analysis. A paper can involve more than one statistical methods of descriptive statistics used for data analysis so that the number of statistical methodsof descriptive statistics used for data analysis can be larger than the number of papers using empricial methods for data analysis. We normalize the number of statistical methods of descriptive statistics used for data analysis based on the number of all papers using at least one empirical method for data analysis."
   ]
  },
  {
   "cell_type": "code",
   "execution_count": null,
   "metadata": {},
   "outputs": [],
   "source": [
    "result = pd.DataFrame(df_query_7_1.groupby('year').sum())\n",
    "#display(result)\n",
    "\n",
    "ax = result.plot(kind='bar', rot=0)\n",
    "ax.legend(bbox_to_anchor=(0.7, 0.3), labels=['Count', 'Percent', 'Mean', 'Median', 'Mode', 'Minimum', 'Maximum', 'Range', 'Variance', 'Standard deviation', 'Percentile rank', 'Quartile rank', 'Boxplot'])\n",
    "#make_axes_area_auto_adjustable(ax)\n",
    "plt.title('Number of statistical methods of descriptive statistics used for data analysis per year')\n",
    "plt.xlabel('Year')\n",
    "plt.ylabel('Number of statistical method used')\n",
    "plt.savefig('Figures/CQ7/des_stats_number_of_statistical_methods_used.png', dpi=300)\n",
    "plt.show()\n",
    "\n",
    "figure, axis = plt.subplots(7, 2, figsize=(18, 22), sharey=True)\n",
    "# Plot barplots\n",
    "bar1 = sns.barplot(data = result, x = result.index, y='count', ax=axis[0,0], color=sns.color_palette()[0])\n",
    "bar1.bar_label(bar1.containers[0])\n",
    "#make_axes_area_auto_adjustable(bar1)\n",
    "bar2 = sns.barplot(data = result, x = result.index, y='percent', ax=axis[0,1], color=sns.color_palette()[1])\n",
    "bar2.bar_label(bar2.containers[0])\n",
    "# make_axes_area_auto_adjustable(bar2)\n",
    "bar3 = sns.barplot(data = result, x = result.index, y='mean', ax=axis[1,0], color=sns.color_palette()[2])\n",
    "bar3.bar_label(bar3.containers[0])\n",
    "# make_axes_area_auto_adjustable(bar3)\n",
    "bar4 = sns.barplot(data = result, x = result.index, y='median', ax=axis[1,1], color=sns.color_palette()[3])\n",
    "bar4.bar_label(bar4.containers[0])\n",
    "# make_axes_area_auto_adjustable(bar4)\n",
    "bar5 = sns.barplot(data = result, x = result.index, y='mode', ax=axis[2,0], color=sns.color_palette()[4])\n",
    "bar5.bar_label(bar5.containers[0])\n",
    "# make_axes_area_auto_adjustable(bar5)\n",
    "bar6 = sns.barplot(data = result, x = result.index, y='minimum', ax=axis[2,1], color=sns.color_palette()[5])\n",
    "bar6.bar_label(bar6.containers[0])\n",
    "# make_axes_area_auto_adjustable(bar6)\n",
    "bar7 = sns.barplot(data = result, x = result.index, y='maximum', ax=axis[3,0], color=sns.color_palette()[6])\n",
    "bar7.bar_label(bar7.containers[0])\n",
    "# make_axes_area_auto_adjustable(bar7)\n",
    "bar8 = sns.barplot(data = result, x = result.index, y='range', ax=axis[3,1], color=sns.color_palette()[7])\n",
    "bar8.bar_label(bar8.containers[0])\n",
    "# make_axes_area_auto_adjustable(bar7)\n",
    "bar9 = sns.barplot(data = result, x = result.index, y='variance', ax=axis[4,0], color=sns.color_palette()[8])\n",
    "bar9.bar_label(bar9.containers[0])\n",
    "# make_axes_area_auto_adjustable(bar7)\n",
    "bar10 = sns.barplot(data = result, x = result.index, y='standard_deviation', ax=axis[4,1], color=sns.color_palette()[9])\n",
    "bar10.bar_label(bar10.containers[0])\n",
    "# make_axes_area_auto_adjustable(bar7)\n",
    "bar11 = sns.barplot(data = result, x = result.index, y='percentile_rank', ax=axis[5,0], color=sns.color_palette()[0])\n",
    "bar11.bar_label(bar11.containers[0])\n",
    "# make_axes_area_auto_adjustable(bar7)\n",
    "bar12 = sns.barplot(data = result, x = result.index, y='quartile_rank', ax=axis[5,1], color=sns.color_palette()[1])\n",
    "bar12.bar_label(bar12.containers[0])\n",
    "# make_axes_area_auto_adjustable(bar7)\n",
    "bar13 = sns.barplot(data = result, x = result.index, y='boxplot', ax=axis[6,0], color=sns.color_palette()[2])\n",
    "bar13.bar_label(bar13.containers[0])\n",
    "# make_axes_area_auto_adjustable(bar7)\n",
    "\n",
    "# Remove unnecessary subplot\n",
    "figure.delaxes(axis[6,1])\n",
    "\n",
    "# Set titles\n",
    "plt.suptitle(\"Number of statistical method used for data analysis per year grouped by statistical method\")\n",
    "bar1.set(title = 'Number of count method used for data analysis per year', ylabel='Number of count method', xlabel='Year')\n",
    "bar2.set(title = 'Number of percent method used for data analysis per year', ylabel='Number of percent method', xlabel='Year')\n",
    "bar3.set(title = 'Number of mean method used for data analysis per year', ylabel='Number of mean method', xlabel='Year')\n",
    "bar4.set(title = 'Number of median method used for data analysis per year', ylabel='Number of median method', xlabel='Year')\n",
    "bar5.set(title = 'Number of mode method used for data analysis per year', ylabel='Number of mode method', xlabel='Year')\n",
    "bar6.set(title = 'Number of minimum method used for data analyis per year', ylabel='Number of minimum method', xlabel='Year')\n",
    "bar7.set(title = 'Number of maximum method used for data analysis per year', ylabel='Number of maximum method', xlabel='Year')\n",
    "bar8.set(title = 'Number of range method used for data analysis per year', ylabel='Number of range method', xlabel='Year')\n",
    "bar9.set(title = 'Number of variance method used for data analysis per year', ylabel='Number of variance method', xlabel='Year')\n",
    "bar10.set(title = 'Number of standard deviation method used for data analysis per year', ylabel='Number of standard deviation method', xlabel='Year')\n",
    "bar11.set(title = 'Number of percentile rank method used for data analysis per year', ylabel='Number of percentile rank method', xlabel='Year')\n",
    "bar12.set(title = 'Number of quartile rank method used for data analysis per year', ylabel='Number of quartile rank method', xlabel='Year')\n",
    "bar13.set(title = 'Number of boxplot method used for data analysis per year', ylabel='Number of boxplot method', xlabel='Year')\n",
    "\n",
    "# Set spacing between subplots\n",
    "figure.tight_layout()\n",
    "plt.savefig('Figures/CQ7/des_stats_number_of_statistical_methods_used_grouped_by_method.png', dpi=300)\n",
    "plt.show()\n",
    "\n",
    "number_of_all_papers_with_da = df_query_7_1.groupby('year')['da_label'].count()\n",
    "\n",
    "result = pd.concat([result, number_of_all_papers_with_da], axis=1)\n",
    "result['normalized count'] = (result['count'] / result['da_label']).round(2)\n",
    "result['normalized percent'] = (result['percent'] / result['da_label']).round(2)\n",
    "result['normalized mean'] = (result['mean'] / result['da_label']).round(2)\n",
    "result['normalized median'] = (result['median'] / result['da_label']).round(2)\n",
    "result['normalized mode'] = (result['mode'] / result['da_label']).round(2)\n",
    "result['normalized minimum'] = (result['minimum'] / result['da_label']).round(2)\n",
    "result['normalized maximum'] = (result['maximum'] / result['da_label']).round(2)\n",
    "result['normalized range'] = (result['range'] / result['da_label']).round(2)\n",
    "result['normalized variance'] = (result['variance'] / result['da_label']).round(2)\n",
    "result['normalized standard deviation'] = (result['standard_deviation'] / result['da_label']).round(2)\n",
    "result['normalized percentile rank'] = (result['percentile_rank'] / result['da_label']).round(2)\n",
    "result['normalized quartile rank'] = (result['quartile_rank'] / result['da_label']).round(2)\n",
    "result['normalized boxplot'] = (result['boxplot'] / result['da_label']).round(2)\n",
    "#display(result)\n",
    "\n",
    "ax = result.loc[:, 'normalized count':'normalized boxplot'].plot(kind='bar', rot=0)\n",
    "ax.legend(bbox_to_anchor=(0.7, 0.3), labels=['Count', 'Percent', 'Mean', 'Median', 'Mode', 'Minimum', 'Maximum', 'Range', 'Variance', 'Standard deviation', 'Percentile rank', 'Quartile rank', 'Boxplot'])\n",
    "# make_axes_area_auto_adjustable(ax)\n",
    "plt.title('Normalized statistical methods of descriptive statistics used for data analysis per year')\n",
    "plt.xlabel('Year')\n",
    "plt.ylabel('Proportion of statistical method used')\n",
    "plt.savefig('Figures/CQ7/des_stats_proportion_of_statistical_methods_used.png', dpi=300)\n",
    "plt.show()\n",
    "\n",
    "figure, axis = plt.subplots(7, 2, figsize=(18, 22), sharey=True)\n",
    "# Plot barplots\n",
    "bar1 = sns.barplot(data = result, x = result.index, y='normalized count', ax=axis[0,0], color=sns.color_palette()[0])\n",
    "bar1.bar_label(bar1.containers[0])\n",
    "#make_axes_area_auto_adjustable(bar1)\n",
    "bar2 = sns.barplot(data = result, x = result.index, y='normalized percent', ax=axis[0,1], color=sns.color_palette()[1])\n",
    "bar2.bar_label(bar2.containers[0])\n",
    "# make_axes_area_auto_adjustable(bar2)\n",
    "bar3 = sns.barplot(data = result, x = result.index, y='normalized mean', ax=axis[1,0], color=sns.color_palette()[2])\n",
    "bar3.bar_label(bar3.containers[0])\n",
    "# make_axes_area_auto_adjustable(bar3)\n",
    "bar4 = sns.barplot(data = result, x = result.index, y='normalized median', ax=axis[1,1], color=sns.color_palette()[3])\n",
    "bar4.bar_label(bar4.containers[0])\n",
    "# make_axes_area_auto_adjustable(bar4)\n",
    "bar5 = sns.barplot(data = result, x = result.index, y='normalized mode', ax=axis[2,0], color=sns.color_palette()[4])\n",
    "bar5.bar_label(bar5.containers[0])\n",
    "# make_axes_area_auto_adjustable(bar5)\n",
    "bar6 = sns.barplot(data = result, x = result.index, y='normalized minimum', ax=axis[2,1], color=sns.color_palette()[5])\n",
    "bar6.bar_label(bar6.containers[0])\n",
    "# make_axes_area_auto_adjustable(bar6)\n",
    "bar7 = sns.barplot(data = result, x = result.index, y='normalized maximum', ax=axis[3,0], color=sns.color_palette()[6])\n",
    "bar7.bar_label(bar7.containers[0])\n",
    "# make_axes_area_auto_adjustable(bar7)\n",
    "bar8 = sns.barplot(data = result, x = result.index, y='normalized range', ax=axis[3,1], color=sns.color_palette()[7])\n",
    "bar8.bar_label(bar8.containers[0])\n",
    "# make_axes_area_auto_adjustable(bar7)\n",
    "bar9 = sns.barplot(data = result, x = result.index, y='normalized variance', ax=axis[4,0], color=sns.color_palette()[8])\n",
    "bar9.bar_label(bar9.containers[0])\n",
    "# make_axes_area_auto_adjustable(bar7)\n",
    "bar10 = sns.barplot(data = result, x = result.index, y='normalized standard deviation', ax=axis[4,1], color=sns.color_palette()[9])\n",
    "bar10.bar_label(bar10.containers[0])\n",
    "# make_axes_area_auto_adjustable(bar7)\n",
    "bar11 = sns.barplot(data = result, x = result.index, y='normalized percentile rank', ax=axis[5,0], color=sns.color_palette()[0])\n",
    "bar11.bar_label(bar11.containers[0])\n",
    "# make_axes_area_auto_adjustable(bar7)\n",
    "bar12 = sns.barplot(data = result, x = result.index, y='normalized quartile rank', ax=axis[5,1], color=sns.color_palette()[1])\n",
    "bar12.bar_label(bar12.containers[0])\n",
    "# make_axes_area_auto_adjustable(bar7)\n",
    "bar13 = sns.barplot(data = result, x = result.index, y='normalized boxplot', ax=axis[6,0], color=sns.color_palette()[2])\n",
    "bar13.bar_label(bar13.containers[0])\n",
    "# make_axes_area_auto_adjustable(bar7)\n",
    "\n",
    "# Remove unnecessary subplot\n",
    "figure.delaxes(axis[6,1])\n",
    "\n",
    "# Set titles\n",
    "plt.suptitle(\"Normalized number of statistical method used for data analysis per year grouped by statistical method\")\n",
    "bar1.set(title = 'Normalized number of count method used for data analysis per year', ylabel='Proportion of count method', xlabel='Year')\n",
    "bar2.set(title = 'Normalized number of percent method used for data analysis per year', ylabel='Proportion of percent method', xlabel='Year')\n",
    "bar3.set(title = 'Normalized number of mean method used for data analysis per year', ylabel='Proportion of mean method', xlabel='Year')\n",
    "bar4.set(title = 'Normalized number of median method used for data analysis per year', ylabel='Proportion of median method', xlabel='Year')\n",
    "bar5.set(title = 'Normalized number of mode method used for data analysis per year', ylabel='Proportion of mode method', xlabel='Year')\n",
    "bar6.set(title = 'Normalized number of minimum method used for data analyis per year', ylabel='Proportion of minimum method', xlabel='Year')\n",
    "bar7.set(title = 'Normalized number of maximum method used for data analysis per year', ylabel='Proportion of maximum method', xlabel='Year')\n",
    "bar8.set(title = 'Normalized number of range method used for data analysis per year', ylabel='Proportion of range method', xlabel='Year')\n",
    "bar9.set(title = 'Normalized number of variance method used for data analysis per year', ylabel='Proportion of variance method', xlabel='Year')\n",
    "bar10.set(title = 'Normalized number of standard deviation method used for data analysis per year', ylabel='Proportion of standard deviation method', xlabel='Year')\n",
    "bar11.set(title = 'Normalized number of percentile rank method used for data analysis per year', ylabel='Proportion of percentile rank method', xlabel='Year')\n",
    "bar12.set(title = 'Normalized number of quartile rank method used for data analysis per year', ylabel='Proportion of quartile rank method', xlabel='Year')\n",
    "bar13.set(title = 'Normalized number of boxplot method used for data analysis per year', ylabel='Proportion of boxplot method', xlabel='Year')\n",
    "\n",
    "# Set spacing between subplots\n",
    "figure.tight_layout()\n",
    "plt.savefig('Figures/CQ7/des_stats_proportion_of_statistical_methods_used_grouped_by_method.png', dpi=300)\n",
    "plt.show()"
   ]
  },
  {
   "cell_type": "markdown",
   "metadata": {},
   "source": [
    "For this data analysis, we consider the statistical methods of inferential statistics used for data analysis. We identify the statistical methods of inferenttial statistics used for data analysis. A paper can involve more than one statistical methods of inferential statistics used for data analysis so that the number of statistical methodsof inferential statistics used for data analysis can be larger than the number of papers using empricial methods for data analysis. We normalize the number of statistical methods of inferential statistics used for data analysis based on the number of all papers using at least one empirical method for data analysis."
   ]
  },
  {
   "cell_type": "code",
   "execution_count": null,
   "metadata": {},
   "outputs": [],
   "source": [
    "result = pd.DataFrame(df_query_7_2.groupby('year')['test'].value_counts().unstack())\n",
    "dfi.export(result, 'Figures/CQ7/inf_stats_number_of_statistical_methods_used.png', table_conversion='matplotlib', max_cols=-1)\n",
    "display(result)\n",
    "\n",
    "number_of_all_papers_with_da = df_query_7_1.groupby('year')['da_label'].count()\n",
    "result_2 = pd.DataFrame()\n",
    "for column in result:\n",
    "    result_2['normalized ' + str(column)] = (result[column] / number_of_all_papers_with_da).round(3)\n",
    "dfi.export(result_2, 'Figures/CQ7/inf_stats_proportion_of_statistical_methods_used.png', table_conversion='matplotlib', max_cols=-1)\n",
    "display(result_2)"
   ]
  },
  {
   "cell_type": "markdown",
   "metadata": {},
   "source": [
    "#### <ins>*Data Interpretation*</ins>\n",
    "Muss noch geschrieben werden, wenn die Daten alle geprüft sind."
   ]
  },
  {
   "attachments": {},
   "cell_type": "markdown",
   "metadata": {},
   "source": [
    "<a id='q8'></a>\n",
    "### 3.8 How has the reporting of threats to validity evolved over time?\n",
    "\n",
    "#### <ins>*Data Selection*</ins> \n",
    "\n",
    "*Explanation of the Competency Question*:\n",
    "\n",
    "According to [Sjøberg et al. (2007)](https://doi.org/10.1109/FOSE.2007.30), the **\"current\" state of practice (2007)** shows that researchers **lack knwoledge about limitations and assumptions of statistical tests, power analysis and effect size estiamtion as well as do not well define populations**. For the **target state (2020 - 2025)**, [Sjøberg et al. (2007)](https://doi.org/10.1109/FOSE.2007.30) envision that **all these aspects are sufficiently addressed**. All mentioned aspects related to threats to validity of an empirical study and this predicted change leads to the corresponding competency question.\n",
    "\n",
    "*Required Data for the Analysis*:\n",
    "\n",
    "We must retrieve all papers with their publication year that use our ORKG template and report on threats to validity.\n",
    "\n",
    "[Back to top](#step3)"
   ]
  },
  {
   "cell_type": "markdown",
   "metadata": {},
   "source": [
    "#### <ins>*Data Collection*</ins> \n",
    "Below, we retrieve the required data from the developed body of knowledge of empirical research in RE from the [ORKG](https://www.orkg.org/orkg/) using its [SPARQL endpoint](https://orkg.org/sparql/)."
   ]
  },
  {
   "cell_type": "code",
   "execution_count": null,
   "metadata": {},
   "outputs": [],
   "source": [
    "ID = '8'\n",
    "\n",
    "query_8 = \"\"\"\n",
    "        SELECT ?paper, ?year, ?threats, ?threats_label\n",
    "        WHERE {\n",
    "                ?paper orkgp:P31 ?contribution;\n",
    "                        orkgp:P29 ?year.\n",
    "                ?contribution a orkgc:C27001.\n",
    "\n",
    "                OPTIONAL{?contribution orkgp:P39099 ?threats.\n",
    "                        ?threats rdfs:label ?threats_label.\n",
    "                }\n",
    "                FILTER(xsd:integer(?year) > \"2005\"^^xsd:integer)\n",
    "        }\n",
    "        \"\"\"\n",
    "\n",
    "retrieve_data(ID, query_8)\n",
    "\n",
    "df_query_8 = pd.read_csv('Data/query_'+ ID + '_data_' + DATE + '.csv', encoding='utf-8', encoding_errors='ignore')"
   ]
  },
  {
   "cell_type": "markdown",
   "metadata": {},
   "source": [
    "#### <ins>*Data Exploration*</ins>\n",
    "Below, we explore the retrieved data, including its cleaning and validation, to prepare the data for data analysis."
   ]
  },
  {
   "cell_type": "code",
   "execution_count": null,
   "metadata": {},
   "outputs": [],
   "source": [
    "explore_data(df_query_8)"
   ]
  },
  {
   "cell_type": "code",
   "execution_count": null,
   "metadata": {},
   "outputs": [],
   "source": [
    "df_query_8['threats_label'] = df_query_8['threats_label'].astype('category')\n",
    "display(df_query_8['threats_label'].value_counts())"
   ]
  },
  {
   "cell_type": "markdown",
   "metadata": {},
   "source": [
    "#### <ins>*Data Analysis*</ins>\n",
    "For this data analysis, we select all papers that report threats to validity. For more detailed insights, we normalize the number of all papers reporting threats to validity based on the number of all unique papers per year, as the total number of papers per year varies."
   ]
  },
  {
   "cell_type": "code",
   "execution_count": null,
   "metadata": {},
   "outputs": [],
   "source": [
    "result = pd.DataFrame(df_query_8.drop_duplicates(subset=['paper']).reset_index(drop=True)['year'].value_counts())\n",
    "result.columns = ['number_of_all_papers']\n",
    "\n",
    "papers_with_threats = df_query_8[(df_query_8['threats_label'] != 'non')]\n",
    "papers_with_threats = papers_with_threats.drop_duplicates(subset=['paper'])\n",
    "result['number_of_papers_with_threats'] = papers_with_threats.reset_index(drop=True)['year'].value_counts()\n",
    "\n",
    "result['normalized_papers_with_threats'] = (result['number_of_papers_with_threats'] / result['number_of_all_papers']).round(2)\n",
    "#display(result.sort_index())\n",
    "\n",
    "plt.figure()\n",
    "ax = sns.barplot(data=result, x=result.index, y='number_of_papers_with_threats', color='b')\n",
    "ax.bar_label(ax.containers[0])\n",
    "# make_axes_area_auto_adjustable(ax)\n",
    "plt.title('Number of papers reporting threats to validity per year')\n",
    "plt.xlabel('Year')\n",
    "plt.ylabel('Number of papers reporting threats to validity')\n",
    "plt.savefig('Figures/CQ8/number_of_papers_with_threats.png', dpi=300)\n",
    "plt.show()\n",
    "\n",
    "plt.figure()\n",
    "ax = sns.barplot(data=result, x=result.index, y='normalized_papers_with_threats', color='b')\n",
    "ax.bar_label(ax.containers[0], fmt='%.2f')\n",
    "# make_axes_area_auto_adjustable(ax)\n",
    "plt.title('Normalized number of papers reporting threats to validity per year')\n",
    "plt.xlabel('Year')\n",
    "plt.ylabel('Proportion of papers reporting threats to validity')\n",
    "plt.savefig('Figures/CQ8/proportion_of_papers_with_threats.png', dpi=300)\n",
    "plt.show()"
   ]
  },
  {
   "cell_type": "markdown",
   "metadata": {},
   "source": [
    "#### <ins>*Data Interpretation*</ins>\n",
    "Muss noch geschrieben werden, wenn die Daten alle geprüft sind."
   ]
  },
  {
   "attachments": {},
   "cell_type": "markdown",
   "metadata": {},
   "source": [
    "<a id='q9'></a>\n",
    "### 3.9 What types of threats to validity do the authors report?\n",
    "\n",
    "#### <ins>*Data Selection*</ins> \n",
    "\n",
    "*Explanation of the Competency Question*:\n",
    "\n",
    "According to [Sjøberg et al. (2007)](https://doi.org/10.1109/FOSE.2007.30), the **\"current\" state of practice (2007)** shows that researchers **lack knwoledge about limitations and assumptions of statistical tests, power analysis and effect size estiamtion as well as do not well define populations**. For the **target state (2020 - 2025)**, [Sjøberg et al. (2007)](https://doi.org/10.1109/FOSE.2007.30) envision that **all these aspects are sufficiently addressed**. All mentioned aspects related to threats to validity of an empirical study and this predicted change leads to the corresponding competency question.\n",
    "\n",
    "*Required Data for the Analysis*:\n",
    "\n",
    "We must retrieve all papers with their publication year that use our ORKG template and report on threats to validity.\n",
    "\n",
    "[Back to top](#step3)"
   ]
  },
  {
   "cell_type": "markdown",
   "metadata": {},
   "source": [
    "#### <ins>*Data Collection*</ins> \n",
    "Below, we retrieve the required data from the developed body of knowledge of empirical research in RE from the [ORKG](https://www.orkg.org/orkg/) using its [SPARQL endpoint](https://orkg.org/sparql/)."
   ]
  },
  {
   "cell_type": "code",
   "execution_count": null,
   "metadata": {},
   "outputs": [],
   "source": [
    "ID = '9'\n",
    "\n",
    "query_9 = \"\"\"\n",
    "        SELECT ?paper, ?year, ?threats_label, ?external, ?internal, ?construct, ?conclusion, ?reliability, ?generalizability, ?content, ?descriptive, ?theoretical, ?repeatability\n",
    "        WHERE {\n",
    "                ?paper orkgp:P31 ?contribution;\n",
    "                        orkgp:P29 ?year.\n",
    "                ?contribution a orkgc:C27001.\n",
    "\n",
    "                OPTIONAL{?contribution orkgp:P39099 ?threats.\n",
    "                        ?threats rdfs:label ?threats_label.\n",
    "                        OPTIONAL{?threats orkgp:P55034 ?external.}\n",
    "                        OPTIONAL{?threats orkgp:P55035 ?internal.}\n",
    "                        OPTIONAL{?threats orkgp:P55037 ?construct.}\n",
    "                        OPTIONAL{?threats orkgp:P55036 ?conclusion.}\n",
    "                        OPTIONAL{?threats orkgp:P59109 ?reliability.}\n",
    "                        OPTIONAL{?threats orkgp:P60006 ?generalizability.}\n",
    "                        OPTIONAL{?threats orkgp:P68005 ?content.}\n",
    "                        OPTIONAL{?threats orkgp:P97000 ?descriptive.}\n",
    "                        OPTIONAL{?threats orkgp:P97001 ?theoretical.}\n",
    "                        OPTIONAL{?threats orkgp:P97002 ?repeatability.} \n",
    "                        }\n",
    "                FILTER(xsd:integer(?year) > \"2005\"^^xsd:integer)\n",
    "                }\n",
    "        \"\"\"\n",
    "\n",
    "retrieve_data(ID, query_9)\n",
    "\n",
    "df_query_9 = pd.read_csv('Data/query_'+ ID + '_data_' + DATE + '.csv', encoding='utf-8', encoding_errors='ignore')"
   ]
  },
  {
   "cell_type": "markdown",
   "metadata": {},
   "source": [
    "#### <ins>*Data Exploration*</ins>\n",
    "Below, we explore the retrieved data, including its cleaning and validation, to prepare the data for data analysis."
   ]
  },
  {
   "cell_type": "code",
   "execution_count": null,
   "metadata": {},
   "outputs": [],
   "source": [
    "explore_data(df_query_9)"
   ]
  },
  {
   "cell_type": "code",
   "execution_count": null,
   "metadata": {},
   "outputs": [],
   "source": [
    "df_query_9['external'] = df_query_9['external'].fillna(False).astype(bool)\n",
    "df_query_9['internal'] = df_query_9['internal'].fillna(False).astype(bool)\n",
    "df_query_9['construct'] = df_query_9['construct'].fillna(False).astype(bool)\n",
    "df_query_9['conclusion'] = df_query_9['conclusion'].fillna(False).astype(bool)\n",
    "df_query_9['reliability'] = df_query_9['reliability'].fillna(False).astype(bool)\n",
    "df_query_9['generalizability'] = df_query_9['generalizability'].fillna(False).astype(bool)\n",
    "df_query_9['content'] = df_query_9['content'].fillna(False).astype(bool)\n",
    "df_query_9['descriptive'] = df_query_9['descriptive'].fillna(False).astype(bool)\n",
    "df_query_9['theoretical'] = df_query_9['theoretical'].fillna(False).astype(bool)\n",
    "df_query_9['repeatability'] = df_query_9['repeatability'].fillna(False).astype(bool)\n",
    "#display(df_query_9)"
   ]
  },
  {
   "cell_type": "markdown",
   "metadata": {},
   "source": [
    "#### <ins>*Data Analysis*</ins>\n",
    "For this data analysis, we select all papers that report threats to validity. For more detailed insights, we normalize the number of all papers reporting threats to validity based on the number of all unique papers per year, as the total number of papers per year varies."
   ]
  },
  {
   "cell_type": "code",
   "execution_count": null,
   "metadata": {},
   "outputs": [],
   "source": [
    "result = pd.DataFrame(df_query_9[['external', 'internal','construct', 'conclusion', 'reliability', 'generalizability', 'content', 'descriptive', 'theoretical', 'repeatability']].sum().sort_values())\n",
    "result.columns = ['number_of_papers_with_threats']\n",
    "result = result.rename(index={'external': 'External validity', 'internal': 'Internal validity','construct': 'Construct validity', 'conclusion': 'Conclusion validity', 'reliability': 'Reliability', 'generalizability': 'Generalizability', 'content': 'Content validity', 'descriptive': 'Descriptive validity', 'theoretical': 'Theoretical validity', 'repeatability': 'Repeatability'})\n",
    "number_of_papers_with_threats_mentioned = df_query_9[df_query_9['threats_label'] == 'mentioned']['threats_label'].count()\n",
    "mentioned = pd.DataFrame([number_of_papers_with_threats_mentioned], index=['Mentioned, but not classified'], columns=['number_of_papers_with_threats'])\n",
    "result = pd.concat([mentioned, result])\n",
    "#display(result)\n",
    "\n",
    "ax = result.plot(kind='barh', rot=0)\n",
    "#ax.invert_yaxis()\n",
    "ax.bar_label(ax.containers[0])\n",
    "ax.get_legend().remove()\n",
    "make_axes_area_auto_adjustable(ax)\n",
    "plt.title('Number of threats to validity reported in papers')\n",
    "plt.xlabel('Number of threats to validity reported')\n",
    "plt.ylabel('Threats to validity reported')\n",
    "plt.savefig('Figures/CQ9/number_of_threats_to_validity_reported.png', dpi=300)\n",
    "plt.show()\n",
    "\n",
    "number_of_papers_with_threats = df_query_9[(df_query_9['threats_label'] != 'non')]['paper'].count()\n",
    "result['normalized'] = (result['number_of_papers_with_threats'] / number_of_papers_with_threats).round(3)\n",
    "#display(result)\n",
    "\n",
    "plt.figure()\n",
    "ax = result.loc[:, 'normalized'].plot(kind='barh', rot=0)\n",
    "ax.bar_label(ax.containers[0])\n",
    "make_axes_area_auto_adjustable(ax)\n",
    "plt.title('Normalized number of threats to validity reported in papers')\n",
    "plt.xlabel('Proportion of threats to validity reported')\n",
    "plt.ylabel('Threats to validity reported')\n",
    "plt.savefig('Figures/CQ9/proportion_of_threats_to_validity_reported.png', dpi=300)\n",
    "plt.show()"
   ]
  },
  {
   "cell_type": "markdown",
   "metadata": {},
   "source": [
    "#### <ins>*Data Interpretation*</ins>\n",
    "Muss noch geschrieben werden, wenn die Daten alle geprüft sind."
   ]
  },
  {
   "attachments": {},
   "cell_type": "markdown",
   "metadata": {},
   "source": [
    "<a id='q10'></a>\n",
    "### 3.10 How have the proportions of case studies and action research in the empirical methods used evolved over time?\n",
    "\n",
    "#### <ins>*Data Selection*</ins> \n",
    "\n",
    "*Explanation of the Competency Question*:\n",
    "\n",
    "According to [Sjøberg et al. (2007)](https://doi.org/10.1109/FOSE.2007.30), one may question the **industrial relevance of most the studies** in the **\"current\" state of practice (2007)**. For the **target state (2020 - 2025)**, [Sjøberg et al. (2007)](https://doi.org/10.1109/FOSE.2007.30) envision that researchers carry out **more case studies and actions research**. This predicted change leads to the corresponding competency question.\n",
    "\n",
    "*Required Data for the Analysis*:\n",
    "\n",
    "We must retrieve all papers with their publication year that use our ORKG template and report on the use of the empirical methods: case studies and action research.\n",
    "\n",
    "[Back to top](#step3)"
   ]
  },
  {
   "cell_type": "markdown",
   "metadata": {},
   "source": [
    "#### <ins>*Data Collection*</ins> \n",
    "Below, we retrieve the required data from the developed body of knowledge of empirical research in RE from the [ORKG](https://www.orkg.org/orkg/) using its [SPARQL endpoint](https://orkg.org/sparql/)."
   ]
  },
  {
   "cell_type": "code",
   "execution_count": null,
   "metadata": {},
   "outputs": [],
   "source": [
    "ID = '10'\n",
    "\n",
    "query_10 = \"\"\"\n",
    "        SELECT ?paper, ?year, ?dc_label\n",
    "        WHERE {\n",
    "                ?paper orkgp:P31 ?contribution;\n",
    "                        orkgp:P29 ?year.\n",
    "                ?contribution a orkgc:C27001.\n",
    "\n",
    "                OPTIONAL{?contribution orkgp:P56008 ?data_collection.\n",
    "                        ?data_collection rdfs:label ?dc_label.\n",
    "                }\n",
    "                FILTER(?dc_label != \"no collection\"^^xsd:string)\n",
    "                FILTER(xsd:integer(?year) > \"2005\"^^xsd:integer)\n",
    "        }\n",
    "        \"\"\"\n",
    "\n",
    "retrieve_data(ID, query_10)\n",
    "df_query_10 = pd.read_csv('Data/query_'+ ID + '_data_' + DATE + '.csv', encoding='utf-8', encoding_errors='ignore')"
   ]
  },
  {
   "cell_type": "markdown",
   "metadata": {},
   "source": [
    "#### <ins>*Data Exploration*</ins>\n",
    "Below, we explore the retrieved data, including its cleaning and validation, to prepare the data for data analysis."
   ]
  },
  {
   "cell_type": "code",
   "execution_count": null,
   "metadata": {},
   "outputs": [],
   "source": [
    "explore_data(df_query_10)"
   ]
  },
  {
   "cell_type": "code",
   "execution_count": null,
   "metadata": {},
   "outputs": [],
   "source": [
    "df_query_10['dc_label'] = df_query_10['dc_label'].astype('category')\n",
    "display(df_query_10['dc_label'].value_counts())"
   ]
  },
  {
   "cell_type": "markdown",
   "metadata": {},
   "source": [
    "#### <ins>*Data Analysis*</ins>\n",
    "For this data analysis, we consider all papers that report on the use of the empirical methods: case study and action research. A paper can involve more than one empirical method for data collection so that the number of empirical methods can be larger than the number of papers. We normalize the number of empirical methods (case study and action research) used based on the number of all unique papers with data collection per year."
   ]
  },
  {
   "cell_type": "code",
   "execution_count": null,
   "metadata": {},
   "outputs": [],
   "source": [
    "all_papers_per_year = pd.DataFrame(df_query_10.drop_duplicates(subset=['paper']).reset_index(drop=True)['year'].value_counts())\n",
    "all_papers_per_year.columns = ['number_of_papers_with_dc']\n",
    "all_papers_per_year = all_papers_per_year.sort_index()\n",
    "\n",
    "result = pd.DataFrame(df_query_10.groupby('year')['dc_label'].value_counts().unstack())\n",
    "result = result[result.sum().sort_values(ascending=False).index]\n",
    "result = result[['case study', 'action research']]\n",
    "#display(result)\n",
    "\n",
    "result = pd.concat([result, all_papers_per_year], axis=1)\n",
    "result['normalized case study'] = (result['case study'] / result['number_of_papers_with_dc']).round(2)\n",
    "result['normalized action research'] = (result['action research'] / result['number_of_papers_with_dc']).round(2)\n",
    "#display(result)\n",
    "\n",
    "ax = result.loc[:, 'normalized case study':'normalized action research'].plot(kind='bar', rot=0)\n",
    "ax.legend(bbox_to_anchor=(0.8, 0.8), labels=['Case study', 'Action research',])\n",
    "# make_axes_area_auto_adjustable(ax)\n",
    "plt.title('Normalized number of case studies and action research used for data collection per year')\n",
    "plt.xlabel('Year')\n",
    "plt.ylabel('Proportion of empirical method used')\n",
    "plt.savefig('Figures/CQ10/proportion_of_case_studies_and_action_research.png', dpi=300)\n",
    "plt.show()\n",
    "\n",
    "figure, axis = plt.subplots(1, 2, figsize=(18, 8), sharey=True)\n",
    "# Plot barplots\n",
    "bar1 = sns.barplot(data = result, x = result.index, y='normalized case study', ax=axis[0], color=sns.color_palette()[0])\n",
    "bar1.bar_label(bar1.containers[0])\n",
    "# make_axes_area_auto_adjustable(bar1)\n",
    "bar2 = sns.barplot(data = result, x = result.index, y='normalized action research', ax=axis[1], color=sns.color_palette()[1])\n",
    "bar2.bar_label(bar2.containers[0])\n",
    "# make_axes_area_auto_adjustable(bar2)\n",
    "\n",
    "# # Set titles\n",
    "plt.suptitle(\"Normalized number of case studies and action research used for data collection per year grouped by empirical method\")\n",
    "bar1.set(title = 'Normalized number of case studies used for data collection per year', ylabel='Proportion of case studies', xlabel='Year')\n",
    "bar2.set(title = 'Normalized number of action research used for data collection per year', ylabel='Proportion of action research', xlabel='Year')\n",
    "\n",
    "# # Set spacing between subplots\n",
    "figure.tight_layout()\n",
    "plt.savefig('Figures/CQ10/proportion_of_case_studies_and_action_research_grouped_by_method.png', dpi=300)\n",
    "plt.show()"
   ]
  },
  {
   "cell_type": "markdown",
   "metadata": {},
   "source": [
    "#### <ins>*Data Interpretation*</ins>\n",
    "Muss noch geschrieben werden, wenn die Daten alle geprüft sind."
   ]
  },
  {
   "attachments": {},
   "cell_type": "markdown",
   "metadata": {},
   "source": [
    "<a id='q11'></a>\n",
    "### 3.11 How has the provision of data (the materials used, raw data collected, and study results identified) evolved over time?\n",
    "\n",
    "#### <ins>*Data Selection*</ins> \n",
    "\n",
    "*Explanation of the Competency Question*:\n",
    "\n",
    "According to [Sjøberg et al. (2007)](https://doi.org/10.1109/FOSE.2007.30), the **\"current\" state of practice (2007)** shows that **few studies** provide results, materials, and raw data that enable efficient cumulative research. For the **target state (2020 - 2025)**, [Sjøberg et al. (2007)](https://doi.org/10.1109/FOSE.2007.30) envision that **more research studies** are designed with the goal of enabling efficient use of its results by other researchers. This predicted change leads to the corresponding competency question.\n",
    "\n",
    "*Required Data for the Analysis*:\n",
    "\n",
    "We must retrieve all papers with their publication year that use our ORKG template and provide at least one url for the availiability of the materials used, raw data collected, and study results.\n",
    "\n",
    "[Back to top](#step3)"
   ]
  },
  {
   "cell_type": "markdown",
   "metadata": {},
   "source": [
    "#### <ins>*Data Collection*</ins> \n",
    "Below, we retrieve the required data from the developed body of knowledge of empirical research in RE from the [ORKG](https://www.orkg.org/orkg/) using its [SPARQL endpoint](https://orkg.org/sparql/)."
   ]
  },
  {
   "cell_type": "code",
   "execution_count": null,
   "metadata": {},
   "outputs": [],
   "source": [
    "ID = '11'\n",
    "\n",
    "query_11 = \"\"\"\n",
    "        SELECT ?paper, ?year, ?data, ?url\n",
    "        WHERE {\n",
    "                ?paper orkgp:P31 ?contribution;\n",
    "                        orkgp:P29 ?year.\n",
    "                ?contribution a orkgc:C27001.\n",
    "\n",
    "                OPTIONAL{?contribution orkgp:P56008 ?data_collection.\n",
    "                        ?data_collection rdfs:label ?dc_label.\n",
    "                        OPTIONAL{?data_collection orkgp:DATA ?data.\n",
    "                                OPTIONAL{?data orkgp:url ?url.}\n",
    "                                }\n",
    "                        }\n",
    "                FILTER(?dc_label != \"no collection\"^^xsd:string)\n",
    "                FILTER(xsd:integer(?year) > \"2005\"^^xsd:integer)\n",
    "        }\n",
    "        \"\"\"\n",
    "\n",
    "retrieve_data(ID, query_11)\n",
    "df_query_11 = pd.read_csv('Data/query_'+ ID + '_data_' + DATE + '.csv', encoding='utf-8', encoding_errors='ignore')"
   ]
  },
  {
   "cell_type": "markdown",
   "metadata": {},
   "source": [
    "#### <ins>*Data Exploration*</ins>\n",
    "Below, we explore the retrieved data, including its cleaning and validation, to prepare the data for data analysis."
   ]
  },
  {
   "cell_type": "code",
   "execution_count": null,
   "metadata": {},
   "outputs": [],
   "source": [
    "explore_data(df_query_11)"
   ]
  },
  {
   "cell_type": "markdown",
   "metadata": {},
   "source": [
    "#### <ins>*Data Analysis*</ins>\n",
    "For this data analysis, we consider all papers that provide at least one url for the availiability of the materials used, raw data collected, and study results. A paper can involve more than one url for the data. For this reason, we determine the number of papers that provide at least one url and we normalize the number of papers with at least one url based on the number of all unique papers with data collection per year."
   ]
  },
  {
   "cell_type": "code",
   "execution_count": null,
   "metadata": {},
   "outputs": [],
   "source": [
    "all_papers_per_year = pd.DataFrame(df_query_11.drop_duplicates(subset=['paper']).reset_index(drop=True)['year'].value_counts())\n",
    "all_papers_per_year.columns = ['number_of_papers_with_dc']\n",
    "all_papers_per_year = all_papers_per_year.sort_index()\n",
    "\n",
    "result = pd.DataFrame(df_query_11.drop_duplicates(subset=['paper']).groupby('year')['url'].count())\n",
    "result = result[result.sum().sort_values(ascending=False).index]\n",
    "#display(result)\n",
    "\n",
    "ax = result.plot(kind='bar', rot=0)\n",
    "ax.get_legend().remove()\n",
    "# make_axes_area_auto_adjustable(ax)\n",
    "ax.bar_label(ax.containers[0])\n",
    "plt.title('Number of papers that provide at least one URL to data per year')\n",
    "plt.xlabel('Year')\n",
    "plt.ylabel('Number of papers with data')\n",
    "plt.savefig('Figures/CQ11/number_of_paper_with_data.png', dpi=300)\n",
    "plt.show()\n",
    "\n",
    "result = pd.concat([result, all_papers_per_year], axis=1)\n",
    "result['normalized'] = (result['url'] / result['number_of_papers_with_dc']).round(2)\n",
    "#display(result)\n",
    "\n",
    "plt.figure()\n",
    "ax = result['normalized'].plot(kind='bar', rot=0)\n",
    "# ax.legend(bbox_to_anchor=(0.8, 0.8))\n",
    "# # make_axes_area_auto_adjustable(ax)\n",
    "ax.bar_label(ax.containers[0])\n",
    "plt.title('Normalized number of papers that provide at least one URL to data per year')\n",
    "plt.xlabel('Year')\n",
    "plt.ylabel('Proportion of papers with data')\n",
    "plt.savefig('Figures/CQ11/proportion_of_paper_with_data.png', dpi=300)\n",
    "plt.show()"
   ]
  },
  {
   "cell_type": "markdown",
   "metadata": {},
   "source": [
    "#### <ins>*Data Interpretation*</ins>\n",
    "Muss noch geschrieben werden, wenn die Daten alle geprüft sind."
   ]
  },
  {
   "attachments": {},
   "cell_type": "markdown",
   "metadata": {},
   "source": [
    "<a id='q12'></a>\n",
    "### 3.12 How has the reporting of research questions and answers evolved over time?\n",
    "\n",
    "#### <ins>*Data Selection*</ins> \n",
    "\n",
    "*Explanation of the Competency Question*:\n",
    "\n",
    "According to [Sjøberg et al. (2007)](https://doi.org/10.1109/FOSE.2007.30), the **\"current\" state of practice (2007)** shows that **results are hidden**. For the **target state (2020 - 2025)**, [Sjøberg et al. (2007)](https://doi.org/10.1109/FOSE.2007.30) envision that researchers **focus more on communicating important results**, such as the research question and its answer. This predicted change leads to the corresponding competency question.\n",
    "\n",
    "*Required Data for the Analysis*:\n",
    "\n",
    "We must retrieve all papers with their publication year that use our ORKG template and have information about the research questions and answer.\n",
    "\n",
    "[Back to top](#step3)"
   ]
  },
  {
   "cell_type": "markdown",
   "metadata": {},
   "source": [
    "#### <ins>*Data Collection*</ins> \n",
    "Below, we retrieve the required data from the developed body of knowledge of empirical research in RE from the [ORKG](https://www.orkg.org/orkg/) using its [SPARQL endpoint](https://orkg.org/sparql/)."
   ]
  },
  {
   "cell_type": "code",
   "execution_count": null,
   "metadata": {},
   "outputs": [],
   "source": [
    "ID = '12'\n",
    "\n",
    "query_12 = \"\"\"\n",
    "        SELECT ?paper, ?year, ?question, ?highlighted_q, ?highlighted_a\n",
    "                WHERE {\n",
    "                ?paper orkgp:P31 ?contribution;\n",
    "                        orkgp:P29 ?year.\n",
    "                ?contribution a orkgc:C27001.\n",
    "\n",
    "                OPTIONAL{?contribution orkgp:P37330 ?rq.\n",
    "                        OPTIONAL{?rq orkgp:P44139 ?question.}\n",
    "                        OPTIONAL{?rq orkgp:P55039 ?highlighted_q.}\n",
    "                }\n",
    "                OPTIONAL{?contribution orkgp:P57004 ?answer.\n",
    "                        OPTIONAL{?answer orkgp:P55039 ?highlighted_a.}\n",
    "                }\n",
    "                FILTER(xsd:integer(?year) > \"2005\"^^xsd:integer)\n",
    "                }\n",
    "        \"\"\"\n",
    "\n",
    "retrieve_data(ID, query_12)\n",
    "df_query_12 = pd.read_csv('Data/query_'+ ID + '_data_' + DATE + '.csv', encoding='utf-8', encoding_errors='ignore')"
   ]
  },
  {
   "cell_type": "markdown",
   "metadata": {},
   "source": [
    "#### <ins>*Data Exploration*</ins>\n",
    "Below, we explore the retrieved data, including its cleaning and validation, to prepare the data for data analysis."
   ]
  },
  {
   "cell_type": "code",
   "execution_count": null,
   "metadata": {},
   "outputs": [],
   "source": [
    "explore_data(df_query_12)"
   ]
  },
  {
   "cell_type": "markdown",
   "metadata": {},
   "source": [
    "#### <ins>*Data Analysis*</ins>\n",
    "For this data analysis, we consider all papers that report at least one research question (either highlighted or hidden). We also assume that all papers provide an answer (highlighted or hidden) in some way as they are published research paper. A paper can involve more than one research question so that the number of research questions can be larger than the number of papers. We normalize the number of papers with hightlighted/hidden research question(s) and anwers based on the number of all unique papers per year."
   ]
  },
  {
   "cell_type": "code",
   "execution_count": null,
   "metadata": {},
   "outputs": [],
   "source": [
    "papers_per_year = df_query_12.drop_duplicates(subset=['paper']).reset_index(drop=True).groupby('year')['paper'].count()\n",
    "#display(papers_per_year)\n",
    "\n",
    "papers_with_rq = df_query_12.dropna()\n",
    "\n",
    "high_q_high_a = pd.DataFrame(papers_with_rq.loc[(papers_with_rq['highlighted_q'] == True) & (papers_with_rq['highlighted_a'] == True)].drop_duplicates(subset=['paper']).reset_index(drop=True).groupby('year')['paper'].count())\n",
    "high_q_high_a.columns = ['number_of_papers']\n",
    "high_q_hid_a = pd.DataFrame(papers_with_rq.loc[(papers_with_rq['highlighted_q'] == True) & (papers_with_rq['highlighted_a'] == False)].drop_duplicates(subset=['paper']).reset_index(drop=True).groupby('year')['paper'].count())\n",
    "high_q_hid_a.columns = ['number_of_papers']\n",
    "hid_q_high_a = pd.DataFrame(papers_with_rq.loc[(papers_with_rq['highlighted_q'] == False) & (papers_with_rq['highlighted_a'] == True)].drop_duplicates(subset=['paper']).reset_index(drop=True).groupby('year')['paper'].count())\n",
    "hid_q_high_a.columns = ['number_of_papers']\n",
    "#display(hid_q_high_a)\n",
    "#hid_q_high_a = hid_q_high_a.fillna(0)\n",
    "hid_q_hid_a = pd.DataFrame(papers_with_rq.loc[(papers_with_rq['highlighted_q'] == False) & (papers_with_rq['highlighted_a'] == False)].drop_duplicates(subset=['paper']).reset_index(drop=True).groupby('year')['paper'].count())\n",
    "hid_q_hid_a.columns = ['number_of_papers']\n",
    "\n",
    "figure, axis = plt.subplots(2, 2, figsize=(18, 10), sharey=True)\n",
    "# Plot barplots\n",
    "bar1 = sns.barplot(data = high_q_high_a, x = high_q_high_a.index, y='number_of_papers', ax=axis[0,0], color=sns.color_palette()[0])\n",
    "bar1.bar_label(bar1.containers[0])\n",
    " #make_axes_area_auto_adjustable(bar1)\n",
    "bar2 = sns.barplot(data = high_q_hid_a, x = high_q_hid_a.index, y='number_of_papers', ax=axis[0,1], color=sns.color_palette()[1])\n",
    "bar2.bar_label(bar2.containers[0])\n",
    " # make_axes_area_auto_adjustable(bar2)\n",
    "bar3 = sns.barplot(data = hid_q_high_a, x = hid_q_high_a.index, y='number_of_papers', ax=axis[1,0], color=sns.color_palette()[2])\n",
    "bar3.bar_label(bar3.containers[0])\n",
    "# # make_axes_area_auto_adjustable(bar3)\n",
    "bar4 = sns.barplot(data = hid_q_hid_a, x = hid_q_hid_a.index, y='number_of_papers', ax=axis[1,1], color=sns.color_palette()[3])\n",
    "bar4.bar_label(bar4.containers[0])\n",
    "# # make_axes_area_auto_adjustable(bar4)\n",
    "\n",
    "# # Set titles\n",
    "plt.suptitle(\"Number of papers highlighting/hiding research question(s) and answers per year grouped by highlighting/hiding combination\")\n",
    "bar1.set(title = 'Number of papers with highlighted research question(s) and highlighted answers per year', ylabel='Number of papers', xlabel='Year')\n",
    "bar2.set(title = 'Number of papers with highlighted research question(s) and hidden answers per year', ylabel='Number of papers', xlabel='Year')\n",
    "bar3.set(title = 'Number of papers with hidden research question(s) and highlighted answers per year', ylabel='Number of papers', xlabel='Year')\n",
    "bar4.set(title = 'Number of papers with hidden research questions(s) and hidden answers per year', ylabel='Number of papers', xlabel='Year')\n",
    "\n",
    "# # Set spacing between subplots\n",
    "figure.tight_layout()\n",
    "plt.savefig('Figures/CQ12/number_of_papers_high_hide_rq_a.png', dpi=300)\n",
    "plt.show()\n",
    "\n",
    "high_q_high_a['normalized'] = (high_q_high_a['number_of_papers'] / papers_per_year).round(2)\n",
    "high_q_hid_a['normalized'] = (high_q_hid_a['number_of_papers'] / papers_per_year).round(2)\n",
    "hid_q_high_a['normalized'] = (hid_q_high_a['number_of_papers'] / papers_per_year).round(2)\n",
    "hid_q_hid_a['normalized'] = (hid_q_hid_a['number_of_papers'] / papers_per_year).round(2)\n",
    "\n",
    "figure, axis = plt.subplots(2, 2, figsize=(18, 10), sharey=True)\n",
    "# Plot barplots\n",
    "bar1 = sns.barplot(data = high_q_high_a, x = high_q_high_a.index, y='normalized', ax=axis[0,0], color=sns.color_palette()[0])\n",
    "bar1.bar_label(bar1.containers[0])\n",
    "# make_axes_area_auto_adjustable(bar1)\n",
    "bar2 = sns.barplot(data = high_q_hid_a, x = high_q_hid_a.index, y='normalized', ax=axis[0,1], color=sns.color_palette()[1])\n",
    "bar2.bar_label(bar2.containers[0])\n",
    "# make_axes_area_auto_adjustable(bar2)\n",
    "bar3 = sns.barplot(data = hid_q_high_a, x = hid_q_high_a.index, y='normalized', ax=axis[1,0], color=sns.color_palette()[2])\n",
    "bar3.bar_label(bar3.containers[0])\n",
    "# make_axes_area_auto_adjustable(bar3)\n",
    "bar4 = sns.barplot(data = hid_q_hid_a, x = hid_q_hid_a.index, y='normalized', ax=axis[1,1], color=sns.color_palette()[3])\n",
    "bar4.bar_label(bar4.containers[0])\n",
    "# make_axes_area_auto_adjustable(bar4)\n",
    "\n",
    "# # Set titles\n",
    "plt.suptitle(\"Normalized number of papers highlighting/hiding research question(s) and answers per year grouped by highlighting/hiding combination\")\n",
    "bar1.set(title = 'Proportion of papers with highlighted research question(s) and highlighted answers per year', ylabel='Proportion of papers', xlabel='Year')\n",
    "bar2.set(title = 'Proportion of papers with highlighted research question(s) and hidden answers per year', ylabel='Proportion of papers', xlabel='Year')\n",
    "bar3.set(title = 'Proportion of papers with hidden research question(s) and highlighted answers per year', ylabel='Proportion of papers', xlabel='Year')\n",
    "bar4.set(title = 'Proportion of papers with hidden research questions(s) and hidden answers per year', ylabel='Proportion of papers', xlabel='Year')\n",
    "\n",
    "# # Set spacing between subplots\n",
    "figure.tight_layout()\n",
    "plt.savefig('Figures/CQ12/proportion_of_papers_high_hide_rq_a.png', dpi=300)\n",
    "plt.show()"
   ]
  },
  {
   "cell_type": "markdown",
   "metadata": {},
   "source": [
    "For this analysis, we consider all papers that do not report any research question. We also assume that even the papers without a research question provide an answer (highlighted or hidden) in some way as they are published research papers. We normalize the number of papers without any research question and highlighted/hidden answers based on the number of all unique papers per year."
   ]
  },
  {
   "cell_type": "code",
   "execution_count": null,
   "metadata": {},
   "outputs": [],
   "source": [
    "papers_with_no_rq = df_query_12[df_query_12['question'].isnull()].reset_index(drop=True)\n",
    "no_rq_high_a = pd.DataFrame(papers_with_no_rq.loc[papers_with_no_rq['highlighted_a'] == True].drop_duplicates(subset=['paper']).reset_index(drop=True).groupby('year')['paper'].count())\n",
    "no_rq_high_a.columns = ['number_of_papers']\n",
    "no_rq_hid_a = pd.DataFrame(papers_with_no_rq.loc[(papers_with_no_rq['highlighted_a'] == False)].drop_duplicates(subset=['paper']).reset_index(drop=True).groupby('year')['paper'].count())\n",
    "no_rq_hid_a.columns = ['number_of_papers']\n",
    "#display(no_rq_high_a)\n",
    "#display(no_rq_hid_a)\n",
    "\n",
    "no_rq_high_a['normalized'] = (no_rq_high_a['number_of_papers'] / papers_per_year).round(2)\n",
    "no_rq_hid_a['normalized'] = (no_rq_hid_a['number_of_papers'] / papers_per_year).round(2)\n",
    "\n",
    "no_rq_high_a = no_rq_high_a.fillna(0)\n",
    "\n",
    "# Plot barplots\n",
    "figure, axis = plt.subplots(1, 2, figsize=(18, 5), sharey=True)\n",
    "bar1 = sns.barplot(data = no_rq_high_a, x = no_rq_high_a.index, y='number_of_papers', ax=axis[0], color=sns.color_palette()[0])\n",
    "bar1.bar_label(bar1.containers[0])\n",
    "#make_axes_area_auto_adjustable(bar1)\n",
    "\n",
    "bar2 = sns.barplot(data = no_rq_hid_a, x = no_rq_hid_a.index, y='number_of_papers', ax=axis[1], color=sns.color_palette()[1])\n",
    "bar2.bar_label(bar2.containers[0])\n",
    "# make_axes_area_auto_adjustable(bar2)\n",
    "\n",
    "# Set titles\n",
    "plt.suptitle(\"Number of papers without research question(s) and highlighted/hidden answers per year grouped by highlighed/hidden answer\")\n",
    "bar1.set(title = 'Number of papers without research question and highlighted answers per year', ylabel='Number of papers', xlabel='Year')\n",
    "bar2.set(title = 'Number of papers without research question and hidden answers per year', ylabel='Number of papers', xlabel='Year')\n",
    "\n",
    "# Set spacing between subplots\n",
    "figure.tight_layout()\n",
    "plt.savefig('Figures/CQ12/number_of_papers_without_rq_but_a.png', dpi=300)\n",
    "plt.show()\n",
    "\n",
    "figure, axis = plt.subplots(1, 2, figsize=(18, 5), sharey=True)\n",
    "# Plot barplots\n",
    "bar1 = sns.barplot(data = no_rq_high_a, x = no_rq_high_a.index, y='normalized', ax=axis[0], color=sns.color_palette()[0])\n",
    "bar1.bar_label(bar1.containers[0])\n",
    "# make_axes_area_auto_adjustable(bar1)\n",
    "bar2 = sns.barplot(data = no_rq_hid_a, x = no_rq_hid_a.index, y='normalized', ax=axis[1], color=sns.color_palette()[1])\n",
    "bar2.bar_label(bar2.containers[0])\n",
    "# make_axes_area_auto_adjustable(bar2)\n",
    "\n",
    "# Set titles\n",
    "plt.suptitle(\"Normlaized number of papers without research question(s) and highlighted/hidden answers per year grouped by highlighed/hidden answer\")\n",
    "bar1.set(title = 'Proportion of papers without research question and highlighted answers per year', ylabel='Proportion of papers', xlabel='Year')\n",
    "bar2.set(title = 'Proportion of papers without research question and hidden answers per year', ylabel='Proportion of papers', xlabel='Year')\n",
    "\n",
    "# Set spacing between subplots\n",
    "figure.tight_layout()\n",
    "plt.savefig('Figures/CQ12/proportion_of_papers_without_rq_but_a.png', dpi=300)\n",
    "plt.show()"
   ]
  },
  {
   "cell_type": "markdown",
   "metadata": {},
   "source": [
    "#### <ins>*Data Interpretation*</ins>\n",
    "Muss noch geschrieben werden, wenn die Daten alle geprüft sind."
   ]
  },
  {
   "attachments": {},
   "cell_type": "markdown",
   "metadata": {},
   "source": [
    "<a id='q13'></a>\n",
    "### 3.13 What empirical methods are used to conduct integrative and interpretive (systematic literature) reviews, so-called secondary research?\n",
    "\n",
    "#### <ins>*Data Selection*</ins> \n",
    "\n",
    "*Explanation of the Competency Question*:\n",
    "\n",
    "According to [Sjøberg et al. (2007)](https://doi.org/10.1109/FOSE.2007.30), the **\"current\" state of practice (2007)** shows (literature) **reviews**, so-called secondary research, are mainly **narrative and biased**, and researchers have **little appreciation of the value of systematic (literature) reviews**. For the **target state (2020 - 2025)**, [Sjøberg et al. (2007)](https://doi.org/10.1109/FOSE.2007.30) envision that **scientific methods are used to undertake integrative and interpretive (literature) reviews**. This predicted change leads to the corresponding competency question.\n",
    "\n",
    "*Required Data for the Analysis*:\n",
    "\n",
    "We must retrieve all papers that use our ORKG template and secondardy research as the empirical method for data collection.\n",
    "\n",
    "[Back to top](#step3)"
   ]
  },
  {
   "cell_type": "markdown",
   "metadata": {},
   "source": [
    "#### <ins>*Data Collection*</ins> \n",
    "Below, we retrieve the required data from the developed body of knowledge of empirical research in RE from the [ORKG](https://www.orkg.org/orkg/) using its [SPARQL endpoint](https://orkg.org/sparql/)."
   ]
  },
  {
   "cell_type": "code",
   "execution_count": null,
   "metadata": {},
   "outputs": [],
   "source": [
    "ID = '13'\n",
    "\n",
    "query_13 = \"\"\"\n",
    "        SELECT ?paper, ?dc_label, ?method_label\n",
    "        WHERE {\n",
    "                ?paper orkgp:P31 ?contribution;\n",
    "                       orkgp:P29 ?year.\n",
    "                ?contribution a orkgc:C27001.\n",
    "\n",
    "                ?contribution orkgp:P56008 ?data_collection.\n",
    "                ?data_collection rdfs:label ?dc_label;\n",
    "                                orkgp:P57021 ?method.\n",
    "                ?method rdfs:label ?method_label.\n",
    "                \n",
    "                FILTER(?dc_label = \"secondary research\"^^xsd:string)\n",
    "                FILTER(xsd:integer(?year) > \"2005\"^^xsd:integer)\n",
    "        }\n",
    "        \"\"\"\n",
    "\n",
    "retrieve_data(ID, query_13)\n",
    "df_query_13 = pd.read_csv('Data/query_'+ ID + '_data_' + DATE + '.csv', encoding='utf-8', encoding_errors='ignore')"
   ]
  },
  {
   "cell_type": "markdown",
   "metadata": {},
   "source": [
    "#### <ins>*Data Exploration*</ins>\n",
    "Below, we explore the retrieved data, including its cleaning and validation, to prepare the data for data analysis."
   ]
  },
  {
   "cell_type": "code",
   "execution_count": null,
   "metadata": {},
   "outputs": [],
   "source": [
    "explore_data(df_query_13)"
   ]
  },
  {
   "cell_type": "code",
   "execution_count": null,
   "metadata": {},
   "outputs": [],
   "source": [
    "df_query_13['dc_label'] = df_query_13['dc_label'].astype('category')\n",
    "df_query_13['method_label'] = df_query_13['method_label'].astype('category')\n",
    "display(df_query_13['dc_label'].value_counts())\n",
    "display(df_query_13['method_label'].value_counts())"
   ]
  },
  {
   "cell_type": "markdown",
   "metadata": {},
   "source": [
    "#### <ins>*Data Analysis*</ins>\n",
    "For this data analysis, we consider all papers that that use our ORKG template and secondardy research as the empirical method for data collection. From these papers, we extract the empirical methods used for secondary research. We normalize the number of papers using empirical mehtods for secondary research based on the number of all papers that use secondary research for data collection."
   ]
  },
  {
   "cell_type": "code",
   "execution_count": null,
   "metadata": {},
   "outputs": [],
   "source": [
    "result = pd.DataFrame(df_query_13['method_label'].value_counts())\n",
    "result.index = result.index.map(str.capitalize)\n",
    "#display(result)\n",
    "\n",
    "ax = result.plot(kind='barh', rot=0)\n",
    "ax.invert_yaxis()\n",
    "ax.bar_label(ax.containers[0])\n",
    "ax.get_legend().remove()\n",
    "make_axes_area_auto_adjustable(ax)\n",
    "plt.title('Number of empirical methods used for secondary research')\n",
    "plt.xlabel('Number of empirical method used')\n",
    "plt.ylabel('Empirical method used')\n",
    "plt.savefig('Figures/CQ13/number_of_empirical_methods_used_for_secondary_research.png', dpi=300)\n",
    "plt.show()\n",
    "\n",
    "number_of_all_papers = result['method_label'].sum()\n",
    "result['normalized'] = (result['method_label'] / number_of_all_papers).round(2)\n",
    "#display(result)\n",
    "\n",
    "plt.figure()\n",
    "ax = result.loc[:, 'normalized'].plot(kind='barh', rot=0)\n",
    "ax.invert_yaxis()\n",
    "ax.bar_label(ax.containers[0])\n",
    "make_axes_area_auto_adjustable(ax)\n",
    "plt.title('Normalized number of empirical methods used for secondary research')\n",
    "plt.xlabel('Proportion of empirical method used')\n",
    "plt.ylabel('Empirical method used')\n",
    "plt.savefig('Figures/CQ13/proportion_of_empirical_methods_used_for_secondary_research.png', dpi=300)\n",
    "plt.show()"
   ]
  },
  {
   "cell_type": "markdown",
   "metadata": {},
   "source": [
    "#### <ins>*Data Interpretation*</ins>\n",
    "Muss noch geschrieben werden, wenn die Daten alle geprüft sind."
   ]
  },
  {
   "attachments": {},
   "cell_type": "markdown",
   "metadata": {},
   "source": [
    "<a id='q14'></a>\n",
    "### 3.14 How has the proportions of empirical methods to conduct (systematic literature) reviews, so-called secondary research, evolved over time?\n",
    "\n",
    "#### <ins>*Data Selection*</ins> \n",
    "\n",
    "*Explanation of the Competency Question*:\n",
    "\n",
    "According to [Sjøberg et al. (2007)](https://doi.org/10.1109/FOSE.2007.30), the **\"current\" state of practice (2007)** shows (literature) **reviews**, so-called secondary research, are mainly **narrative and biased**, and researchers have **little appreciation of the value of systematic (literature) reviews**. For the **target state (2020 - 2025)**, [Sjøberg et al. (2007)](https://doi.org/10.1109/FOSE.2007.30) envision that **scientific methods are used to undertake integrative and interpretive (literature) reviews**. This predicted change leads to the corresponding competency question.\n",
    "\n",
    "*Required Data for the Analysis*:\n",
    "\n",
    "We must retrieve all papers with their publication year that use our ORKG template and secondardy research as the empirical method for data collection.\n",
    "\n",
    "[Back to top](#step3)"
   ]
  },
  {
   "cell_type": "markdown",
   "metadata": {},
   "source": [
    "#### <ins>*Data Collection*</ins> \n",
    "Below, we retrieve the required data from the developed body of knowledge of empirical research in RE from the [ORKG](https://www.orkg.org/orkg/) using its [SPARQL endpoint](https://orkg.org/sparql/)."
   ]
  },
  {
   "cell_type": "code",
   "execution_count": null,
   "metadata": {},
   "outputs": [],
   "source": [
    "ID = '14'\n",
    "\n",
    "query_14 = \"\"\"\n",
    "        SELECT ?paper, ?year, ?dc_label, ?method_label\n",
    "        WHERE {\n",
    "                ?paper orkgp:P31 ?contribution;\n",
    "                        orkgp:P29 ?year.\n",
    "                ?contribution a orkgc:C27001.\n",
    "\n",
    "                ?contribution orkgp:P56008 ?data_collection.\n",
    "                ?data_collection rdfs:label ?dc_label;\n",
    "                                orkgp:P57021 ?method.\n",
    "                ?method rdfs:label ?method_label.\n",
    "                \n",
    "                FILTER(?dc_label = \"secondary research\"^^xsd:string)\n",
    "                 FILTER(xsd:integer(?year) > \"2005\"^^xsd:integer)\n",
    "        }\n",
    "        \"\"\"\n",
    "\n",
    "retrieve_data(ID, query_14)\n",
    "df_query_14 = pd.read_csv('Data/query_'+ ID + '_data_' + DATE + '.csv', encoding='utf-8', encoding_errors='ignore')"
   ]
  },
  {
   "cell_type": "markdown",
   "metadata": {},
   "source": [
    "#### <ins>*Data Exploration*</ins>\n",
    "Below, we explore the retrieved data, including its cleaning and validation, to prepare the data for data analysis."
   ]
  },
  {
   "cell_type": "code",
   "execution_count": null,
   "metadata": {},
   "outputs": [],
   "source": [
    "explore_data(df_query_14)"
   ]
  },
  {
   "cell_type": "code",
   "execution_count": null,
   "metadata": {},
   "outputs": [],
   "source": [
    "df_query_14['dc_label'] = df_query_14['dc_label'].astype('category')\n",
    "df_query_14['method_label'] = df_query_14['method_label'].astype('category')\n",
    "display(df_query_14['dc_label'].value_counts())\n",
    "display(df_query_14['method_label'].value_counts())"
   ]
  },
  {
   "cell_type": "markdown",
   "metadata": {},
   "source": [
    "#### <ins>*Data Analysis*</ins>\n",
    "For this data analysis, we consider all papers that that use our ORKG template and secondardy research as the empirical method for data collection. From these papers, we extract the empirical methods used for secondary research. We normalize the number of papers using empirical mehtods for secondary research based on the number of all papers that use secondary research for data collection."
   ]
  },
  {
   "cell_type": "code",
   "execution_count": null,
   "metadata": {},
   "outputs": [],
   "source": [
    "all_papers_per_year = pd.DataFrame(df_query_14.drop_duplicates(subset=['paper']).reset_index(drop=True)['year'].value_counts())\n",
    "all_papers_per_year.columns = ['number_of_papers']\n",
    "all_papers_per_year = all_papers_per_year.sort_index()\n",
    "\n",
    "result = pd.DataFrame(df_query_14.groupby('year')['method_label'].value_counts().unstack())\n",
    "result = result[result.sum().sort_values(ascending=False).index]\n",
    "#display(result)\n",
    "\n",
    "result = pd.concat([result, all_papers_per_year], axis=1)\n",
    "result['normalized archive analysis'] = (result['archive analysis'] / result['number_of_papers']).round(2)\n",
    "result['normalized systematic literature review'] = (result['systematic literature review'] / result['number_of_papers']).round(2)\n",
    "result['normalized literature review'] = (result['literature review'] / result['number_of_papers']).round(2)\n",
    "result['normalized systematic literature map'] = (result['systematic literature map'] / result['number_of_papers']).round(2)\n",
    "result['normalized systematic review'] = (result['systematic review'] / result['number_of_papers']).round(2)\n",
    "result['normalized tertiary literature review'] = (result['tertiary literature review'] / result['number_of_papers']).round(2)\n",
    "#display(result)\n",
    "\n",
    "ax = result.loc[:, 'normalized archive analysis':'normalized tertiary literature review'].plot(kind='bar', rot=0)\n",
    "ax.legend(bbox_to_anchor=(0.4, 0.65), labels=['Archive analysis', 'Systematic literature review', 'Literature review', 'Systematic literature map', 'Systematic review', 'Tertiary literature review'])\n",
    "# make_axes_area_auto_adjustable(ax)\n",
    "plt.title('Normalized number of empirical methods used for secondary research per year')\n",
    "plt.xlabel('Year')\n",
    "plt.ylabel('Proportion of empirical method used')\n",
    "plt.savefig('Figures/CQ14/proportion_of_empirical_methods_used_for_secondaty_research.png', dpi=300)\n",
    "plt.show()\n",
    "\n",
    "figure, axis = plt.subplots(3, 2, figsize=(18, 15), sharey=True)\n",
    "# Plot barplots\n",
    "bar1 = sns.barplot(data = result, x = result.index, y='normalized archive analysis', ax=axis[0,0], color=sns.color_palette()[0])\n",
    "bar1.bar_label(bar1.containers[0])\n",
    "# make_axes_area_auto_adjustable(bar1)\n",
    "bar2 = sns.barplot(data = result, x = result.index, y='normalized systematic literature review', ax=axis[0,1], color=sns.color_palette()[1])\n",
    "bar2.bar_label(bar2.containers[0])\n",
    "# make_axes_area_auto_adjustable(bar2)\n",
    "bar3 = sns.barplot(data = result, x = result.index, y='normalized literature review', ax=axis[1,0], color=sns.color_palette()[2])\n",
    "bar3.bar_label(bar3.containers[0])\n",
    "# make_axes_area_auto_adjustable(bar3)\n",
    "bar4 = sns.barplot(data = result, x = result.index, y='normalized systematic literature map', ax=axis[1,1], color=sns.color_palette()[4])\n",
    "bar4.bar_label(bar4.containers[0])\n",
    "# make_axes_area_auto_adjustable(bar4)\n",
    "bar5 = sns.barplot(data = result, x = result.index, y='normalized systematic review', ax=axis[2,0], color=sns.color_palette()[5])\n",
    "bar5.bar_label(bar5.containers[0])\n",
    "# make_axes_area_auto_adjustable(bar5)\n",
    "bar6 = sns.barplot(data = result, x = result.index, y='normalized tertiary literature review', ax=axis[2,1], color=sns.color_palette()[5])\n",
    "bar6.bar_label(bar6.containers[0])\n",
    "# make_axes_area_auto_adjustable(bar6)\n",
    "\n",
    "# # Set titles\n",
    "plt.suptitle(\"Normalized number of empirical methods used for secondary research per year grouped by empirical method\")\n",
    "bar1.set(title = 'Normalized number of archive analysis used for secondary research per year', ylabel='Proportion of archive analysis', xlabel='Year')\n",
    "bar2.set(title = 'Normalized number of systematic literature review used for secondary research per year', ylabel='Proportion of systematic literature review', xlabel='Year')\n",
    "bar3.set(title = 'Normalized number of literature review used for  secondary research per year', ylabel='Proportion of literature review', xlabel='Year')\n",
    "bar4.set(title = 'Normalized number of systematic literature map used for  secondary research per year', ylabel='Proportion of systematic literature map', xlabel='Year')\n",
    "bar5.set(title = 'Normalized number of systematic review used for  secondary research per year', ylabel='Proportion of systematic review', xlabel='Year')\n",
    "bar6.set(title = 'Normalized number of tertiary literature review used for  secondary research per year', ylabel='Proportion of tertiary literature review', xlabel='Year')\n",
    "\n",
    "# # Set spacing between subplots\n",
    "figure.tight_layout()\n",
    "plt.savefig('Figures/CQ14/proportion_of_empirical_methods_used_for_secondary_research_grouped_by_method.png', dpi=300)\n",
    "plt.show()"
   ]
  },
  {
   "cell_type": "markdown",
   "metadata": {},
   "source": [
    "#### <ins>*Data Interpretation*</ins>\n",
    "Muss noch geschrieben werden, wenn die Daten alle geprüft sind."
   ]
  },
  {
   "attachments": {},
   "cell_type": "markdown",
   "metadata": {},
   "source": [
    "<a id='q15'></a>\n",
    "### 3.15 How many different research methods are used per publication?\n",
    "\n",
    "#### <ins>*Data Selection*</ins> \n",
    "\n",
    "*Explanation of the Competency Question*:\n",
    "\n",
    "According to [Sjøberg et al. (2007)](https://doi.org/10.1109/FOSE.2007.30), the **\"current\" state of practice (2007)** shows that there is **limited** advice on how to **combine data from diverse study types**. For the **target state (2020 - 2025)**, [Sjøberg et al. (2007)](https://doi.org/10.1109/FOSE.2007.30) envision that **methods are available** for synthesizing evidence from **variety of perspectives and approaches**. This predicted change leads to the corresponding competency question.\n",
    "\n",
    "*Required Data for the Analysis*:\n",
    "\n",
    "We must retrieve all papers that use our ORKG template and report on the use of empirical methods. According to [Dan (2017)](https://doi.org/10.1002/9781118901731.iecrm0083), empirical methods include data collection and data analysis. An empirical method can therefore be a method for data collection and data analysis. For this reason, we identify number of empirical methods used for data collection and data analysis respectively. Based on the individual paper, we can determine the sum of all empirical methods per publication.\n",
    "\n",
    "[Back to top](#step3)"
   ]
  },
  {
   "cell_type": "markdown",
   "metadata": {},
   "source": [
    "#### <ins>*Data Collection*</ins> \n",
    "Below, we retrieve the required data from the developed body of knowledge of empirical research in RE from the [ORKG](https://www.orkg.org/orkg/) using its [SPARQL endpoint](https://orkg.org/sparql/)."
   ]
  },
  {
   "cell_type": "code",
   "execution_count": null,
   "metadata": {},
   "outputs": [],
   "source": [
    "ID = '15'\n",
    "\n",
    "query_15_1 = \"\"\"\n",
    "        SELECT ?paper, (COUNT(?dc_label) AS ?number_of_dc_methods), ?year\n",
    "        WHERE {\n",
    "                ?paper orkgp:P31 ?contribution;\n",
    "                        orkgp:P29 ?year.\n",
    "                ?contribution a orkgc:C27001.\n",
    "\n",
    "                ?contribution orkgp:P56008 ?data_collection.\n",
    "                ?data_collection rdfs:label ?dc_label.\n",
    "                \n",
    "                FILTER((?dc_label != \"no collection\"^^xsd:string))\n",
    "                FILTER(xsd:integer(?year) > \"2005\"^^xsd:integer)\n",
    "        } GROUP BY ?paper ?year\n",
    "        \"\"\"\n",
    "\n",
    "retrieve_data(ID, query_15_1)\n",
    "df_query_15_1 = pd.read_csv('Data/query_'+ ID + '_data_' + DATE + '.csv', encoding='utf-8', encoding_errors='ignore')\n",
    "\n",
    "query_15_2 = \"\"\"\n",
    "        SELECT ?paper, (COUNT(DISTINCT ?inferential) AS ?number_of_inf_methods), (COUNT(DISTINCT ?descriptive) AS ?number_of_des_methods), (COUNT(DISTINCT ?machine_learning) AS ?number_of_ml_methods), (COUNT(DISTINCT ?other_methods) AS ?number_of_other_methods), ?year\n",
    "        WHERE {\n",
    "                ?paper orkgp:P31 ?contribution;\n",
    "                        orkgp:P29 ?year.\n",
    "                ?contribution a orkgc:C27001.\n",
    "\n",
    "                ?contribution orkgp:P15124 ?data_analysis.\n",
    "                ?data_analysis rdfs:label ?da_label.\n",
    "                \n",
    "                OPTIONAL{?data_analysis orkgp:P56043 ?inferential.}\n",
    "                OPTIONAL{?data_analysis orkgp:P56048 ?descriptive.}\n",
    "                OPTIONAL{?data_analysis orkgp:P57016 ?machine_learning.}\n",
    "                OPTIONAL{?data_analysis orkgp:P76003 ?other_methods.}\n",
    "                \n",
    "                FILTER(?da_label != \"no analysis\"^^xsd:string)\n",
    "                FILTER(xsd:integer(?year) > \"2005\"^^xsd:integer)\n",
    "        } GROUP BY ?paper ?year\n",
    "        \"\"\"\n",
    "\n",
    "retrieve_data(ID, query_15_2)\n",
    "df_query_15_2 = pd.read_csv('Data/query_'+ ID + '_data_' + DATE + '.csv', encoding='utf-8', encoding_errors='ignore')"
   ]
  },
  {
   "cell_type": "markdown",
   "metadata": {},
   "source": [
    "#### <ins>*Data Exploration*</ins>\n",
    "Below, we explore the retrieved data, including its cleaning and validation, to prepare the data for data analysis."
   ]
  },
  {
   "cell_type": "code",
   "execution_count": null,
   "metadata": {},
   "outputs": [],
   "source": [
    "explore_data(df_query_15_1)"
   ]
  },
  {
   "cell_type": "code",
   "execution_count": null,
   "metadata": {},
   "outputs": [],
   "source": [
    "explore_data(df_query_15_2)"
   ]
  },
  {
   "cell_type": "markdown",
   "metadata": {},
   "source": [
    "#### <ins>*Data Analysis*</ins>\n",
    "For this data analysis, we consider all papers that that use our ORKG template and secondardy research as the empirical method for data collection. From these papers, we extract the empirical methods used for secondary research. We normalize the number of papers using empirical mehtods for secondary research based on the number of all papers that use secondary research for data collection."
   ]
  },
  {
   "cell_type": "code",
   "execution_count": null,
   "metadata": {},
   "outputs": [],
   "source": [
    "result = pd.merge(df_query_15_1, df_query_15_2, on=['paper', 'year'], how='outer').fillna(0)\n",
    "result['number_of_all_methods'] = result['number_of_dc_methods'] + result.loc[:,'number_of_inf_methods':'number_of_other_methods'].sum(axis=1)\n",
    "#display(result)\n",
    "\n",
    "number_of_papers_with_x_methods = pd.DataFrame(result.groupby('number_of_all_methods')['paper'].count())\n",
    "number_of_papers_with_x_methods['normalized'] = (number_of_papers_with_x_methods['paper'] / number_of_papers_with_x_methods['paper'].sum()).round(3)\n",
    "#display(number_of_papers_with_x_methods)\n",
    "\n",
    "plt.figure()\n",
    "ax = number_of_papers_with_x_methods['paper'].plot(kind='bar', rot=0)\n",
    "ax.bar_label(ax.containers[0])\n",
    "#make_axes_area_auto_adjustable(ax)\n",
    "plt.title('Number of papers using X empirical methods for data collection and data analysis')\n",
    "plt.xlabel('Number of empirical methods used')\n",
    "plt.ylabel('Number of papers using X empirical method')\n",
    "plt.savefig('Figures/CQ15/number_of_papers_using_x_empirical_methods.png', dpi=300)\n",
    "plt.show()\n",
    "\n",
    "plt.figure()\n",
    "ax = number_of_papers_with_x_methods['normalized'].plot(kind='bar', rot=0)\n",
    "ax.bar_label(ax.containers[0])\n",
    "#make_axes_area_auto_adjustable(ax)\n",
    "plt.title('Normalized number of papers using X empirical methods for data collection and data analysis')\n",
    "plt.xlabel('Number of empirical methods used')\n",
    "plt.ylabel('Proportion of papers using X empirical method')\n",
    "plt.savefig('Figures/CQ15/proportion_of_papers_using_x_empirical_methods.png', dpi=300)\n",
    "plt.show()"
   ]
  },
  {
   "cell_type": "markdown",
   "metadata": {},
   "source": [
    "#### <ins>*Data Interpretation*</ins>\n",
    "Muss noch geschrieben werden, wenn die Daten alle geprüft sind."
   ]
  },
  {
   "attachments": {},
   "cell_type": "markdown",
   "metadata": {},
   "source": [
    "<a id='q16'></a>\n",
    "### 3.16 How has the number of research methods used per publication evolved over time?\n",
    "\n",
    "#### <ins>*Data Selection*</ins> \n",
    "\n",
    "*Explanation of the Competency Question*:\n",
    "\n",
    "According to [Sjøberg et al. (2007)](https://doi.org/10.1109/FOSE.2007.30), the **\"current\" state of practice (2007)** shows that there is **limited** advice on how to **combine data from diverse study types**. For the **target state (2020 - 2025)**, [Sjøberg et al. (2007)](https://doi.org/10.1109/FOSE.2007.30) envision that **methods are available** for synthesizing evidence from **variety of perspectives and approaches**. This predicted change leads to the corresponding competency question.\n",
    "\n",
    "*Required Data for the Analysis*:\n",
    "\n",
    "We must retrieve all papers that use our ORKG template and report on the use of empirical methods. According to [Dan (2017)](https://doi.org/10.1002/9781118901731.iecrm0083), empirical methods include data collection and data analysis. An empirical method can therefore be a method for data collection and data analysis. For this reason, we identify number of empirical methods used for data collection and data analysis respectively. Based on the individual paper, we can determine the sum of all empirical methods per publication.\n",
    "\n",
    "[Back to top](#step3)"
   ]
  },
  {
   "cell_type": "markdown",
   "metadata": {},
   "source": [
    "#### <ins>*Data Collection*</ins> \n",
    "Below, we retrieve the required data from the developed body of knowledge of empirical research in RE from the [ORKG](https://www.orkg.org/orkg/) using its [SPARQL endpoint](https://orkg.org/sparql/)."
   ]
  },
  {
   "cell_type": "code",
   "execution_count": null,
   "metadata": {},
   "outputs": [],
   "source": [
    "ID = '16'\n",
    "\n",
    "query_16_1 = \"\"\"\n",
    "        SELECT ?paper, (COUNT(?dc_label) AS ?number_of_dc_methods), ?year\n",
    "        WHERE {\n",
    "                ?paper orkgp:P31 ?contribution;\n",
    "                        orkgp:P29 ?year.\n",
    "                ?contribution a orkgc:C27001.\n",
    "\n",
    "                ?contribution orkgp:P56008 ?data_collection.\n",
    "                ?data_collection rdfs:label ?dc_label.\n",
    "                \n",
    "                FILTER((?dc_label != \"no collection\"^^xsd:string))\n",
    "                FILTER(xsd:integer(?year) > \"2005\"^^xsd:integer)\n",
    "        } GROUP BY ?paper ?year\n",
    "        \"\"\"\n",
    "\n",
    "retrieve_data(ID, query_16_1)\n",
    "df_query_16_1 = pd.read_csv('Data/query_'+ ID + '_data_' + DATE + '.csv', encoding='utf-8', encoding_errors='ignore')\n",
    "\n",
    "query_16_2 = \"\"\"\n",
    "        SELECT ?paper, (COUNT(DISTINCT ?inferential) AS ?number_of_inf_methods), (COUNT(DISTINCT ?descriptive) AS ?number_of_des_methods), (COUNT(DISTINCT ?machine_learning) AS ?number_of_ml_methods), (COUNT(DISTINCT ?other_methods) AS ?number_of_other_methods), ?year\n",
    "        WHERE {\n",
    "                ?paper orkgp:P31 ?contribution;\n",
    "                        orkgp:P29 ?year.\n",
    "                ?contribution a orkgc:C27001.\n",
    "\n",
    "                ?contribution orkgp:P15124 ?data_analysis.\n",
    "                ?data_analysis rdfs:label ?da_label.\n",
    "                \n",
    "                OPTIONAL{?data_analysis orkgp:P56043 ?inferential.}\n",
    "                OPTIONAL{?data_analysis orkgp:P56048 ?descriptive.}\n",
    "                OPTIONAL{?data_analysis orkgp:P57016 ?machine_learning.}\n",
    "                OPTIONAL{?data_analysis orkgp:P76003 ?other_methods.}\n",
    "                \n",
    "                FILTER(?da_label != \"no analysis\"^^xsd:string)\n",
    "                FILTER(xsd:integer(?year) > \"2005\"^^xsd:integer)\n",
    "        } GROUP BY ?paper ?year\n",
    "        \"\"\"\n",
    "\n",
    "retrieve_data(ID, query_16_2)\n",
    "df_query_16_2 = pd.read_csv('Data/query_'+ ID + '_data_' + DATE + '.csv', encoding='utf-8', encoding_errors='ignore')"
   ]
  },
  {
   "cell_type": "markdown",
   "metadata": {},
   "source": [
    "#### <ins>*Data Exploration*</ins>\n",
    "Below, we explore the retrieved data, including its cleaning and validation, to prepare the data for data analysis."
   ]
  },
  {
   "cell_type": "code",
   "execution_count": null,
   "metadata": {},
   "outputs": [],
   "source": [
    "explore_data(df_query_16_1)"
   ]
  },
  {
   "cell_type": "code",
   "execution_count": null,
   "metadata": {},
   "outputs": [],
   "source": [
    "explore_data(df_query_16_2)"
   ]
  },
  {
   "cell_type": "markdown",
   "metadata": {},
   "source": [
    "#### <ins>*Data Analysis*</ins>\n",
    "For this data analysis, we consider all papers that that use our ORKG template and secondardy research as the empirical method for data collection. From these papers, we extract the empirical methods used for secondary research. We normalize the number of papers using empirical mehtods for secondary research based on the number of all papers that use secondary research for data collection."
   ]
  },
  {
   "cell_type": "code",
   "execution_count": null,
   "metadata": {},
   "outputs": [],
   "source": [
    "result = pd.merge(df_query_16_1, df_query_16_2, on=['paper', 'year'], how='outer').fillna(0)\n",
    "result['number_of_all_methods'] = result['number_of_dc_methods'] + result.loc[:,'number_of_inf_methods':'number_of_other_methods'].sum(axis=1)\n",
    "papers_per_year = result.groupby(['year', 'number_of_all_methods'])['paper'].count()\n",
    "#display(papers_per_year)\n",
    "\n",
    "data = papers_per_year.unstack(level=1, fill_value=0)\n",
    "#display(data)\n",
    "\n",
    "ax = data.plot(kind='bar', subplots=True, rot=0, figsize=(18, 15), layout=(5, 2),  sharey=True, sharex=False, xlabel='Year', ylabel='Number of papers', legend=None, title='Number of papers using X empirical methods per year grouped by number of empirical methods')\n",
    "ax[0,0].set_title('Number of papers using 1 empricial methods per year')\n",
    "ax[0,1].set_title('Number of papers using 2 empricial method per year')\n",
    "ax[1,0].set_title('Number of papers using 3 empricial methods per year')\n",
    "ax[1,1].set_title('Number of papers using 4 empricial methods per year')\n",
    "ax[2,0].set_title('Number of papers using 5 empricial methods per year')\n",
    "ax[2,1].set_title('Number of papers using 6 empricial methods per year')\n",
    "ax[3,0].set_title('Number of papers using 7 empricial methods per year')\n",
    "ax[3,1].set_title('Number of papers using 8 empricial methods per year')\n",
    "ax[4,0].set_title('Number of papers using 10 empricial methods per year')\n",
    "plt.tight_layout()\n",
    "plt.savefig('Figures/CQ16/number_of_papers_using_x_empirical_methods_per_year.png', dpi=300)\n",
    "plt.show()\n",
    "\n",
    "number_of_papers_with_x_methods = pd.DataFrame(result.groupby(['year'])['paper'].count())\n",
    "data['normalized 1.0'] = (data.iloc[:,0] / number_of_papers_with_x_methods.iloc[:,0]).round(2)\n",
    "data['normalized 2.0'] = (data.iloc[:,1] / number_of_papers_with_x_methods.iloc[:,0]).round(2)\n",
    "data['normalized 3.0'] = (data.iloc[:,2] / number_of_papers_with_x_methods.iloc[:,0]).round(2)\n",
    "data['normalized 4.0'] = (data.iloc[:,3] / number_of_papers_with_x_methods.iloc[:,0]).round(2)\n",
    "data['normalized 5.0'] = (data.iloc[:,4] / number_of_papers_with_x_methods.iloc[:,0]).round(2)\n",
    "data['normalized 6.0'] = (data.iloc[:,5] / number_of_papers_with_x_methods.iloc[:,0]).round(2)\n",
    "data['normalized 7.0'] = (data.iloc[:,6] / number_of_papers_with_x_methods.iloc[:,0]).round(2)\n",
    "data['normalized 8.0'] = (data.iloc[:,7] / number_of_papers_with_x_methods.iloc[:,0]).round(2)\n",
    "data['normalized 10.0'] = (data.iloc[:,8] / number_of_papers_with_x_methods.iloc[:,0]).round(2)\n",
    "\n",
    "#display(data.iloc[:,9:18])\n",
    "\n",
    "ax = data.iloc[:,9:18].plot(kind='bar', subplots=True, rot=0, figsize=(18, 15), layout=(5, 2), sharey=True, sharex=False, xlabel='Year', ylabel='Number of papers', legend=None, title='Normalized number of papers using X empirical methods per year grouped by number of empirical methods')\n",
    "ax[0,0].set_title('Normalized number of papers using 1 empricial methods per year')\n",
    "ax[0,1].set_title('Normalized number of papers using 2 empricial method per year')\n",
    "ax[1,0].set_title('Normalized number of papers using 3 empricial methods per year')\n",
    "ax[1,1].set_title('Normalized number of papers using 4 empricial methods per year')\n",
    "ax[2,0].set_title('Normalized number of papers using 5 empricial methods per year')\n",
    "ax[2,1].set_title('Normalized number of papers using 6 empricial methods per year')\n",
    "ax[3,0].set_title('Normalized number of papers using 7 empricial methods per year')\n",
    "ax[3,1].set_title('Normalized number of papers using 8 empricial methods per year')\n",
    "ax[4,0].set_title('Normalized number of papers using 10 empricial methods per year')\n",
    "plt.tight_layout()\n",
    "plt.savefig('Figures/CQ16/proportion_of_papers_using_x_empirical_methods_per_year.png', dpi=300)\n",
    "plt.show()"
   ]
  },
  {
   "cell_type": "markdown",
   "metadata": {},
   "source": [
    "#### <ins>*Data Interpretation*</ins>\n",
    "Muss noch geschrieben werden, wenn die Daten alle geprüft sind."
   ]
  }
 ],
 "metadata": {
  "kernelspec": {
   "display_name": "Python 3.9.16 ('base')",
   "language": "python",
   "name": "python3"
  },
  "language_info": {
   "codemirror_mode": {
    "name": "ipython",
    "version": 3
   },
   "file_extension": ".py",
   "mimetype": "text/x-python",
   "name": "python",
   "nbconvert_exporter": "python",
   "pygments_lexer": "ipython3",
   "version": "3.9.16"
  },
  "orig_nbformat": 4,
  "vscode": {
   "interpreter": {
    "hash": "16a8259e1791bb0fb9bae0f359302269cb6b9f3eeeb34666ca6d1d1ecd9183a5"
   }
  }
 },
 "nbformat": 4,
 "nbformat_minor": 2
}
