{
 "cells": [
  {
   "attachments": {},
   "cell_type": "markdown",
   "metadata": {},
   "source": [
    "<a id='top'></a>\n",
    "# Analysis of the State and Evolution of Empirical Research in Requirements Engineering\n",
    "\n",
    "**Remark:** This Jupyter Notebook is supplementary material for the paper \"*Divide and Conquer the EmpiRE: A Community-Maintained Body of Knowledge of Empirical Research in Requirements Engineering*\", submitted to the [31st IEEE International Requirements Engineering Conference](https://conf.researchr.org/home/RE-2023).\n",
    "\n",
    "<details>\n",
    "  <summary>Table of Contents</summary>\n",
    "\n",
    "1. [Summary](#step1)\n",
    "2. [Reusable Functions for Data Analysis](#step2)\n",
    "3. [Analysis of Competency question](#step3)\n",
    "    \n",
    "    3.1 [How has the number of empirical studies evolved over time?](#q1)\n",
    "\n",
    "    3.2 [How often are which empirical methods used over time?](#q2)\n",
    "    \n",
    "    3.3 [How has the number of papers that do not have an empirical study evolved over time?](#q3)\n",
    "    \n",
    "    3.4 [How often are which research methods used for empirical studies?](#q4)\n",
    "\n",
    "    3.5 [How have the proportions of experiments, secondary research (reviews), surveys, case studies, and action research in the research methods used evolved over time?](#q5)\n",
    "    \n",
    "    3.6 [How often are which statistical methods used?](#q6)\n",
    "    \n",
    "    3.7 [How has the use of statistical methods evolved over time?](#q7)\n",
    "    \n",
    "    3.8 [How has the reporting of threats to validity evolved over time?](#q8)\n",
    "    \n",
    "    3.9 [What types of threats to validity do the authors report?](#q9)\n",
    "    \n",
    "    3.10 [How has the provision of the materials used, the raw data collected, and the study results identified evolved over time?](#q10)\n",
    "    \n",
    "    3.11 [How have the proportions of case studies and action research in the research methods used evolved over time?](#q11)\n",
    "    \n",
    "    3.12 [How has the reporting of research questions and answers evolved over time?](#q12)\n",
    "    \n",
    "    3.13 [What research methods are used to conduct integrative and interpretive (systematic literature) reviews, so-called secondary research?](#q13)\n",
    "    \n",
    "    3.14 [How has the proportions of research methods to conduct (systematic literature) reviews, so-called secondary research, evolved over time?](#q14)\n",
    "    \n",
    "    3.15 [How many different research methods are used per publication?](#q15)\n",
    "    \n",
    "    3.16 [How has the number of research methods used per publication evolved over time?](#q16)\n",
    "    \n",
    "4.  [Exploratory Data Analysis](#step3)\n",
    "\n",
    "    3.1 [Exploring the Statistics of the Dataset](#step3.1)\n",
    "    \n",
    "    3.2 [Results of Exploring the Statistics of the Dataset](#step3.2)\n",
    "    \n",
    "    3.3 [Summary of Changes in the Dataset after Exploring the Statistics of the Dataset](#step3.3)\n",
    "    \n",
    "    3.4 [Exploring the Relationships in the Dataset](#step3.4)\n",
    "    \n",
    "    3.5 [Results of Exploring the Relationships in the Dataset](#step3.5)\n",
    "    \n",
    "5.  [Model Development](#step4)\n",
    "\n",
    "    4.1 [Feature Selection and Data Splitting](#step4.1)\n",
    "    \n",
    "    4.2 [Development of the Initial Models](#step4.2)\n",
    "    \n",
    "    4.3 [Model Improvement Approach 1: Scaling the Data](#step4.3)\n",
    "    \n",
    "    4.4 [Model Improvement Approach 2: Hyperparameter Tuning](#step4.4)\n",
    "    \n",
    "    4.5 [Results of the Model Development](#step4.5)\n",
    "    \n",
    "6.  [Model Evaluation](#step5)\n",
    "7.  [Comparison to the Business Success Criteria](#step6)\n",
    "8.  [Final Summary and Recommendations](#step7)\n",
    "</details>\n",
    "\n",
    "---"
   ]
  },
  {
   "attachments": {},
   "cell_type": "markdown",
   "metadata": {},
   "source": [
    "<a id='step1'></a>\n",
    "## 1. Summary\n",
    "\n",
    "## Context\n",
    "Empirical research in Requirements Engineering (RE) has become an important topic and research area. Over the years, several researchers examined how empirical research in RE is \"currently\" conducted and how it should be conducted in the future by presenting snapshots of the \"current\" state of empirical research in RE and, more generally, in Software Engineering (SE). These researchers share the same goal of synthesizing a comprehensive, current, and long-term available overview of the state and evolution of empirical research in RE and SE. Although they share the same goal, use similar methods, i.e., (systematic) literature reviews or systematic mapping studies, and even examine overlapping periods, venues, and topics, they have not collaborated to build on and update previous work. **Lack of collaboration and updating are known challenges of literature reviews.** Overcoming these challenges is critical to ensure the quality, reliability, and timeliness of research findings from literature reviews.\n",
    "\n",
    "## Motivation\n",
    "Current research addresses the above challenges by focusing on when and how to update (systematic) literature reviews in SE and its subfields. While these works provide social and economic decision support and guidance for updating literature reviews, **the central problem is the unavailability of the extracted and analyzed data**, corresponding to open science in SE. Unavailable data complicates collaboration among researchers in updating a literature review as the entire data collection, extraction, and analysis must be repeated and expanded for a comprehensive review. Researchers need adequate technical support in the form of infrastructures and services to achieve sustainable literature reviews with all available data. These infrastructures must ensure that the data is Findable, Accessible, Interoperable, and Reusable (FAIR) over the long term following the FAIR data principles. For this purpose, the data must be organized in a flexible, fine-grained, context-sensitive, and semantic representation to be understandable, processable, and useful to humans and machines. Over the last decade, Knowledge Graphs (KGs) became an emerging technology in industry and academia as they enable this versatile data representation. Besides well-known KGs for encyclopedic and factual data, such as [DBpedia](https://www.dbpedia.org/) and [WikiData](https://www.wikidata.org), using so-called Research Knowledge Graphs (RKGs) for scientific data is a rather new approach. RKGs include bibliographic metadata, e.g., titles, authors, and venues, as well as scientific data, e.g., research designs, methods, and results. They are a promising technology to sustainably organize scientific data, e.g., extracted and analyzed data of literature reviews, as a body of knowledge that can be built, published, maintained, (re)used, updated, and expanded in a long-term and collaborative manner.\n",
    "\n",
    "## Objective\n",
    "**Our overarching objective is to develop a body of knowledge that synthesizes a comprehensive, current, and long-term available overview of the state and evolution of empirical research in RE**. For this purpose, we start to explore using RKGs as technical infrastructure for building, publishing, (re)using, updating, and expanding such a body of knowledge of empirical research in RE, that the research community can maintain by dividing the efforts to conquer the topic. In particular, we explore using the Open Research Knowledge Graph ([ORKG](https://orkg.org/)), a cross-domain and cross-topic RKG that provides accompanying services using intertwined human and machine intelligence by combining manual crowdsourcing and automated approaches to organize scientific data. With this work, we lay the foundation for such a comprehensive, current, and long-term available overview of the state and evolution of empirical research in RE by building, publishing, and evaluating an initial informed and reflected body of knowledge.\n",
    "\n",
    "## Approach\n",
    "<p align=\"center\">\n",
    "    <img src=\"Figures/approach.png\" width=\"600\"/>\n",
    "    \n",
    "</p>\n",
    "<p align=\"center\">\n",
    "    <em>Research approach for developing, publishing, and evaluating an intial informed and reflected body of knowledge of empirical research in RE.</em>\n",
    "</p>\n",
    "\n",
    "Our research approach consists of three steps: Data collection, Data extraction, and Data analysis. So far, **we collected 330 papers** published in the research track of the [IEEE International Requirements Engineering Conference](https://ieeexplore.ieee.org/xpl/conhome/1000630/all-proceedings) from 2009 to 2022. **We extracted and organized their scientific data**, i.a., research paradigm, research design, research method (data collection and data analysis), and bibliographic metadata using a developed [ORKG template](https://orkg.org/template/R186491). An ORKG template defines the data structure for the consistent description of the research contributions of different papers. Thus, the ORKG template specifies which data should be extracted and ensures that all described papers are comparable as they share the same structure. In this way, **we built and published an initial informed and reflected body of knowledge of empirical research in RE**.\n",
    "\n",
    "In this Jupyter Notebook, we perform the data analysis of the developed body of knowledge of empirical research in RE, which has two purposes:\n",
    "\n",
    "(1) We want to get first insights into the state and evolution of empirical research in RE by analyzing the developed body of knowledge.\n",
    "\n",
    "(2) We want to evaluate the body of knowledge concerning its coverage.\n",
    "\n",
    "The data analysis is based on competency questions regarding empirical research in all fields of SE, including RE, derived from the vision of [Sjøberg et al. (2007)](https://doi.org/10.1109/FOSE.2007.30). [Sjøberg et al. (2007)](https://doi.org/10.1109/FOSE.2007.30) describe their vision of the role of empirical methods in all fields of SE, including RE, for the current period of 2020 – 2025 by comparing the **\"current\" state of practice (2007)** with their **target state (2020 - 2025)**. We analyzed these descriptions and derived a total of [77 competency questions](competency-questions.xlsx). For each competency question, we assessed whether we can answer the question with the developed body of knowledge. Subsequently, we specified the answerable competency questions as [SPARQL](https://www.w3.org/TR/sparql11-query/) queries to retrieve and analyze the data from the [ORKG](https://orkg.org/). In this way, **we obtain answers to the competency questions and thus gain first insights into the state and evolution of empirical research in RE**.\n",
    "\n",
    "Below, we present an overview of the competency question answered. The details of each analysis are presented in corresponding sections.\n",
    "\n",
    "<details>\n",
    "  <summary>Competency questions answered</summary>\n",
    "  \n",
    "1. [How has the number of empirical studies evolved over time?](#q1)\n",
    "2. [How often are which empirical methods used over time?](#q2)\n",
    "3. [How has the number of papers that do not have an empirical study evolved over time?](#q3)\n",
    "4. [How often are which research methods used for empirical studies?](#q4)\n",
    "5. [How have the proportions of experiments, secondary research (reviews), surveys, case studies, and action research in the research methods used evolved over time?](#q5)\n",
    "6. [How often are which statistical methods used?](#q6)\n",
    "7. [How has the use of statistical methods evolved over time?](#q7)\n",
    "8. [How has the reporting of threats to validity evolved over time?](#q8)\n",
    "9. [What types of threats to validity do the authors report?](#q9)\n",
    "10. [How has the provision of the materials used, the raw data collected, and the study results identified evolved over time?](#q10)\n",
    "11. [How have the proportions of case studies and action research in the research methods used evolved over time?](#q11)\n",
    "12. [How has the reporting of research questions and answers evolved over time?](#q12)\n",
    "13. [What research methods are used to conduct integrative and interpretive (systematic literature) reviews, so-called secondary research?](#q13)\n",
    "14. [How has the proportions of research methods to conduct (systematic literature) reviews, so-called secondary research, evolved over time?](#q14)\n",
    "15. [How many different research methods are used per publication?](#q15)\n",
    "16. [How has the number of research methods used per publication evolved over time?](#q16)\n",
    "</details>\n",
    "\n",
    "## Results\n",
    "At the moment, we can answer 16 of the 77 competency questions with the developed body of knowledge.\n",
    "\n",
    "## Conclusion\n",
    "\n",
    "[Back to top](#top)\n",
    "\n",
    "---"
   ]
  },
  {
   "cell_type": "markdown",
   "metadata": {},
   "source": [
    "<a id='step2'></a>\n",
    "## 2. Reusable Functions for Data Analysis"
   ]
  },
  {
   "cell_type": "code",
   "execution_count": 2,
   "metadata": {},
   "outputs": [],
   "source": [
    "%matplotlib widget\n",
    "from SPARQLWrapper import SPARQLWrapper, CSV\n",
    "from datetime import datetime\n",
    "#import sparql_dataframe\n",
    "import sys\n",
    "import numpy as np\n",
    "import pandas as pd\n",
    "import seaborn as sns\n",
    "import matplotlib.pyplot as plt\n",
    "import dataframe_image as dfi\n",
    "\n",
    "ENDPOINT_URL = \"https://www.orkg.org/triplestore\"\n",
    "\n",
    "PREFIXES =  \"\"\"\n",
    "            PREFIX orkgr: <http://orkg.org/orkg/resource/>\n",
    "            PREFIX orkgc: <http://orkg.org/orkg/class/>\n",
    "            PREFIX orkgp: <http://orkg.org/orkg/predicate/>\n",
    "            PREFIX rdfs: <http://www.w3.org/2000/01/rdf-schema#>\n",
    "            PREFIX xsd: <http://www.w3.org/2001/XMLSchema#>\n",
    "            PREFIX rdf: <http://www.w3.org/1999/02/22-rdf-syntax-ns#>\n",
    "            \"\"\"\n",
    "\n",
    "def retrieve_data(id, query):\n",
    "        \n",
    "        #user_agent = \"WDQS-example Python/%s.%s\" % (sys.version_info[0], sys.version_info[1])\n",
    "\n",
    "        sparql = SPARQLWrapper(ENDPOINT_URL)#, agent=user_agent)\n",
    "        sparql.setQuery(PREFIXES+query)\n",
    "        sparql.setReturnFormat(CSV)\n",
    "        \n",
    "        try:\n",
    "                results = sparql.queryAndConvert()\n",
    "        except Exception as e:\n",
    "                print(e)\n",
    "        \n",
    "        now = datetime.now()\n",
    "        with open('query_' + str(id) + '_data_' + now.strftime('%Y-%m-%d') + '.csv', 'wb') as file:\n",
    "                file.write(results)\n",
    "\n",
    "def explore_data(df):\n",
    "        display('Number of total entries in the dataset: ' + str(df.shape[0]))\n",
    "        display('Number of unique entries in the dataset: ' + str(df.index.nunique()))\n",
    "        display(df.head())\n",
    "        display(df.info())\n",
    "\n",
    "        #Missing value analysis\n",
    "        missing_values = df.isna().sum()\n",
    "        missing_values.plot(kind='barh')\n",
    "        plt.title('Number of missing values per column in the dataset')\n",
    "        plt.xlabel('Number of missing values')\n",
    "        plt.ylabel('Column of the dataset')\n",
    "        plt.savefig('Figures/Missing_values.png', dpi=300)\n",
    "        plt.show()\n",
    "\n",
    "        # Proportion of missing values in the entire data set \n",
    "        data = missing_values / df.shape[0] * 100\n",
    "        display(pd.DataFrame(data, columns=[\"Proportion of missing values\"]).round(2))"
   ]
  },
  {
   "cell_type": "markdown",
   "metadata": {},
   "source": [
    "[Back to top](#top)\n",
    "\n",
    "---"
   ]
  },
  {
   "cell_type": "markdown",
   "metadata": {},
   "source": [
    "<a id='step3'></a>\n",
    "## 3. Analysis of the Competency Questions\n",
    "\n",
    "Below, we present the individual analyses for each answerable competency question. Each analysis follows the same structure:\n",
    "\n",
    "1. Data Selection: Explaining the competency question and the required data for the analysis.\n",
    "2. Data Collection: Executing the specified SPARQL query.\n",
    "3. Data Exploration: Exploring the data, its inclduing cleaning and validation, to prepare the data for data analysis.\n",
    "4. Data Analysis: Analyzing the data and creating visualizations.\n",
    "5. Data Interpretation: Interpreting the data and derive insighta.\n",
    "\n",
    "[Back to top](#top)"
   ]
  },
  {
   "attachments": {},
   "cell_type": "markdown",
   "metadata": {},
   "source": [
    "<a id='q1'></a>\n",
    "### 3.1 How has the number of empirical studies evolved over time?\n",
    "\n",
    "#### <ins>*Data Selection*</ins> \n",
    "\n",
    "*Explanation of the Competency Question*:\n",
    "\n",
    "According to [Sjøberg et al. (2007)](https://doi.org/10.1109/FOSE.2007.30), the **\"current\" state of practice (2007)** shows a that there are relatively **few empirical studies**. For the **target state (2020 - 2025)**, [Sjøberg et al. (2007)](https://doi.org/10.1109/FOSE.2007.30) envision a **large number of studies**. This predicted change from a few to a large number of empirical studies leads to the corresponding competency question.\n",
    "\n",
    "*Required Data for the Analysis*:\n",
    "\n",
    "We must retrieve all papers with their publication year that use our ORKG template and report an empirical study. However, we need to define what we mean by an empirical study. According to [Empirical Software Engineering Journal](https://www.springer.com/journal/10664), \"*Empirical studies presented here usually involve the collection and analysis of data and experience...*\". For this reason, we define that an empirical study is a study that includes data analysis as a necessary condition to be a study (*Necessity*) and data collection as a sufficient condition to be an empirical study (*Sufficiency*). Thus, a study must always include data analysis and an empirical study must include data collection and data analysis. We do not consider the mere reporting of a data collection as a study.\n",
    "\n",
    "The following table summarizes the required data by listing the important SPARQL variables and their meaning in relation to the previous explanation of the required data.\n",
    "| SPARQL variables  | Meaning of the variables                           |\n",
    "|-------------------|----------------------------------------------------|\n",
    "| ?paper            | A paper in the ORKG                                |\n",
    "| ?year             | Publication year of a paper                        |\n",
    "| ?contribution     | Description of a paper using our ORKG template     |\n",
    "| ?data_collection  | Reported data collection according to our template |\n",
    "| ?data_analysis    | Reported data analysis according to our template   |\n",
    "\n",
    "[Back to top](#step3)"
   ]
  },
  {
   "cell_type": "markdown",
   "metadata": {},
   "source": [
    "#### <ins>*Data Collection*</ins> \n",
    "Below, we retrieve the required data from the developed body of knowledge of empirical research in RE from the [ORKG](https://www.orkg.org/orkg/) using its [SPARQL endpoint](https://orkg.org/sparql/)."
   ]
  },
  {
   "cell_type": "code",
   "execution_count": 3,
   "metadata": {},
   "outputs": [],
   "source": [
    "ID = 1\n",
    "DATE = '2023-01-18'\n",
    "\n",
    "query_1 = \"\"\"\n",
    "        SELECT ?paper, ?year, ?contribution, ?dc_label, ?da_label\n",
    "        WHERE {\n",
    "                ?paper orkgp:P31 ?contribution;\n",
    "                        orkgp:P29 ?year.\n",
    "                ?contribution a orkgc:C27001.\n",
    "                \n",
    "                OPTIONAL{?contribution orkgp:P56008 ?data_collection.\n",
    "                        ?data_collection rdfs:label ?dc_label.\n",
    "                }\n",
    "                OPTIONAL{?contribution orkgp:P15124 ?data_analysis.\n",
    "                        ?data_analysis rdfs:label ?da_label.\n",
    "                }\n",
    "        }\n",
    "        \"\"\"\n",
    "\n",
    "retrieve_data(ID, query_1)\n",
    "\n",
    "df_query_1 = pd.read_csv('query_'+ str(ID) + '_data_' + DATE + '.csv', encoding='utf-8', encoding_errors='ignore')"
   ]
  },
  {
   "cell_type": "markdown",
   "metadata": {},
   "source": [
    "#### <ins>*Data Exploration*</ins>\n",
    "Below, we explore the retrieved data, including its cleaning and validation, to prepare the data for data analysis."
   ]
  },
  {
   "cell_type": "code",
   "execution_count": 4,
   "metadata": {},
   "outputs": [
    {
     "data": {
      "text/plain": [
       "'Number of total entries in the dataset: 384'"
      ]
     },
     "metadata": {},
     "output_type": "display_data"
    },
    {
     "data": {
      "text/plain": [
       "'Number of unique entries in the dataset: 384'"
      ]
     },
     "metadata": {},
     "output_type": "display_data"
    },
    {
     "data": {
      "text/html": [
       "<div>\n",
       "<style scoped>\n",
       "    .dataframe tbody tr th:only-of-type {\n",
       "        vertical-align: middle;\n",
       "    }\n",
       "\n",
       "    .dataframe tbody tr th {\n",
       "        vertical-align: top;\n",
       "    }\n",
       "\n",
       "    .dataframe thead th {\n",
       "        text-align: right;\n",
       "    }\n",
       "</style>\n",
       "<table border=\"1\" class=\"dataframe\">\n",
       "  <thead>\n",
       "    <tr style=\"text-align: right;\">\n",
       "      <th></th>\n",
       "      <th>paper</th>\n",
       "      <th>year</th>\n",
       "      <th>contribution</th>\n",
       "      <th>dc_label</th>\n",
       "      <th>da_label</th>\n",
       "    </tr>\n",
       "  </thead>\n",
       "  <tbody>\n",
       "    <tr>\n",
       "      <th>0</th>\n",
       "      <td>http://orkg.org/orkg/resource/R249016</td>\n",
       "      <td>2011</td>\n",
       "      <td>http://orkg.org/orkg/resource/R249018</td>\n",
       "      <td>case study</td>\n",
       "      <td>no analysis</td>\n",
       "    </tr>\n",
       "    <tr>\n",
       "      <th>1</th>\n",
       "      <td>http://orkg.org/orkg/resource/R249021</td>\n",
       "      <td>2011</td>\n",
       "      <td>http://orkg.org/orkg/resource/R249023</td>\n",
       "      <td>experiment</td>\n",
       "      <td>analysis</td>\n",
       "    </tr>\n",
       "    <tr>\n",
       "      <th>2</th>\n",
       "      <td>http://orkg.org/orkg/resource/R249030</td>\n",
       "      <td>2011</td>\n",
       "      <td>http://orkg.org/orkg/resource/R249033</td>\n",
       "      <td>case study</td>\n",
       "      <td>analysis</td>\n",
       "    </tr>\n",
       "    <tr>\n",
       "      <th>3</th>\n",
       "      <td>http://orkg.org/orkg/resource/R265028</td>\n",
       "      <td>2011</td>\n",
       "      <td>http://orkg.org/orkg/resource/R265029</td>\n",
       "      <td>observation</td>\n",
       "      <td>analysis</td>\n",
       "    </tr>\n",
       "    <tr>\n",
       "      <th>4</th>\n",
       "      <td>http://orkg.org/orkg/resource/R276000</td>\n",
       "      <td>2011</td>\n",
       "      <td>http://orkg.org/orkg/resource/R276002</td>\n",
       "      <td>systematic literature review</td>\n",
       "      <td>no analysis</td>\n",
       "    </tr>\n",
       "  </tbody>\n",
       "</table>\n",
       "</div>"
      ],
      "text/plain": [
       "                                   paper  year  \\\n",
       "0  http://orkg.org/orkg/resource/R249016  2011   \n",
       "1  http://orkg.org/orkg/resource/R249021  2011   \n",
       "2  http://orkg.org/orkg/resource/R249030  2011   \n",
       "3  http://orkg.org/orkg/resource/R265028  2011   \n",
       "4  http://orkg.org/orkg/resource/R276000  2011   \n",
       "\n",
       "                            contribution                      dc_label  \\\n",
       "0  http://orkg.org/orkg/resource/R249018                    case study   \n",
       "1  http://orkg.org/orkg/resource/R249023                    experiment   \n",
       "2  http://orkg.org/orkg/resource/R249033                    case study   \n",
       "3  http://orkg.org/orkg/resource/R265029                   observation   \n",
       "4  http://orkg.org/orkg/resource/R276002  systematic literature review   \n",
       "\n",
       "      da_label  \n",
       "0  no analysis  \n",
       "1     analysis  \n",
       "2     analysis  \n",
       "3     analysis  \n",
       "4  no analysis  "
      ]
     },
     "metadata": {},
     "output_type": "display_data"
    },
    {
     "name": "stdout",
     "output_type": "stream",
     "text": [
      "<class 'pandas.core.frame.DataFrame'>\n",
      "RangeIndex: 384 entries, 0 to 383\n",
      "Data columns (total 5 columns):\n",
      " #   Column        Non-Null Count  Dtype \n",
      "---  ------        --------------  ----- \n",
      " 0   paper         384 non-null    object\n",
      " 1   year          384 non-null    int64 \n",
      " 2   contribution  384 non-null    object\n",
      " 3   dc_label      383 non-null    object\n",
      " 4   da_label      383 non-null    object\n",
      "dtypes: int64(1), object(4)\n",
      "memory usage: 15.1+ KB\n"
     ]
    },
    {
     "data": {
      "text/plain": [
       "None"
      ]
     },
     "metadata": {},
     "output_type": "display_data"
    },
    {
     "data": {
      "application/vnd.jupyter.widget-view+json": {
       "model_id": "0aa3823bbbd7482c8861f2a3a1ef97f5",
       "version_major": 2,
       "version_minor": 0
      },
      "image/png": "[encoded data removed]",
      "text/html": [
       "\n",
       "            <div style=\"display: inline-block;\">\n",
       "                <div class=\"jupyter-widgets widget-label\" style=\"text-align: center;\">\n",
       "                    Figure\n",
       "                </div>\n",
       "                <img src='data:image/png;base64,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' width=640.0/>\n",
       "            </div>\n",
       "        "
      ],
      "text/plain": [
       "Canvas(toolbar=Toolbar(toolitems=[('Home', 'Reset original view', 'home', 'home'), ('Back', 'Back to previous …"
      ]
     },
     "metadata": {},
     "output_type": "display_data"
    },
    {
     "data": {
      "text/html": [
       "<div>\n",
       "<style scoped>\n",
       "    .dataframe tbody tr th:only-of-type {\n",
       "        vertical-align: middle;\n",
       "    }\n",
       "\n",
       "    .dataframe tbody tr th {\n",
       "        vertical-align: top;\n",
       "    }\n",
       "\n",
       "    .dataframe thead th {\n",
       "        text-align: right;\n",
       "    }\n",
       "</style>\n",
       "<table border=\"1\" class=\"dataframe\">\n",
       "  <thead>\n",
       "    <tr style=\"text-align: right;\">\n",
       "      <th></th>\n",
       "      <th>Proportion of missing values</th>\n",
       "    </tr>\n",
       "  </thead>\n",
       "  <tbody>\n",
       "    <tr>\n",
       "      <th>paper</th>\n",
       "      <td>0.00</td>\n",
       "    </tr>\n",
       "    <tr>\n",
       "      <th>year</th>\n",
       "      <td>0.00</td>\n",
       "    </tr>\n",
       "    <tr>\n",
       "      <th>contribution</th>\n",
       "      <td>0.00</td>\n",
       "    </tr>\n",
       "    <tr>\n",
       "      <th>dc_label</th>\n",
       "      <td>0.26</td>\n",
       "    </tr>\n",
       "    <tr>\n",
       "      <th>da_label</th>\n",
       "      <td>0.26</td>\n",
       "    </tr>\n",
       "  </tbody>\n",
       "</table>\n",
       "</div>"
      ],
      "text/plain": [
       "              Proportion of missing values\n",
       "paper                                 0.00\n",
       "year                                  0.00\n",
       "contribution                          0.00\n",
       "dc_label                              0.26\n",
       "da_label                              0.26"
      ]
     },
     "metadata": {},
     "output_type": "display_data"
    },
    {
     "name": "stderr",
     "output_type": "stream",
     "text": [
      "Unhandled message type set_device_pixel_ratio. {'device_pixel_ratio': 2, 'type': 'set_device_pixel_ratio'}\n"
     ]
    }
   ],
   "source": [
    "explore_data(df_query_1)"
   ]
  },
  {
   "cell_type": "code",
   "execution_count": 5,
   "metadata": {},
   "outputs": [
    {
     "name": "stdout",
     "output_type": "stream",
     "text": [
      "<class 'pandas.core.frame.DataFrame'>\n",
      "RangeIndex: 384 entries, 0 to 383\n",
      "Data columns (total 5 columns):\n",
      " #   Column        Non-Null Count  Dtype   \n",
      "---  ------        --------------  -----   \n",
      " 0   paper         384 non-null    object  \n",
      " 1   year          384 non-null    int64   \n",
      " 2   contribution  384 non-null    object  \n",
      " 3   dc_label      383 non-null    category\n",
      " 4   da_label      383 non-null    category\n",
      "dtypes: category(2), int64(1), object(2)\n",
      "memory usage: 11.4+ KB\n"
     ]
    },
    {
     "data": {
      "text/plain": [
       "None"
      ]
     },
     "metadata": {},
     "output_type": "display_data"
    }
   ],
   "source": [
    "df_query_1['dc_label'] = df_query_1['dc_label'].astype('category')\n",
    "df_query_1['da_label'] = df_query_1['da_label'].astype('category')\n",
    "display(df_query_1.info())"
   ]
  },
  {
   "cell_type": "markdown",
   "metadata": {},
   "source": [
    "#### <ins>*Data Analysis*</ins>"
   ]
  },
  {
   "cell_type": "markdown",
   "metadata": {},
   "source": [
    "#### <ins>*Data Interpretation</ins>"
   ]
  },
  {
   "attachments": {},
   "cell_type": "markdown",
   "metadata": {},
   "source": [
    "<a id='q2'></a>\n",
    "### 3.2 How often are which empirical methods used over time?\n",
    "\n",
    "#### <ins>*Data Selection*</ins> \n",
    "\n",
    "*Explanation of the Competency Question*:\n",
    "\n",
    "According to [Sjøberg et al. (2007)](https://doi.org/10.1109/FOSE.2007.30), the **\"current\" state of practice (2007)** shows a that there are relatively **few empirical studies**. For the **target state (2020 - 2025)**, [Sjøberg et al. (2007)](https://doi.org/10.1109/FOSE.2007.30) envision a **large number of studies [...] using different empirical methods**. This predicted change from a few to a large number of empirical studies using different empirical methods leads to the corresponding competency question.\n",
    "\n",
    "*Required Data for the Analysis*:\n",
    "\n",
    "We must retrieve all papers with their publication year that use our ORKG template and report on the use of empirical methods. According to [Dan (2017)](https://doi.org/10.1002/9781118901731.iecrm0083), empirical methods include data collection and data analysis. For this reason, an empirical method can be a method of data collection or data analysis.\n",
    "\n",
    "The following table summarizes the required data by listing the important SPARQL variables and their meaning in relation to the previous explanation of the required data.\n",
    "| SPARQL variables  | Meaning of the variables                           |\n",
    "|-------------------|----------------------------------------------------|\n",
    "| ?paper            | A paper in the ORKG                                |\n",
    "| ?year             | Publication year of a paper                        |\n",
    "| ?contribution     | Description of a paper using our ORKG template     |\n",
    "| ?data_collection  | Reported data collection according to our template |\n",
    "| ?data_analysis    | Reported data analysis according to our template   |\n",
    "\n",
    "[Back to top](#step3)"
   ]
  },
  {
   "cell_type": "markdown",
   "metadata": {},
   "source": [
    "#### <ins>*Data Collection*</ins> \n",
    "Below, we retrieve the required data from the developed body of knowledge of empirical research in RE from the [ORKG](https://www.orkg.org/orkg/) using its [SPARQL endpoint](https://orkg.org/sparql/)."
   ]
  },
  {
   "cell_type": "code",
   "execution_count": 9,
   "metadata": {},
   "outputs": [],
   "source": [
    "ID = 2\n",
    "DATE = '2023-01-18'\n",
    "\n",
    "query_2 = \"\"\"\n",
    "        SELECT ?paper, ?year, ?contribution, ?dc_label, ?experiment, ?survey, ?interview, ?study, ?secondary_research, ?action_research, ?da_label\n",
    "        WHERE {\n",
    "                ?paper orkgp:P31 ?contribution;\n",
    "                        orkgp:P29 ?year.\n",
    "                ?contribution a orkgc:C27001.\n",
    "\n",
    "                OPTIONAL{?contribution orkgp:P56008 ?data_collection.\n",
    "                        ?data_collection rdfs:label ?dc_label.\n",
    "                        OPTIONAL{?data_collection orkgp:P1007/rdfs:label ?experiment.}\n",
    "                        OPTIONAL{?data_collection orkgp:P57036/rdfs:label ?survey.}\n",
    "                        OPTIONAL{?data_collection orkgp:P57034/rdfs:label ?interview.}\n",
    "                        #OPTIONAL{?data_collection orkgp:P57040/rdfs:label ?study.}\n",
    "                        #OPTIONAL{?data_collection orkgp:P57021/rdfs:label ?secondary_research.}\n",
    "                        #OPTIONAL{?data_collection orkgp:P57020/rdfs:label ?action_research.}         \n",
    "                }\n",
    "                \n",
    "                #  OPTIONAL{?contribution orkgp:P15124 ?data_analysis.\n",
    "                #           ?data_analysis rdfs:label ?da_label.\n",
    "                # }\n",
    "        }\n",
    "        \"\"\"\n",
    "\n",
    "retrieve_data(ID, query_2)\n",
    "\n",
    "df_query_2 = pd.read_csv('query_'+ str(ID) + '_data_' + DATE + '.csv', encoding='utf-8', encoding_errors='ignore')"
   ]
  },
  {
   "cell_type": "markdown",
   "metadata": {},
   "source": [
    "#### <ins>*Data Exploration*</ins>\n",
    "Below, we explore the retrieved data, including its cleaning and validation, to prepare the data for data analysis."
   ]
  },
  {
   "cell_type": "code",
   "execution_count": 7,
   "metadata": {},
   "outputs": [
    {
     "data": {
      "text/plain": [
       "'Number of total entries in the dataset: 384'"
      ]
     },
     "metadata": {},
     "output_type": "display_data"
    },
    {
     "data": {
      "text/plain": [
       "'Number of unique entries in the dataset: 384'"
      ]
     },
     "metadata": {},
     "output_type": "display_data"
    },
    {
     "data": {
      "text/html": [
       "<div>\n",
       "<style scoped>\n",
       "    .dataframe tbody tr th:only-of-type {\n",
       "        vertical-align: middle;\n",
       "    }\n",
       "\n",
       "    .dataframe tbody tr th {\n",
       "        vertical-align: top;\n",
       "    }\n",
       "\n",
       "    .dataframe thead th {\n",
       "        text-align: right;\n",
       "    }\n",
       "</style>\n",
       "<table border=\"1\" class=\"dataframe\">\n",
       "  <thead>\n",
       "    <tr style=\"text-align: right;\">\n",
       "      <th></th>\n",
       "      <th>paper</th>\n",
       "      <th>year</th>\n",
       "      <th>contribution</th>\n",
       "      <th>dc_label</th>\n",
       "      <th>da_label</th>\n",
       "    </tr>\n",
       "  </thead>\n",
       "  <tbody>\n",
       "    <tr>\n",
       "      <th>0</th>\n",
       "      <td>http://orkg.org/orkg/resource/R249016</td>\n",
       "      <td>2011</td>\n",
       "      <td>http://orkg.org/orkg/resource/R249018</td>\n",
       "      <td>case study</td>\n",
       "      <td>no analysis</td>\n",
       "    </tr>\n",
       "    <tr>\n",
       "      <th>1</th>\n",
       "      <td>http://orkg.org/orkg/resource/R249021</td>\n",
       "      <td>2011</td>\n",
       "      <td>http://orkg.org/orkg/resource/R249023</td>\n",
       "      <td>experiment</td>\n",
       "      <td>analysis</td>\n",
       "    </tr>\n",
       "    <tr>\n",
       "      <th>2</th>\n",
       "      <td>http://orkg.org/orkg/resource/R249030</td>\n",
       "      <td>2011</td>\n",
       "      <td>http://orkg.org/orkg/resource/R249033</td>\n",
       "      <td>case study</td>\n",
       "      <td>analysis</td>\n",
       "    </tr>\n",
       "    <tr>\n",
       "      <th>3</th>\n",
       "      <td>http://orkg.org/orkg/resource/R265028</td>\n",
       "      <td>2011</td>\n",
       "      <td>http://orkg.org/orkg/resource/R265029</td>\n",
       "      <td>observation</td>\n",
       "      <td>analysis</td>\n",
       "    </tr>\n",
       "    <tr>\n",
       "      <th>4</th>\n",
       "      <td>http://orkg.org/orkg/resource/R276000</td>\n",
       "      <td>2011</td>\n",
       "      <td>http://orkg.org/orkg/resource/R276002</td>\n",
       "      <td>systematic literature review</td>\n",
       "      <td>no analysis</td>\n",
       "    </tr>\n",
       "  </tbody>\n",
       "</table>\n",
       "</div>"
      ],
      "text/plain": [
       "                                   paper  year  \\\n",
       "0  http://orkg.org/orkg/resource/R249016  2011   \n",
       "1  http://orkg.org/orkg/resource/R249021  2011   \n",
       "2  http://orkg.org/orkg/resource/R249030  2011   \n",
       "3  http://orkg.org/orkg/resource/R265028  2011   \n",
       "4  http://orkg.org/orkg/resource/R276000  2011   \n",
       "\n",
       "                            contribution                      dc_label  \\\n",
       "0  http://orkg.org/orkg/resource/R249018                    case study   \n",
       "1  http://orkg.org/orkg/resource/R249023                    experiment   \n",
       "2  http://orkg.org/orkg/resource/R249033                    case study   \n",
       "3  http://orkg.org/orkg/resource/R265029                   observation   \n",
       "4  http://orkg.org/orkg/resource/R276002  systematic literature review   \n",
       "\n",
       "      da_label  \n",
       "0  no analysis  \n",
       "1     analysis  \n",
       "2     analysis  \n",
       "3     analysis  \n",
       "4  no analysis  "
      ]
     },
     "metadata": {},
     "output_type": "display_data"
    },
    {
     "name": "stdout",
     "output_type": "stream",
     "text": [
      "<class 'pandas.core.frame.DataFrame'>\n",
      "RangeIndex: 384 entries, 0 to 383\n",
      "Data columns (total 5 columns):\n",
      " #   Column        Non-Null Count  Dtype \n",
      "---  ------        --------------  ----- \n",
      " 0   paper         384 non-null    object\n",
      " 1   year          384 non-null    int64 \n",
      " 2   contribution  384 non-null    object\n",
      " 3   dc_label      383 non-null    object\n",
      " 4   da_label      383 non-null    object\n",
      "dtypes: int64(1), object(4)\n",
      "memory usage: 15.1+ KB\n"
     ]
    },
    {
     "data": {
      "text/plain": [
       "None"
      ]
     },
     "metadata": {},
     "output_type": "display_data"
    },
    {
     "data": {
      "application/vnd.jupyter.widget-view+json": {
       "model_id": "0aa3823bbbd7482c8861f2a3a1ef97f5",
       "version_major": 2,
       "version_minor": 0
      },
      "image/png": "[encoded data removed]",
      "text/html": [
       "\n",
       "            <div style=\"display: inline-block;\">\n",
       "                <div class=\"jupyter-widgets widget-label\" style=\"text-align: center;\">\n",
       "                    Figure\n",
       "                </div>\n",
       "                <img src='data:image/png;base64,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' width=640.0/>\n",
       "            </div>\n",
       "        "
      ],
      "text/plain": [
       "Canvas(toolbar=Toolbar(toolitems=[('Home', 'Reset original view', 'home', 'home'), ('Back', 'Back to previous …"
      ]
     },
     "metadata": {},
     "output_type": "display_data"
    },
    {
     "data": {
      "text/html": [
       "<div>\n",
       "<style scoped>\n",
       "    .dataframe tbody tr th:only-of-type {\n",
       "        vertical-align: middle;\n",
       "    }\n",
       "\n",
       "    .dataframe tbody tr th {\n",
       "        vertical-align: top;\n",
       "    }\n",
       "\n",
       "    .dataframe thead th {\n",
       "        text-align: right;\n",
       "    }\n",
       "</style>\n",
       "<table border=\"1\" class=\"dataframe\">\n",
       "  <thead>\n",
       "    <tr style=\"text-align: right;\">\n",
       "      <th></th>\n",
       "      <th>Proportion of missing values</th>\n",
       "    </tr>\n",
       "  </thead>\n",
       "  <tbody>\n",
       "    <tr>\n",
       "      <th>paper</th>\n",
       "      <td>0.00</td>\n",
       "    </tr>\n",
       "    <tr>\n",
       "      <th>year</th>\n",
       "      <td>0.00</td>\n",
       "    </tr>\n",
       "    <tr>\n",
       "      <th>contribution</th>\n",
       "      <td>0.00</td>\n",
       "    </tr>\n",
       "    <tr>\n",
       "      <th>dc_label</th>\n",
       "      <td>0.26</td>\n",
       "    </tr>\n",
       "    <tr>\n",
       "      <th>da_label</th>\n",
       "      <td>0.26</td>\n",
       "    </tr>\n",
       "  </tbody>\n",
       "</table>\n",
       "</div>"
      ],
      "text/plain": [
       "              Proportion of missing values\n",
       "paper                                 0.00\n",
       "year                                  0.00\n",
       "contribution                          0.00\n",
       "dc_label                              0.26\n",
       "da_label                              0.26"
      ]
     },
     "metadata": {},
     "output_type": "display_data"
    }
   ],
   "source": [
    "explore_data(df_query_1)"
   ]
  },
  {
   "cell_type": "code",
   "execution_count": 8,
   "metadata": {},
   "outputs": [
    {
     "name": "stdout",
     "output_type": "stream",
     "text": [
      "<class 'pandas.core.frame.DataFrame'>\n",
      "RangeIndex: 384 entries, 0 to 383\n",
      "Data columns (total 5 columns):\n",
      " #   Column        Non-Null Count  Dtype   \n",
      "---  ------        --------------  -----   \n",
      " 0   paper         384 non-null    object  \n",
      " 1   year          384 non-null    int64   \n",
      " 2   contribution  384 non-null    object  \n",
      " 3   dc_label      383 non-null    category\n",
      " 4   da_label      383 non-null    category\n",
      "dtypes: category(2), int64(1), object(2)\n",
      "memory usage: 11.4+ KB\n"
     ]
    },
    {
     "data": {
      "text/plain": [
       "None"
      ]
     },
     "metadata": {},
     "output_type": "display_data"
    }
   ],
   "source": [
    "df_query_1['dc_label'] = df_query_1['dc_label'].astype('category')\n",
    "df_query_1['da_label'] = df_query_1['da_label'].astype('category')\n",
    "display(df_query_1.info())"
   ]
  },
  {
   "cell_type": "markdown",
   "metadata": {},
   "source": [
    "#### <ins>*Data Analysis*</ins>"
   ]
  },
  {
   "cell_type": "markdown",
   "metadata": {},
   "source": [
    "#### <ins>*Data Interpretation</ins>"
   ]
  }
 ],
 "metadata": {
  "kernelspec": {
   "display_name": "base",
   "language": "python",
   "name": "python3"
  },
  "language_info": {
   "codemirror_mode": {
    "name": "ipython",
    "version": 3
   },
   "file_extension": ".py",
   "mimetype": "text/x-python",
   "name": "python",
   "nbconvert_exporter": "python",
   "pygments_lexer": "ipython3",
   "version": "3.9.7"
  },
  "orig_nbformat": 4,
  "vscode": {
   "interpreter": {
    "hash": "06f50a12488b22dd8aad89aab095913306d8bab0efa1753e4f97bf830d476742"
   }
  }
 },
 "nbformat": 4,
 "nbformat_minor": 2
}
