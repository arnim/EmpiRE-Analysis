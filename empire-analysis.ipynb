{
 "cells": [
  {
   "attachments": {},
   "cell_type": "markdown",
   "metadata": {},
   "source": [
    "<a id='top'></a>\n",
    "# Analysis of the State and Evolution of Empirical Research in Requirements Engineering\n",
    "\n",
    "**Remark:** This Jupyter Notebook is supplementary material for the paper \"*Divide and Conquer the EmpiRE: A Community-Maintained Body of Knowledge of Empirical Research in Requirements Engineering*\", submitted to the [31st IEEE International Requirements Engineering Conference](https://conf.researchr.org/home/RE-2023).\n",
    "\n",
    "<details>\n",
    "  <summary>Table of Contents</summary>\n",
    "\n",
    "1. [Summary](#step1)\n",
    "2. [Analysis of Competency question](#step2)\n",
    "    \n",
    "    2.1 [How has the number of empirical studies evolved over time?](#q1)\n",
    "\n",
    "    2.2 [How often are which empirical methods used over time?](#q2)\n",
    "    \n",
    "    2.3 [How has the number of papers that do not have an empirical study evolved over time?](#q3)\n",
    "    \n",
    "    2.4 [How often are which research methods used for empirical studies?](#q4)\n",
    "\n",
    "    2.5 [How have the proportions of experiments, secondary research (reviews), surveys, case studies, and action research in the research methods used evolved over time?](#q5)\n",
    "    \n",
    "    2.6 [How often are which statistical methods used?](#q6)\n",
    "    \n",
    "    2.7 [How has the use of statistical methods evolved over time?](#q7)\n",
    "    \n",
    "    2.8 [How has the reporting of threats to validity evolved over time?](#q8)\n",
    "    \n",
    "    2.9 [What types of threats to validity do the authors report?](#q9)\n",
    "    \n",
    "    2.10 [How has the provision of the materials used, the raw data collected, and the study results identified evolved over time?](#q10)\n",
    "    \n",
    "    2.11 [How have the proportions of case studies and action research in the research methods used evolved over time?](#q11)\n",
    "    \n",
    "    2.12 [How has the reporting of research questions and answers evolved over time?](#q12)\n",
    "    \n",
    "    2.13 [What research methods are used to conduct integrative and interpretive (systematic literature) reviews, so-called secondary research?](#q13)\n",
    "    \n",
    "    2.14 [How has the proportions of research methods to conduct (systematic literature) reviews, so-called secondary research, evolved over time?](#q14)\n",
    "    \n",
    "    2.15 [How many different research methods are used per publication?](#q15)\n",
    "    \n",
    "    2.16 [How has the number of research methods used per publication evolved over time?](#q16)\n",
    "    \n",
    "3.  [Exploratory Data Analysis](#step3)\n",
    "\n",
    "    3.1 [Exploring the Statistics of the Dataset](#step3.1)\n",
    "    \n",
    "    3.2 [Results of Exploring the Statistics of the Dataset](#step3.2)\n",
    "    \n",
    "    3.3 [Summary of Changes in the Dataset after Exploring the Statistics of the Dataset](#step3.3)\n",
    "    \n",
    "    3.4 [Exploring the Relationships in the Dataset](#step3.4)\n",
    "    \n",
    "    3.5 [Results of Exploring the Relationships in the Dataset](#step3.5)\n",
    "    \n",
    "4.  [Model Development](#step4)\n",
    "\n",
    "    4.1 [Feature Selection and Data Splitting](#step4.1)\n",
    "    \n",
    "    4.2 [Development of the Initial Models](#step4.2)\n",
    "    \n",
    "    4.3 [Model Improvement Approach 1: Scaling the Data](#step4.3)\n",
    "    \n",
    "    4.4 [Model Improvement Approach 2: Hyperparameter Tuning](#step4.4)\n",
    "    \n",
    "    4.5 [Results of the Model Development](#step4.5)\n",
    "    \n",
    "5.  [Model Evaluation](#step5)\n",
    "6.  [Comparison to the Business Success Criteria](#step6)\n",
    "7.  [Final Summary and Recommendations](#step7)\n",
    "</details>\n",
    "\n",
    "---"
   ]
  },
  {
   "attachments": {},
   "cell_type": "markdown",
   "metadata": {},
   "source": [
    "<a id='step1'></a>\n",
    "## 1. Summary\n",
    "\n",
    "## Context\n",
    "Empirical research in Requirements Engineering (RE) has become an important topic and research area. Over the years, several researchers examined how empirical research in RE is \"currently\" conducted and how it should be conducted in the future by presenting snapshots of the \"current\" state of empirical research in RE and, more generally, in Software Engineering (SE). These researchers share the same goal of synthesizing a comprehensive, current, and long-term available overview of the state and evolution of empirical research in RE and SE. Although they share the same goal, use similar methods, i.e., (systematic) literature reviews or systematic mapping studies, and even examine overlapping periods, venues, and topics, they have not collaborated to build on and update previous work. **Lack of collaboration and updating are known challenges of literature reviews.** Overcoming these challenges is critical to ensure the quality, reliability, and timeliness of research findings from literature reviews.\n",
    "\n",
    "## Motivation\n",
    "Current research addresses the above challenges by focusing on when and how to update (systematic) literature reviews in SE and its subfields. While these works provide social and economic decision support and guidance for updating literature reviews, **the central problem is the unavailability of the extracted and analyzed data**, corresponding to open science in SE. Unavailable data complicates collaboration among researchers in updating a literature review as the entire data collection, extraction, and analysis must be repeated and expanded for a comprehensive review. Researchers need adequate technical support in the form of infrastructures and services to achieve sustainable literature reviews with all available data. These infrastructures must ensure that the data is Findable, Accessible, Interoperable, and Reusable (FAIR) over the long term following the FAIR data principles. For this purpose, the data must be organized in a flexible, fine-grained, context-sensitive, and semantic representation to be understandable, processable, and useful to humans and machines. Over the last decade, Knowledge Graphs (KGs) became an emerging technology in industry and academia as they enable this versatile data representation. Besides well-known KGs for encyclopedic and factual data, such as [DBpedia](https://www.dbpedia.org/) and [WikiData](https://www.wikidata.org), using so-called Research Knowledge Graphs (RKGs) for scientific data is a rather new approach. RKGs include bibliographic metadata, e.g., titles, authors, and venues, as well as scientific data, e.g., research designs, methods, and results. They are a promising technology to sustainably organize scientific data, e.g., extracted and analyzed data of literature reviews, as a body of knowledge that can be built, published, maintained, (re)used, updated, and expanded in a long-term and collaborative manner.\n",
    "\n",
    "## Objective\n",
    "**Our overarching objective is to develop a body of knowledge that synthesizes a comprehensive, current, and long-term available overview of the state and evolution of empirical research in RE and SE**. For this purpose, we start to explore using RKGs as technical infrastructure for building, publishing, (re)using, updating, and expanding such a body of knowledge of empirical research in RE, that the research community can maintain by dividing the efforts to conquer the topic. In particular, we explore using the Open Research Knowledge Graph ([ORKG](https://orkg.org/)), a cross-domain and cross-topic RKG that provides accompanying services using intertwined human and machine intelligence by combining manual crowdsourcing and automated approaches to organize scientific data. With this work, we aim to lay the foundation for such a comprehensive, current, and long-term available overview of the state and evolution of empirical research in RE and SE by building, publishing, and evaluating an initial informed and reflected body of knowledge of empirical research in RE.\n",
    "\n",
    "## Approach\n",
    "<p align=\"center\">\n",
    "    <img src=\"Figures/approach.png\" width=\"600\"/>\n",
    "    \n",
    "</p>\n",
    "<p align=\"center\">\n",
    "    <em>Research approach for developing, publishing, and evaluating an intial informed and reflected body of knowledge of empirical research in RE.</em>\n",
    "</p>\n",
    "\n",
    "Our research approach consists of three steps: Data collection, Data extraction, and Data analysis. So far, **we collected 330 papers** published in the research track of the [IEEE International Requirements Engineering Conference](https://ieeexplore.ieee.org/xpl/conhome/1000630/all-proceedings) from 2009 to 2022. **We extracted and organized their scientific data**, i.a., research paradigm, research design, research method (data collection and data analysis), and bibliographic metadata using a developed [ORKG template](https://orkg.org/template/R186491). An ORKG template defines the data structure for the consistent description of the research contributions of different papers. Thus, the ORKG template specifies which data should be extracted and ensures that all described papers are comparable as they share the same structure. In this way, **we built and published an initial informed and reflected body of knowledge of empirical research in RE**.\n",
    "\n",
    "In this Jupyter Notebook, we perform the data analysis of the developed body of knowledge of empirical research in RE, which has two purposes:\n",
    "\n",
    "(1) We want to get first insights into the state and evolution of empirical research in RE by analyzing the developed body of knowledge.\n",
    "\n",
    "(2) We want to evaluate the body of knowledge concerning its coverage.\n",
    "\n",
    "The data analysis is based on competency questions regarding empirical research in SE derived from the vision of [Sjøberg et al. (2007)](https://ieeexplore.ieee.org/document/4221632). Sjøberg et al. (2007) describe their vision of the role of empirical methods in all fields of SE, including RE, for the current period of 2020 – 2025 by comparing the **\"current\" state of practice (2007)** with their **target state (2020 - 2025)**. We analyzed these descriptions and derived a total of [77 competency questions](competency-questions.xlsx). For each competency question, we assessed whether we can answer the question with the developed body of knowledge. Subsequently, we specified the answerable competency questions as [SPARQL](https://www.w3.org/TR/sparql11-query/) queries to retrieve and analyze the data from the ORKG. In this way, we obtain answers to the competency questions and thus gain first insights into the state and evolution of empirical research in RE.\n",
    "\n",
    "Below, we present an overview of the competency question answered. The details of each analysis (SPARQL query, visualizations, and interpretation of results) are presented in corresponding sections.\n",
    "\n",
    "<details>\n",
    "  <summary>Competency questions answered</summary>\n",
    "  \n",
    "1. [How has the number of empirical studies evolved over time?](#q1)\n",
    "2. [How often are which empirical methods used over time?](#q2)\n",
    "3. [How has the number of papers that do not have an empirical study evolved over time?](#q3)\n",
    "4. [How often are which research methods used for empirical studies?](#q4)\n",
    "5. [How have the proportions of experiments, secondary research (reviews), surveys, case studies, and action research in the research methods used evolved over time?](#q5)\n",
    "6. [How often are which statistical methods used?](#q6)\n",
    "7. [How has the use of statistical methods evolved over time?](#q7)\n",
    "8. [How has the reporting of threats to validity evolved over time?](#q8)\n",
    "9. [What types of threats to validity do the authors report?](#q9)\n",
    "10. [How has the provision of the materials used, the raw data collected, and the study results identified evolved over time?](#q10)\n",
    "11. [How have the proportions of case studies and action research in the research methods used evolved over time?](#q11)\n",
    "12. [How has the reporting of research questions and answers evolved over time?](#q12)\n",
    "13. [What research methods are used to conduct integrative and interpretive (systematic literature) reviews, so-called secondary research?](#q13)\n",
    "14. [How has the proportions of research methods to conduct (systematic literature) reviews, so-called secondary research, evolved over time?](#q14)\n",
    "15. [How many different research methods are used per publication?](#q15)\n",
    "16. [How has the number of research methods used per publication evolved over time?](#q16)\n",
    "</details>\n",
    "\n",
    "## Results\n",
    "At the moment, we can answer 16 of the 77 competency questions with the developed body of knowledge.\n",
    "\n",
    "## Conclusion\n",
    "\n",
    "[Back to top](#top)\n",
    "\n",
    "---"
   ]
  },
  {
   "cell_type": "markdown",
   "metadata": {},
   "source": [
    "<a id='step2'></a>\n",
    "## 2. Analysis of the Competency Questions\n",
    "\n",
    "Below, we present the individual analyses for each answerable competency question. Each analysis follows the same structure:\n",
    "\n",
    "1. Data selection: Explaining the competency question and the required data for the analysis.\n",
    "2. Data collection: Executing the specified SPARQL query.\n",
    "3. Data cleaning: Preparing the data for the analysis.\n",
    "4. Data analysis: Analyzing the data and creating visualizations.\n",
    "5. Data interpretation: Interpreting the data and derive insighta.\n",
    "\n",
    "[Back to top](#top)"
   ]
  },
  {
   "attachments": {},
   "cell_type": "markdown",
   "metadata": {},
   "source": [
    "<a id='q1'></a>\n",
    "### 2.1 How has the number of empirical studies evolved over time?\n",
    "\n",
    "*Explanation of the Competency Question*\n",
    "\n",
    "According to [Sjøberg et al. (2007)](https://ieeexplore.ieee.org/document/4221632), the **\"current\" state of practice (2007)** shows a that there are relatively **few empirical studies**. For the **target state (2020 - 2025)**, [Sjøberg et al. (2007)](https://ieeexplore.ieee.org/document/4221632) envision a **large number of studies**. This predicted change from a few to a large number of empirical studies leads to the corresponding competency question.\n",
    "\n",
    "*Required Data for the Analysis*\n",
    "\n",
    "We must determine all papers that have an empirical study. However, we need to define what we mean by an empirical study. According to [Empirical Software Engineering Journal](https://www.springer.com/journal/10664), \"*Empirical studies presented here usually involve the collection and analysis of data and experience...*\". For this reason, we define that an empirical study is a study that includes data analysis as a necessary condition to be a study (**Necessity**) and data collection as a sufficient condition to be an empirical study (**Sufficiency**). Thus, a study must always include data analysis and an empirical study must include data collection and data analysis.\n",
    "\n",
    "[Back to top](#step2)"
   ]
  },
  {
   "cell_type": "code",
   "execution_count": null,
   "metadata": {},
   "outputs": [],
   "source": [
    "%matplotlib widget\n",
    "import sparql_dataframe\n",
    "import seaborn as sns\n",
    "import matplotlib.pyplot as plt\n",
    "import dataframe_image as dfi\n",
    "\n",
    "steps = tf_data.sort_values('step_number')[['step_number', 'step_name']].drop_duplicates()\n",
    "steps[\"step\"] = steps['step_number'].astype(str) + '. ' + steps['step_name']\n",
    "\n",
    "sns.set_style('whitegrid')\n",
    "sns.set_context('notebook')\n",
    "g = sns.catplot(x='step_number', data=tf_data, hue='quality', kind='count', height=5, aspect=1.5, facet_kws={'legend_out': True})\n",
    "g.fig.suptitle('Frequency of the examined qualities of the hybrid components\\nper step of the Tailored Forming process chain')\n",
    "g.set(xlabel='Steps of the Tailored Forming process chain', ylabel='Frequency of the examined qualities')\n",
    "g.set_xticklabels(steps['step'])\n",
    "g._legend.set_title('Examined qualities')\n",
    "plt.savefig('Images/Frequency of the examined qualities.png', dpi=300)\n",
    "plt.ion()\n",
    "plt.show()"
   ]
  },
  {
   "cell_type": "markdown",
   "metadata": {},
   "source": [
    "<a id='q2'></a>\n",
    "### 2. Competency question: Which material combinations are used for the manufacturing of hybrid components?\n",
    "Due to the large number of materials combinations for the manufacturing of hybrid components, it is necessary to know which material combinations have already been investigated for particular hybrid components. On the one hand, this overview allows researchers to find out whether similar studies already exist so that they can compare these results with their own results. On the other hand, with this overview it is possible to find out which materials combinations for certain hybrid components have not yet been studied and thus represent a gap in science that needs to be closed.\n",
    "\n",
    "[Back to top](#top)"
   ]
  },
  {
   "cell_type": "code",
   "execution_count": null,
   "metadata": {},
   "outputs": [],
   "source": [
    "material_data = tf_data.loc[:,['contrib_url','layer', 'material', 'component']].drop_duplicates()\n",
    "material_data.columns = ['Contribution URL', 'Layer', 'Material', 'Component']\n",
    "material_table = material_data.pivot(index=['Contribution URL', 'Component'], columns='Layer')\n",
    "#dfi.export(material_table, 'Images/Material combinations used for the manufacturing of hybrid components.png')\n",
    "material_table"
   ]
  },
  {
   "cell_type": "markdown",
   "metadata": {},
   "source": [
    "<a id='q3'></a>\n",
    "### 3. Competency Question: How do the steps of the Tailored Forming process chain affect the hardness of the cladding layer of hybrid components?\n",
    "The hardness of the cladding layer is an important measure for assessing the suitability of the cladding for mechanically or tribologically highly stressed component areas. For this reason, the question arises as to how the individual steps of the Tailored Forming process chain affect the hardness in the cladding layer of a hybrid component.\n",
    "\n",
    "[Back to top](#top)"
   ]
  },
  {
   "cell_type": "code",
   "execution_count": null,
   "metadata": {},
   "outputs": [],
   "source": [
    "tf_data['calc_value'] = tf_data['num_value'].fillna(tf_data['avg_range'])\n",
    "hardness_data = tf_data.query('quality == \"Hardness\" and layer == \"Cladding layer\"')[['contrib_url','step_number', 'step_name', 'calc_value', 'unit']]\n",
    "grouped_hardness = hardness_data.groupby('contrib_url')\n",
    "\n",
    "fig, (ax1, ax2) = plt.subplots(2)\n",
    "fig.set_size_inches(12, 12)\n",
    "\n",
    "lines = []\n",
    "for name, group in grouped_hardness:\n",
    "    if (group['unit'][:1].item() != 'Gigapascal') :\n",
    "        line, = ax1.plot(group['step_number'], group['calc_value'], marker='o', linewidth=2.5, label=name+', ['+group['unit'][:1].item()+']')\n",
    "        lines.append(line)\n",
    "    else:\n",
    "        ax2.plot(group['step_number'], group['calc_value'], marker='o', linewidth=2.5, label=name+', ['+group['unit'][:1].item()+']')\n",
    "        \n",
    "ax1.set_title('Hardness of the cladding layer of hybrid components along the Tailored Forming process chain')\n",
    "ax1.set_xticks(steps['step_number'])\n",
    "ax1.set_xticklabels(steps['step'])\n",
    "ax1.set_xlabel('Steps of the Tailored Forming process chain')\n",
    "ax1.set_ylabel('Hardness [HV]')\n",
    "legend1 = ax1.legend(loc='center right', bbox_to_anchor=(1.1, 0.27))\n",
    "legend1.set_title('Click on legend line to toggle line on/off')\n",
    "\n",
    "lined = {}  # Will map legend lines to original lines.\n",
    "for legline, origline in zip(legend1.get_lines(), lines):\n",
    "    legline.set_picker(True)  # Enable picking on the legend line.\n",
    "    legline.set_pickradius(5)\n",
    "    lined[legline] = origline\n",
    "\n",
    "def on_pick(event):\n",
    "    # On the pick event, find the original line corresponding to the legend\n",
    "    # proxy line, and toggle its visibility.\n",
    "    legline = event.artist\n",
    "    origline = lined[legline]\n",
    "    visible = not origline.get_visible()\n",
    "    origline.set_visible(visible)\n",
    "    # Change the alpha on the line in the legend so we can see what lines\n",
    "    # have been toggled.\n",
    "    legline.set_alpha(1.0 if visible else 0.2)\n",
    "    fig.canvas.draw()\n",
    "\n",
    "ax2.set_title('Hardness of the cladding layer of hybrid components along the Tailored Forming process chain')\n",
    "ax2.set_xticks(steps['step_number'])\n",
    "ax2.set_xticklabels(steps['step'])\n",
    "ax2.set_xlabel('Steps of the Tailored Forming process chain')\n",
    "ax2.set_ylabel('Hardness [GPa]')\n",
    "legend2 = ax2.legend(loc='lower right')\n",
    "\n",
    "plt.connect('pick_event', on_pick)\n",
    "plt.savefig('Images/Hardness in the cladding layer.png', dpi=300)\n",
    "plt.show()"
   ]
  },
  {
   "cell_type": "markdown",
   "metadata": {},
   "source": [
    "<a id='q4'></a>\n",
    "### 4. Competency Question: In which material combinations and steps of the Tailored Forming process chain can defects occur in hybrid components?\n",
    "Various defects, such as pores and cracks, can occur during the manufacturing of hybrid components. It is important to know at which steps and material combinations these defects occur to assess the applicability of the Tailored Forming process chain for component manufacturing and to identify optimization potential.\n",
    "\n",
    "[Back to top](#top)"
   ]
  },
  {
   "cell_type": "code",
   "execution_count": null,
   "metadata": {},
   "outputs": [],
   "source": [
    "defects_data = tf_data[((tf_data.quality == 'Pores') | (tf_data.quality == 'Mannesmann effect') | (tf_data.quality == 'Cracks')) & (tf_data.textual_value == 'true')][['contrib_url', 'component', 'layer', 'material', 'quality', 'step_name', 'step_number']]\n",
    "defects_data_complete = defects_data.merge(tf_data, on=['contrib_url', 'step_name'], how='left')[['contrib_url', 'component_x', 'layer_x', 'material_x', 'layer_y', 'material_y', 'quality_x', 'step_name', 'step_number_x']].drop_duplicates()\n",
    "\n",
    "to_delete = defects_data_complete[defects_data_complete.layer_x == defects_data_complete.layer_y]\n",
    "final_defect_df = defects_data_complete.drop(to_delete.index, inplace=False)\n",
    "final_defect_df.columns = ['Contribution URL', 'Component', 'Layer with Defect', 'Material with Defect', 'Other Layer', 'Other Material', 'Defect', 'Step Name', 'Step Number']\n",
    "#dfi.export(final_defect_df, 'Images/Defects in material combinations and steps.png')\n",
    "final_defect_df"
   ]
  },
  {
   "cell_type": "markdown",
   "metadata": {},
   "source": [
    "<a id='q5'></a>\n",
    "### 5. Competency Question: What service lives can be achieved for hybrid components depending on the material combinations?\n",
    "An important criterion for components subjected to rolling loads is the service life, which is determined on test rigs. The service life depends on the materials used and other parameters such as hardness and number of defects.\n",
    "\n",
    "[Back to top](#top)"
   ]
  },
  {
   "cell_type": "code",
   "execution_count": null,
   "metadata": {},
   "outputs": [],
   "source": [
    "fatigue_data = tf_data[(tf_data.quality == 'Fatigue') & (tf_data.step_number == 5)][['contrib_url', 'component', 'calc_value', 'unit']]\n",
    "\n",
    "g = sns.catplot(x='calc_value', y='contrib_url', data=fatigue_data, kind='bar', height=5, aspect=1.8, facet_kws={'legend_out': True})\n",
    "g.fig.suptitle('Service life of hybrid components', y=1.0)\n",
    "g.set(xlabel='Service life [h]', ylabel='Hybrid components')\n",
    "plt.savefig('Images/Service life of hybrid components.png', dpi=300)\n",
    "plt.show()"
   ]
  },
  {
   "cell_type": "markdown",
   "metadata": {},
   "source": [
    "<a id='q6'></a>\n",
    "### 6. Competency Question: Which manufacturing methods are used in the individual steps of the Tailored Forming process chain to manufacture the respective hybrid component?\n",
    "In addition to the higher-level steps of the Tailored Forming process chain, e.g., Hot Forming, it is also of interest to know exactly which manufacturing methods were used in the individual steps to manufacture the hybrid components. This overview therefore shows in detail the manufacturing methods used in each step used and in which order.\n",
    "\n",
    "[Back to top](#top)"
   ]
  },
  {
   "cell_type": "code",
   "execution_count": null,
   "metadata": {},
   "outputs": [],
   "source": [
    "method_data = tf_data.loc[:,['contrib_url','component', 'step_number', 'step_name', 'manufacture_method']].drop_duplicates().sort_values('step_number')\n",
    "method_data.columns = ['Contribution URL', 'Component', 'Step Number', 'Step Name', 'Manufacturing Method']\n",
    "mehtod_table = method_data.pivot(index=['Contribution URL', 'Component'], columns=['Step Number', 'Step Name'], values='Manufacturing Method').fillna('--', inplace=False)\n",
    "#dfi.export(mehtod_table, 'Images/Manufacturing methods used in each step.png')\n",
    "mehtod_table"
   ]
  },
  {
   "cell_type": "markdown",
   "metadata": {},
   "source": [
    "<a id='q7'></a>\n",
    "### 7. Competency Question: How often are certain manufacturing methods used in total in all described Tailored Forming process chains?\n",
    "The overview of the manufacturing methods used and their frequency makes it possbile to determine previous research priorities and identify research gaps.\n",
    "\n",
    "[Back to top](#top)"
   ]
  },
  {
   "cell_type": "code",
   "execution_count": null,
   "metadata": {},
   "outputs": [],
   "source": [
    "g = sns.catplot(y='Manufacturing Method', data=method_data, kind='count', height=5, aspect=2.3, facet_kws={'legend_out': True})\n",
    "g.fig.suptitle('Frequency of the manufacturing methods used in total in all described Tailoted Forming process chains', y=1.0)\n",
    "g.set(xlabel='Frequency of manufacturing methods used', ylabel='Manufacturing methods')\n",
    "plt.savefig('Images/Frequency of manufacturing methods used.png', dpi=300)\n",
    "plt.show()"
   ]
  },
  {
   "cell_type": "markdown",
   "metadata": {},
   "source": [
    "<a id='q8'></a>\n",
    "### 8. Competency Question: Which microstructures are present in hybrid components after the steps of the Tailored Forming process chain?\n",
    "After each step of the Tailored Forming process chain, changes in the microstructure may occur due to the manufacturing method used. Knowledge of these microstructural changes is necessary for the design of a process chain. An overview of the microstructure in the cladding layer and in the base material after the steps of the respective Tailored Forming process chain is given.\n",
    "\n",
    "[Back to top](#top)"
   ]
  },
  {
   "cell_type": "code",
   "execution_count": null,
   "metadata": {},
   "outputs": [],
   "source": [
    "microstructure_data = tf_data[tf_data.quality == 'Microstructure'][['contrib_url', 'component', 'layer', 'material', 'textual_value', 'step_name', 'step_number']]\n",
    "microstructure_data.columns = ['Contribution URL', 'Component', 'Layer', 'Material', 'Microstructure', 'Step Name', 'Step Number']\n",
    "#dfi.export(microstructure_data, 'Images/Microstructures after the steps for the Tailored Forming process chains.png')\n",
    "microstructure_data"
   ]
  }
 ],
 "metadata": {
  "kernelspec": {
   "display_name": "base",
   "language": "python",
   "name": "python3"
  },
  "language_info": {
   "codemirror_mode": {
    "name": "ipython",
    "version": 3
   },
   "file_extension": ".py",
   "mimetype": "text/x-python",
   "name": "python",
   "nbconvert_exporter": "python",
   "pygments_lexer": "ipython3",
   "version": "3.9.7 (default, Sep 16 2021, 16:59:28) [MSC v.1916 64 bit (AMD64)]"
  },
  "orig_nbformat": 4,
  "vscode": {
   "interpreter": {
    "hash": "06f50a12488b22dd8aad89aab095913306d8bab0efa1753e4f97bf830d476742"
   }
  }
 },
 "nbformat": 4,
 "nbformat_minor": 2
}
