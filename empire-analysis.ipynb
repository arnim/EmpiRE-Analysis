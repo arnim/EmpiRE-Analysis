{
 "cells": [
  {
   "attachments": {},
   "cell_type": "markdown",
   "metadata": {},
   "source": [
    "<a id='top'></a>\n",
    "# Analysis of the State and Evolution of Empirical Research in Requirements Engineering\n",
    "\n",
    "**Remark:** This Jupyter Notebook is supplementary material for the paper \"*Divide and Conquer the EmpiRE: A Community-Maintained Body of Knowledge of Empirical Research in Requirements Engineering*\", submitted to the [31st IEEE International Requirements Engineering Conference](https://conf.researchr.org/home/RE-2023).\n",
    "\n",
    "<details>\n",
    "  <summary>Table of Contents</summary>\n",
    "\n",
    "1. [Summary](#step1)\n",
    "2. [Reusable Functions for Data Analysis](#step2)\n",
    "3. [Analysis of Competency question](#step3)\n",
    "    \n",
    "    3.1 [How has the number of empirical studies evolved over time?](#q1)\n",
    "\n",
    "    3.2 [How often are which empirical methods used over time?](#q2)\n",
    "    \n",
    "    3.3 [How has the number of papers that do not have an empirical study evolved over time?](#q3)\n",
    "    \n",
    "    3.4 [How often are which research methods used for empirical studies?](#q4)\n",
    "\n",
    "    3.5 [How have the proportions of experiments, secondary research (reviews), surveys, case studies, and action research in the research methods used evolved over time?](#q5)\n",
    "    \n",
    "    3.6 [How often are which statistical methods used?](#q6)\n",
    "    \n",
    "    3.7 [How has the use of statistical methods evolved over time?](#q7)\n",
    "    \n",
    "    3.8 [How has the reporting of threats to validity evolved over time?](#q8)\n",
    "    \n",
    "    3.9 [What types of threats to validity do the authors report?](#q9)\n",
    "    \n",
    "    3.10 [How has the provision of the materials used, the raw data collected, and the study results identified evolved over time?](#q10)\n",
    "    \n",
    "    3.11 [How have the proportions of case studies and action research in the research methods used evolved over time?](#q11)\n",
    "    \n",
    "    3.12 [How has the reporting of research questions and answers evolved over time?](#q12)\n",
    "    \n",
    "    3.13 [What research methods are used to conduct integrative and interpretive (systematic literature) reviews, so-called secondary research?](#q13)\n",
    "    \n",
    "    3.14 [How has the proportions of research methods to conduct (systematic literature) reviews, so-called secondary research, evolved over time?](#q14)\n",
    "    \n",
    "    3.15 [How many different research methods are used per publication?](#q15)\n",
    "    \n",
    "    3.16 [How has the number of research methods used per publication evolved over time?](#q16)\n",
    "    \n",
    "4.  [Exploratory Data Analysis](#step3)\n",
    "\n",
    "    3.1 [Exploring the Statistics of the Dataset](#step3.1)\n",
    "    \n",
    "    3.2 [Results of Exploring the Statistics of the Dataset](#step3.2)\n",
    "    \n",
    "    3.3 [Summary of Changes in the Dataset after Exploring the Statistics of the Dataset](#step3.3)\n",
    "    \n",
    "    3.4 [Exploring the Relationships in the Dataset](#step3.4)\n",
    "    \n",
    "    3.5 [Results of Exploring the Relationships in the Dataset](#step3.5)\n",
    "    \n",
    "5.  [Model Development](#step4)\n",
    "\n",
    "    4.1 [Feature Selection and Data Splitting](#step4.1)\n",
    "    \n",
    "    4.2 [Development of the Initial Models](#step4.2)\n",
    "    \n",
    "    4.3 [Model Improvement Approach 1: Scaling the Data](#step4.3)\n",
    "    \n",
    "    4.4 [Model Improvement Approach 2: Hyperparameter Tuning](#step4.4)\n",
    "    \n",
    "    4.5 [Results of the Model Development](#step4.5)\n",
    "    \n",
    "6.  [Model Evaluation](#step5)\n",
    "7.  [Comparison to the Business Success Criteria](#step6)\n",
    "8.  [Final Summary and Recommendations](#step7)\n",
    "</details>\n",
    "\n",
    "---"
   ]
  },
  {
   "attachments": {},
   "cell_type": "markdown",
   "metadata": {},
   "source": [
    "<a id='step1'></a>\n",
    "## 1. Summary\n",
    "\n",
    "## Context\n",
    "Empirical research in Requirements Engineering (RE) has become an important topic and research area. Over the years, several researchers examined how empirical research in RE is \"currently\" conducted and how it should be conducted in the future by presenting snapshots of the \"current\" state of empirical research in RE and, more generally, in Software Engineering (SE). These researchers share the same goal of synthesizing a comprehensive, current, and long-term available overview of the state and evolution of empirical research in RE and SE. Although they share the same goal, use similar methods, i.e., (systematic) literature reviews or systematic mapping studies, and even examine overlapping periods, venues, and topics, they have not collaborated to build on and update previous work. **Lack of collaboration and updating are known challenges of literature reviews.** Overcoming these challenges is critical to ensure the quality, reliability, and timeliness of research findings from literature reviews.\n",
    "\n",
    "## Motivation\n",
    "Current research addresses the above challenges by focusing on when and how to update (systematic) literature reviews in SE and its subfields. While these works provide social and economic decision support and guidance for updating literature reviews, **the central problem is the unavailability of the extracted and analyzed data**, corresponding to open science in SE. Unavailable data complicates collaboration among researchers in updating a literature review as the entire data collection, extraction, and analysis must be repeated and expanded for a comprehensive review. Researchers need adequate technical support in the form of infrastructures and services to achieve sustainable literature reviews with all available data. These infrastructures must ensure that the data is Findable, Accessible, Interoperable, and Reusable (FAIR) over the long term following the FAIR data principles. For this purpose, the data must be organized in a flexible, fine-grained, context-sensitive, and semantic representation to be understandable, processable, and useful to humans and machines. Over the last decade, Knowledge Graphs (KGs) became an emerging technology in industry and academia as they enable this versatile data representation. Besides well-known KGs for encyclopedic and factual data, such as [DBpedia](https://www.dbpedia.org/) and [WikiData](https://www.wikidata.org), using so-called Research Knowledge Graphs (RKGs) for scientific data is a rather new approach. RKGs include bibliographic metadata, e.g., titles, authors, and venues, as well as scientific data, e.g., research designs, methods, and results. They are a promising technology to sustainably organize scientific data, e.g., extracted and analyzed data of literature reviews, as a body of knowledge that can be built, published, maintained, (re)used, updated, and expanded in a long-term and collaborative manner.\n",
    "\n",
    "## Objective\n",
    "**Our overarching objective is to develop a body of knowledge that synthesizes a comprehensive, current, and long-term available overview of the state and evolution of empirical research in RE**. For this purpose, we start to explore using RKGs as technical infrastructure for building, publishing, (re)using, updating, and expanding such a body of knowledge of empirical research in RE, that the research community can maintain by dividing the efforts to conquer the topic. In particular, we explore using the Open Research Knowledge Graph ([ORKG](https://orkg.org/)), a cross-domain and cross-topic RKG that provides accompanying services using intertwined human and machine intelligence by combining manual crowdsourcing and automated approaches to organize scientific data. With this work, we lay the foundation for such a comprehensive, current, and long-term available overview of the state and evolution of empirical research in RE by building, publishing, and evaluating an initial informed and reflected body of knowledge.\n",
    "\n",
    "## Approach\n",
    "<p align=\"center\">\n",
    "    <img src=\"Figures/approach.png\" width=\"600\"/>\n",
    "    \n",
    "</p>\n",
    "<p align=\"center\">\n",
    "    <em>Research approach for developing, publishing, and evaluating an intial informed and reflected body of knowledge of empirical research in RE.</em>\n",
    "</p>\n",
    "\n",
    "Our research approach consists of three steps: Data collection, Data extraction, and Data analysis. So far, **we collected 330 papers** published in the research track of the [IEEE International Requirements Engineering Conference](https://ieeexplore.ieee.org/xpl/conhome/1000630/all-proceedings) from 2009 to 2022. **We extracted and organized their scientific data**, i.a., research paradigm, research design, research method (data collection and data analysis), and bibliographic metadata using a developed [ORKG template](https://orkg.org/template/R186491). An ORKG template defines the data structure for the consistent description of the research contributions of different papers. Thus, the ORKG template specifies which data should be extracted and ensures that all described papers are comparable as they share the same structure. In this way, **we built and published an initial informed and reflected body of knowledge of empirical research in RE**.\n",
    "\n",
    "In this Jupyter Notebook, we perform the data analysis of the developed body of knowledge of empirical research in RE, which has two purposes:\n",
    "\n",
    "(1) We want to get first insights into the state and evolution of empirical research in RE by analyzing the developed body of knowledge.\n",
    "\n",
    "(2) We want to evaluate the body of knowledge concerning its coverage.\n",
    "\n",
    "The data analysis is based on competency questions regarding empirical research in all fields of SE, including RE, derived from the vision of [Sjøberg et al. (2007)](https://ieeexplore.ieee.org/document/4221632). Sjøberg et al. (2007) describe their vision of the role of empirical methods in all fields of SE, including RE, for the current period of 2020 – 2025 by comparing the **\"current\" state of practice (2007)** with their **target state (2020 - 2025)**. We analyzed these descriptions and derived a total of [77 competency questions](competency-questions.xlsx). For each competency question, we assessed whether we can answer the question with the developed body of knowledge. Subsequently, we specified the answerable competency questions as [SPARQL](https://www.w3.org/TR/sparql11-query/) queries to retrieve and analyze the data from the [ORKG](https://orkg.org/). In this way, **we obtain answers to the competency questions and thus gain first insights into the state and evolution of empirical research in RE**.\n",
    "\n",
    "Below, we present an overview of the competency question answered. The details of each analysis are presented in corresponding sections.\n",
    "\n",
    "<details>\n",
    "  <summary>Competency questions answered</summary>\n",
    "  \n",
    "1. [How has the number of empirical studies evolved over time?](#q1)\n",
    "2. [How often are which empirical methods used over time?](#q2)\n",
    "3. [How has the number of papers that do not have an empirical study evolved over time?](#q3)\n",
    "4. [How often are which research methods used for empirical studies?](#q4)\n",
    "5. [How have the proportions of experiments, secondary research (reviews), surveys, case studies, and action research in the research methods used evolved over time?](#q5)\n",
    "6. [How often are which statistical methods used?](#q6)\n",
    "7. [How has the use of statistical methods evolved over time?](#q7)\n",
    "8. [How has the reporting of threats to validity evolved over time?](#q8)\n",
    "9. [What types of threats to validity do the authors report?](#q9)\n",
    "10. [How has the provision of the materials used, the raw data collected, and the study results identified evolved over time?](#q10)\n",
    "11. [How have the proportions of case studies and action research in the research methods used evolved over time?](#q11)\n",
    "12. [How has the reporting of research questions and answers evolved over time?](#q12)\n",
    "13. [What research methods are used to conduct integrative and interpretive (systematic literature) reviews, so-called secondary research?](#q13)\n",
    "14. [How has the proportions of research methods to conduct (systematic literature) reviews, so-called secondary research, evolved over time?](#q14)\n",
    "15. [How many different research methods are used per publication?](#q15)\n",
    "16. [How has the number of research methods used per publication evolved over time?](#q16)\n",
    "</details>\n",
    "\n",
    "## Results\n",
    "At the moment, we can answer 16 of the 77 competency questions with the developed body of knowledge.\n",
    "\n",
    "## Conclusion\n",
    "\n",
    "[Back to top](#top)\n",
    "\n",
    "---"
   ]
  },
  {
   "cell_type": "markdown",
   "metadata": {},
   "source": [
    "<a id='step2'></a>\n",
    "## 2. Reusable Functions for Data Analysis"
   ]
  },
  {
   "cell_type": "code",
   "execution_count": null,
   "metadata": {},
   "outputs": [],
   "source": [
    "%matplotlib widget\n",
    "from SPARQLWrapper import SPARQLWrapper, CSV\n",
    "from datetime import datetime\n",
    "#import sparql_dataframe\n",
    "import sys\n",
    "import numpy as np\n",
    "import pandas as pd\n",
    "import seaborn as sns\n",
    "import matplotlib.pyplot as plt\n",
    "import dataframe_image as dfi\n",
    "\n",
    "ENDPOINT_URL = \"https://www.orkg.org/triplestore\"\n",
    "\n",
    "PREFIXES =  \"\"\"\n",
    "            PREFIX orkgr: <http://orkg.org/orkg/resource/>\n",
    "            PREFIX orkgc: <http://orkg.org/orkg/class/>\n",
    "            PREFIX orkgp: <http://orkg.org/orkg/predicate/>\n",
    "            PREFIX rdfs: <http://www.w3.org/2000/01/rdf-schema#>\n",
    "            PREFIX xsd: <http://www.w3.org/2001/XMLSchema#>\n",
    "            PREFIX rdf: <http://www.w3.org/1999/02/22-rdf-syntax-ns#>\n",
    "            \"\"\"\n",
    "\n",
    "def retrieve_data(id, query):\n",
    "        \n",
    "        #user_agent = \"WDQS-example Python/%s.%s\" % (sys.version_info[0], sys.version_info[1])\n",
    "\n",
    "        sparql = SPARQLWrapper(ENDPOINT_URL)#, agent=user_agent)\n",
    "        sparql.setQuery(PREFIXES+query)\n",
    "        sparql.setReturnFormat(CSV)\n",
    "        \n",
    "        try:\n",
    "                results = sparql.queryAndConvert()\n",
    "        except Exception as e:\n",
    "                print(e)\n",
    "        \n",
    "        now = datetime.now()\n",
    "        with open('query_' + str(id) + '_data_' + now.strftime('%Y-%m-%d') + '.csv', 'wb') as file:\n",
    "                file.write(results)\n",
    "\n",
    "def explore_data(df):\n",
    "        display('Number of total entries in the dataset: ' + str(df.shape[0]))\n",
    "        display('Number of unique entries in the dataset: ' + str(df.index.nunique()))\n",
    "        display(df.head())\n",
    "        display(df.info())\n",
    "\n",
    "        #Missing value analysis\n",
    "        missing_values = df.isna().sum()\n",
    "        missing_values.plot(kind='barh')\n",
    "        plt.title('Number of missing values per column in the dataset')\n",
    "        plt.xlabel('Number of missing values')\n",
    "        plt.ylabel('Column of the dataset')\n",
    "        plt.savefig('Figures/Missing_values.png', dpi=300)\n",
    "        plt.show()\n",
    "\n",
    "        # Proportion of missing values in the entire data set \n",
    "        data = missing_values / df.shape[0] * 100\n",
    "        display(pd.DataFrame(data, columns=[\"Proportion of missing values\"]).round(2))"
   ]
  },
  {
   "cell_type": "markdown",
   "metadata": {},
   "source": [
    "[Back to top](#top)\n",
    "\n",
    "---"
   ]
  },
  {
   "cell_type": "markdown",
   "metadata": {},
   "source": [
    "<a id='step3'></a>\n",
    "## 3. Analysis of the Competency Questions\n",
    "\n",
    "Below, we present the individual analyses for each answerable competency question. Each analysis follows the same structure:\n",
    "\n",
    "1. Data Selection: Explaining the competency question and the required data for the analysis.\n",
    "2. Data Collection: Executing the specified SPARQL query.\n",
    "3. Data Exploration: Exploring the data, its inclduing cleaning and validation, to prepare the data for data analysis.\n",
    "4. Data Analysis: Analyzing the data and creating visualizations.\n",
    "5. Data Interpretation: Interpreting the data and derive insighta.\n",
    "\n",
    "[Back to top](#top)"
   ]
  },
  {
   "attachments": {},
   "cell_type": "markdown",
   "metadata": {},
   "source": [
    "<a id='q1'></a>\n",
    "### 3.1 How has the number of empirical studies evolved over time?\n",
    "\n",
    "#### <ins>*Data Selection*</ins> \n",
    "\n",
    "*Explanation of the Competency Question*:\n",
    "\n",
    "According to [Sjøberg et al. (2007)](https://ieeexplore.ieee.org/document/4221632), the **\"current\" state of practice (2007)** shows a that there are relatively **few empirical studies**. For the **target state (2020 - 2025)**, [Sjøberg et al. (2007)](https://ieeexplore.ieee.org/document/4221632) envision a **large number of studies**. This predicted change from a few to a large number of empirical studies leads to the corresponding competency question.\n",
    "\n",
    "*Required Data for the Analysis*:\n",
    "\n",
    "We must retrieve all papers with their publication year that use our ORKG template and report an empirical study. However, we need to define what we mean by an empirical study. According to [Empirical Software Engineering Journal](https://www.springer.com/journal/10664), \"*Empirical studies presented here usually involve the collection and analysis of data and experience...*\". For this reason, we define that an empirical study is a study that includes data analysis as a necessary condition to be a study (*Necessity*) and data collection as a sufficient condition to be an empirical study (*Sufficiency*). Thus, a study must always include data analysis and an empirical study must include data collection and data analysis. Reporting on a mere data collection does not constitute a study.\n",
    "\n",
    "The following table summarizes the required data by listing the necessary SPARQL variables and their meaning in relation to the previous explanation of the required data.\n",
    "| SPARQL variables  | Meaning of the variables                           |\n",
    "|-------------------|----------------------------------------------------|\n",
    "| ?paper            | A paper in the ORKG                                |\n",
    "| ?year             | Publication year of a paper                        |\n",
    "| ?contribution     | Description of a paper using our ORKG template     |\n",
    "| ?data_collection  | Reported data collection according to our template |\n",
    "| ?data_analysis    | Reported data analysis according to our template   |\n",
    "\n",
    "[Back to top](#step3)"
   ]
  },
  {
   "cell_type": "markdown",
   "metadata": {},
   "source": [
    "#### <ins>*Data Collection*</ins> \n",
    "Below, we retrieve the required data from the developed body of knowledge of empirical research in RE from the [ORKG](https://www.orkg.org/orkg/) using its [SPARQL endpoint](https://orkg.org/sparql/)."
   ]
  },
  {
   "cell_type": "code",
   "execution_count": null,
   "metadata": {},
   "outputs": [],
   "source": [
    "ID = 1\n",
    "DATE = '2023-01-18'\n",
    "\n",
    "query_1 = \"\"\"\n",
    "        SELECT ?paper, ?year, ?contribution, ?dc_label, ?da_label\n",
    "        WHERE {\n",
    "                ?paper orkgp:P31 ?contribution;\n",
    "                        orkgp:P29 ?year.\n",
    "                ?contribution a orkgc:C27001.\n",
    "                ?paper rdfs:label ?title.\n",
    "                \n",
    "                OPTIONAL{?contribution orkgp:P56008 ?data_collection.\n",
    "                        ?data_collection rdfs:label ?dc_label.}\n",
    "                OPTIONAL{?contribution orkgp:P15124 ?data_analysis.\n",
    "                        ?data_analysis rdfs:label ?da_label. }\n",
    "        }\n",
    "        \"\"\"\n",
    "\n",
    "retrieve_data(ID, query_1)\n",
    "\n",
    "df_query_1 = pd.read_csv('query_'+ str(ID) + '_data_' + DATE + '.csv', encoding='utf-8', encoding_errors='ignore')"
   ]
  },
  {
   "cell_type": "markdown",
   "metadata": {},
   "source": [
    "#### <ins>*Data Exploration*</ins>\n",
    "Below, we explore the retrieved data, including its cleaning and validation, to prepare the data for data analysis."
   ]
  },
  {
   "cell_type": "code",
   "execution_count": null,
   "metadata": {},
   "outputs": [],
   "source": [
    "explore_data(df_query_1)"
   ]
  },
  {
   "cell_type": "code",
   "execution_count": null,
   "metadata": {},
   "outputs": [],
   "source": [
    "df_query_1['dc_label'] = df_query_1['dc_label'].astype('category')\n",
    "df_query_1['da_label'] = df_query_1['da_label'].astype('category')\n",
    "display(df_query_1.info())"
   ]
  },
  {
   "cell_type": "markdown",
   "metadata": {},
   "source": [
    "#### <ins>*Data Analysis*</ins>"
   ]
  },
  {
   "cell_type": "markdown",
   "metadata": {},
   "source": [
    "#### <ins>*Data Interpretation</ins>"
   ]
  },
  {
   "attachments": {},
   "cell_type": "markdown",
   "metadata": {},
   "source": [
    "<a id='q2'></a>\n",
    "### 3.2 How often are which empirical methods used over time?\n",
    "\n",
    "#### <ins>*Data Selection*</ins> \n",
    "\n",
    "*Explanation of the Competency Question*:\n",
    "\n",
    "According to [Sjøberg et al. (2007)](https://ieeexplore.ieee.org/document/4221632), the **\"current\" state of practice (2007)** shows a that there are relatively **few empirical studies**. For the **target state (2020 - 2025)**, [Sjøberg et al. (2007)](https://ieeexplore.ieee.org/document/4221632) envision a **large number of studies [...] using different empirical methods**. This predicted change from a few to a large number of empirical studies using different empirical methods leads to the corresponding competency question.\n",
    "\n",
    "*Required Data for the Analysis*:\n",
    "\n",
    "We must retrieve all papers with their publication year that use our ORKG template and report on the use of empirical methods. According to [Dan](), empirical methods include data collection and data analysis. For this reason, we consider both aspects as empirical method.\n",
    "\n",
    "The following table summarizes the required data by listing the necessary SPARQL variables and their meaning in relation to the previous explanation of the required data.\n",
    "| SPARQL variables  | Meaning of the variables                           |\n",
    "|-------------------|----------------------------------------------------|\n",
    "| ?paper            | A paper in the ORKG                                |\n",
    "| ?year             | Publication year of a paper                        |\n",
    "| ?contribution     | Description of a paper using our ORKG template     |\n",
    "| ?data_collection  | Reported data collection according to our template |\n",
    "| ?data_analysis    | Reported data analysis according to our template   |\n",
    "\n",
    "[Back to top](#step3)"
   ]
  },
  {
   "cell_type": "markdown",
   "metadata": {},
   "source": [
    "#### <ins>*Data Collection*</ins> \n",
    "Below, we retrieve the required data from the developed body of knowledge of empirical research in RE from the [ORKG](https://www.orkg.org/orkg/) using its [SPARQL endpoint](https://orkg.org/sparql/)."
   ]
  },
  {
   "cell_type": "code",
   "execution_count": null,
   "metadata": {},
   "outputs": [],
   "source": [
    "ID = 1\n",
    "DATE = '2023-01-18'\n",
    "\n",
    "query_1 = \"\"\"\n",
    "        SELECT ?paper, ?year, ?contribution, ?dc_label, ?da_label\n",
    "        WHERE {\n",
    "                ?paper orkgp:P31 ?contribution;\n",
    "                        orkgp:P29 ?year.\n",
    "                ?contribution a orkgc:C27001.\n",
    "                ?paper rdfs:label ?title.\n",
    "                \n",
    "                OPTIONAL{?contribution orkgp:P56008 ?data_collection.\n",
    "                        ?data_collection rdfs:label ?dc_label.}\n",
    "                OPTIONAL{?contribution orkgp:P15124 ?data_analysis.\n",
    "                        ?data_analysis rdfs:label ?da_label. }\n",
    "        }\n",
    "        \"\"\"\n",
    "\n",
    "retrieve_data(ID, query_1)\n",
    "\n",
    "df_query_1 = pd.read_csv('query_'+ str(ID) + '_data_' + DATE + '.csv', encoding='utf-8', encoding_errors='ignore')"
   ]
  },
  {
   "cell_type": "markdown",
   "metadata": {},
   "source": [
    "#### <ins>*Data Exploration*</ins>\n",
    "Below, we explore the retrieved data, including its cleaning and validation, to prepare the data for data analysis."
   ]
  },
  {
   "cell_type": "code",
   "execution_count": null,
   "metadata": {},
   "outputs": [],
   "source": [
    "explore_data(df_query_1)"
   ]
  },
  {
   "cell_type": "code",
   "execution_count": null,
   "metadata": {},
   "outputs": [],
   "source": [
    "df_query_1['dc_label'] = df_query_1['dc_label'].astype('category')\n",
    "df_query_1['da_label'] = df_query_1['da_label'].astype('category')\n",
    "display(df_query_1.info())"
   ]
  },
  {
   "cell_type": "markdown",
   "metadata": {},
   "source": [
    "#### <ins>*Data Analysis*</ins>"
   ]
  },
  {
   "cell_type": "markdown",
   "metadata": {},
   "source": [
    "#### <ins>*Data Interpretation</ins>"
   ]
  }
 ],
 "metadata": {
  "kernelspec": {
   "display_name": "Python 3.9.15 ('base')",
   "language": "python",
   "name": "python3"
  },
  "language_info": {
   "codemirror_mode": {
    "name": "ipython",
    "version": 3
   },
   "file_extension": ".py",
   "mimetype": "text/x-python",
   "name": "python",
   "nbconvert_exporter": "python",
   "pygments_lexer": "ipython3",
   "version": "3.9.15"
  },
  "orig_nbformat": 4,
  "vscode": {
   "interpreter": {
    "hash": "16a8259e1791bb0fb9bae0f359302269cb6b9f3eeeb34666ca6d1d1ecd9183a5"
   }
  }
 },
 "nbformat": 4,
 "nbformat_minor": 2
}
